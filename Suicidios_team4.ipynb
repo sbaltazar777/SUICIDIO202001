{
  "nbformat": 4,
  "nbformat_minor": 0,
  "metadata": {
    "colab": {
      "name": "Suicidios_team4.ipynb",
      "provenance": [],
      "collapsed_sections": [
        "OYXrnx6I54K2",
        "dKbS5-LdSRt_",
        "bfNmbSlsCluG"
      ],
      "include_colab_link": true
    },
    "kernelspec": {
      "display_name": "Python 3",
      "name": "python3"
    }
  },
  "cells": [
    {
      "cell_type": "markdown",
      "metadata": {
        "id": "view-in-github",
        "colab_type": "text"
      },
      "source": [
        "<a href=\"https://colab.research.google.com/github/sbaltazar777/SUICIDIO202001/blob/master/Suicidios_team4.ipynb\" target=\"_parent\"><img src=\"https://colab.research.google.com/assets/colab-badge.svg\" alt=\"Open In Colab\"/></a>"
      ]
    },
    {
      "cell_type": "markdown",
      "metadata": {
        "id": "OYXrnx6I54K2"
      },
      "source": [
        "# **MODELO DE INTELIGENCIA ARTIFICIAL PARA IDENTIFICAR PERSONAS CON TENDENCIAS SUICIDAS**"
      ]
    },
    {
      "cell_type": "markdown",
      "metadata": {
        "id": "Ga-jMYiN8xnV"
      },
      "source": [
        "![images.jpg](data:image/jpeg;base64,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)"
      ]
    },
    {
      "cell_type": "code",
      "metadata": {
        "id": "W3YuN4UMqB8H"
      },
      "source": [
        "#importacion de librerias Pandas y Numpy\n",
        "import pandas as pd\n",
        "import numpy as np\n"
      ],
      "execution_count": 113,
      "outputs": []
    },
    {
      "cell_type": "markdown",
      "metadata": {
        "id": "dKbS5-LdSRt_"
      },
      "source": [
        "### **IMPORTACION DEL DATA SET GIT HUB**"
      ]
    },
    {
      "cell_type": "code",
      "metadata": {
        "id": "0CtODE7OqWJ4"
      },
      "source": [
        "#importamos el data set Git Hub\n",
        "db = pd.read_csv(\"https://raw.githubusercontent.com/sbaltazar777/SUICIDIO202001/master/DATA_SUICIDIO.csv\")"
      ],
      "execution_count": 114,
      "outputs": []
    },
    {
      "cell_type": "code",
      "metadata": {
        "id": "ZAo9QLYEq50K",
        "outputId": "2753d7c4-4d9d-456c-f5f6-b4d9b94a2be0",
        "colab": {
          "base_uri": "https://localhost:8080/",
          "height": 0
        }
      },
      "source": [
        "db.head(5)"
      ],
      "execution_count": 115,
      "outputs": [
        {
          "output_type": "execute_result",
          "data": {
            "text/html": [
              "<div>\n",
              "<style scoped>\n",
              "    .dataframe tbody tr th:only-of-type {\n",
              "        vertical-align: middle;\n",
              "    }\n",
              "\n",
              "    .dataframe tbody tr th {\n",
              "        vertical-align: top;\n",
              "    }\n",
              "\n",
              "    .dataframe thead th {\n",
              "        text-align: right;\n",
              "    }\n",
              "</style>\n",
              "<table border=\"1\" class=\"dataframe\">\n",
              "  <thead>\n",
              "    <tr style=\"text-align: right;\">\n",
              "      <th></th>\n",
              "      <th>GENERO</th>\n",
              "      <th>EDAD</th>\n",
              "      <th>PERSONALIDAD</th>\n",
              "      <th>FUMADOR</th>\n",
              "      <th>CONSUMES_FUMAR</th>\n",
              "      <th>ALCOHOL</th>\n",
              "      <th>FRECUENCIA_ALCOHOL</th>\n",
              "      <th>PROBLEMAS</th>\n",
              "      <th>ESTADOS_PADRES</th>\n",
              "      <th>RELACION_PAREJA</th>\n",
              "      <th>SOLEDAD</th>\n",
              "      <th>INSOMIO</th>\n",
              "      <th>DESORDEN_ALIMENTICIO</th>\n",
              "      <th>AUTOLESION</th>\n",
              "      <th>FELIZ</th>\n",
              "      <th>MUERTO</th>\n",
              "    </tr>\n",
              "  </thead>\n",
              "  <tbody>\n",
              "    <tr>\n",
              "      <th>0</th>\n",
              "      <td>Hombre</td>\n",
              "      <td>28</td>\n",
              "      <td>Amistoso</td>\n",
              "      <td>No</td>\n",
              "      <td>Ninguno</td>\n",
              "      <td>No</td>\n",
              "      <td>De vez en cuando</td>\n",
              "      <td>Si</td>\n",
              "      <td>Separados</td>\n",
              "      <td>Si</td>\n",
              "      <td>No</td>\n",
              "      <td>No</td>\n",
              "      <td>Si</td>\n",
              "      <td>Si</td>\n",
              "      <td>Si</td>\n",
              "      <td>Si</td>\n",
              "    </tr>\n",
              "    <tr>\n",
              "      <th>1</th>\n",
              "      <td>Mujer</td>\n",
              "      <td>61</td>\n",
              "      <td>Amistoso</td>\n",
              "      <td>No</td>\n",
              "      <td>Ninguno</td>\n",
              "      <td>No</td>\n",
              "      <td>Nunca</td>\n",
              "      <td>Si</td>\n",
              "      <td>Casados</td>\n",
              "      <td>No</td>\n",
              "      <td>Si</td>\n",
              "      <td>No</td>\n",
              "      <td>Si</td>\n",
              "      <td>No</td>\n",
              "      <td>Si</td>\n",
              "      <td>No</td>\n",
              "    </tr>\n",
              "    <tr>\n",
              "      <th>2</th>\n",
              "      <td>Hombre</td>\n",
              "      <td>24</td>\n",
              "      <td>Amistoso</td>\n",
              "      <td>No</td>\n",
              "      <td>Ninguno</td>\n",
              "      <td>No</td>\n",
              "      <td>Nunca</td>\n",
              "      <td>No</td>\n",
              "      <td>Casados</td>\n",
              "      <td>No</td>\n",
              "      <td>No</td>\n",
              "      <td>No</td>\n",
              "      <td>No</td>\n",
              "      <td>No</td>\n",
              "      <td>Si</td>\n",
              "      <td>No</td>\n",
              "    </tr>\n",
              "    <tr>\n",
              "      <th>3</th>\n",
              "      <td>Mujer</td>\n",
              "      <td>54</td>\n",
              "      <td>Timido</td>\n",
              "      <td>No</td>\n",
              "      <td>Ninguno</td>\n",
              "      <td>No</td>\n",
              "      <td>Nunca</td>\n",
              "      <td>No</td>\n",
              "      <td>Divorciados</td>\n",
              "      <td>No</td>\n",
              "      <td>No</td>\n",
              "      <td>No</td>\n",
              "      <td>No</td>\n",
              "      <td>No</td>\n",
              "      <td>Si</td>\n",
              "      <td>Si</td>\n",
              "    </tr>\n",
              "    <tr>\n",
              "      <th>4</th>\n",
              "      <td>Hombre</td>\n",
              "      <td>43</td>\n",
              "      <td>Amistoso</td>\n",
              "      <td>Si</td>\n",
              "      <td>Cigarrillo</td>\n",
              "      <td>Si</td>\n",
              "      <td>De vez en cuando</td>\n",
              "      <td>No</td>\n",
              "      <td>Separados</td>\n",
              "      <td>Si</td>\n",
              "      <td>No</td>\n",
              "      <td>No</td>\n",
              "      <td>Si</td>\n",
              "      <td>No</td>\n",
              "      <td>Si</td>\n",
              "      <td>No</td>\n",
              "    </tr>\n",
              "  </tbody>\n",
              "</table>\n",
              "</div>"
            ],
            "text/plain": [
              "   GENERO  EDAD PERSONALIDAD  ... AUTOLESION FELIZ MUERTO\n",
              "0  Hombre    28     Amistoso  ...         Si    Si     Si\n",
              "1   Mujer    61     Amistoso  ...         No    Si     No\n",
              "2  Hombre    24     Amistoso  ...         No    Si     No\n",
              "3   Mujer    54       Timido  ...         No    Si     Si\n",
              "4  Hombre    43     Amistoso  ...         No    Si     No\n",
              "\n",
              "[5 rows x 16 columns]"
            ]
          },
          "metadata": {
            "tags": []
          },
          "execution_count": 115
        }
      ]
    },
    {
      "cell_type": "markdown",
      "metadata": {
        "id": "pnONTK7a6HLq"
      },
      "source": [
        "**REEEMPLAZO DE DATOS DE GENERO EN EL DATA SET**\n",
        "\n",
        "1.   MUJER : 1 \n",
        "2.   Hombre : 0\n",
        "\n"
      ]
    },
    {
      "cell_type": "code",
      "metadata": {
        "id": "5sqzld8Nq_em"
      },
      "source": [
        "db[\"GENERO\"].replace([\"Mujer\",\"Hombre\"],[1,0],inplace = True)"
      ],
      "execution_count": 116,
      "outputs": []
    },
    {
      "cell_type": "code",
      "metadata": {
        "id": "hxa5aCogrtng",
        "outputId": "3efd03b9-ce7c-4475-d691-ef9f5d8d4919",
        "colab": {
          "base_uri": "https://localhost:8080/",
          "height": 0
        }
      },
      "source": [
        "db.head(5)"
      ],
      "execution_count": 117,
      "outputs": [
        {
          "output_type": "execute_result",
          "data": {
            "text/html": [
              "<div>\n",
              "<style scoped>\n",
              "    .dataframe tbody tr th:only-of-type {\n",
              "        vertical-align: middle;\n",
              "    }\n",
              "\n",
              "    .dataframe tbody tr th {\n",
              "        vertical-align: top;\n",
              "    }\n",
              "\n",
              "    .dataframe thead th {\n",
              "        text-align: right;\n",
              "    }\n",
              "</style>\n",
              "<table border=\"1\" class=\"dataframe\">\n",
              "  <thead>\n",
              "    <tr style=\"text-align: right;\">\n",
              "      <th></th>\n",
              "      <th>GENERO</th>\n",
              "      <th>EDAD</th>\n",
              "      <th>PERSONALIDAD</th>\n",
              "      <th>FUMADOR</th>\n",
              "      <th>CONSUMES_FUMAR</th>\n",
              "      <th>ALCOHOL</th>\n",
              "      <th>FRECUENCIA_ALCOHOL</th>\n",
              "      <th>PROBLEMAS</th>\n",
              "      <th>ESTADOS_PADRES</th>\n",
              "      <th>RELACION_PAREJA</th>\n",
              "      <th>SOLEDAD</th>\n",
              "      <th>INSOMIO</th>\n",
              "      <th>DESORDEN_ALIMENTICIO</th>\n",
              "      <th>AUTOLESION</th>\n",
              "      <th>FELIZ</th>\n",
              "      <th>MUERTO</th>\n",
              "    </tr>\n",
              "  </thead>\n",
              "  <tbody>\n",
              "    <tr>\n",
              "      <th>0</th>\n",
              "      <td>0</td>\n",
              "      <td>28</td>\n",
              "      <td>Amistoso</td>\n",
              "      <td>No</td>\n",
              "      <td>Ninguno</td>\n",
              "      <td>No</td>\n",
              "      <td>De vez en cuando</td>\n",
              "      <td>Si</td>\n",
              "      <td>Separados</td>\n",
              "      <td>Si</td>\n",
              "      <td>No</td>\n",
              "      <td>No</td>\n",
              "      <td>Si</td>\n",
              "      <td>Si</td>\n",
              "      <td>Si</td>\n",
              "      <td>Si</td>\n",
              "    </tr>\n",
              "    <tr>\n",
              "      <th>1</th>\n",
              "      <td>1</td>\n",
              "      <td>61</td>\n",
              "      <td>Amistoso</td>\n",
              "      <td>No</td>\n",
              "      <td>Ninguno</td>\n",
              "      <td>No</td>\n",
              "      <td>Nunca</td>\n",
              "      <td>Si</td>\n",
              "      <td>Casados</td>\n",
              "      <td>No</td>\n",
              "      <td>Si</td>\n",
              "      <td>No</td>\n",
              "      <td>Si</td>\n",
              "      <td>No</td>\n",
              "      <td>Si</td>\n",
              "      <td>No</td>\n",
              "    </tr>\n",
              "    <tr>\n",
              "      <th>2</th>\n",
              "      <td>0</td>\n",
              "      <td>24</td>\n",
              "      <td>Amistoso</td>\n",
              "      <td>No</td>\n",
              "      <td>Ninguno</td>\n",
              "      <td>No</td>\n",
              "      <td>Nunca</td>\n",
              "      <td>No</td>\n",
              "      <td>Casados</td>\n",
              "      <td>No</td>\n",
              "      <td>No</td>\n",
              "      <td>No</td>\n",
              "      <td>No</td>\n",
              "      <td>No</td>\n",
              "      <td>Si</td>\n",
              "      <td>No</td>\n",
              "    </tr>\n",
              "    <tr>\n",
              "      <th>3</th>\n",
              "      <td>1</td>\n",
              "      <td>54</td>\n",
              "      <td>Timido</td>\n",
              "      <td>No</td>\n",
              "      <td>Ninguno</td>\n",
              "      <td>No</td>\n",
              "      <td>Nunca</td>\n",
              "      <td>No</td>\n",
              "      <td>Divorciados</td>\n",
              "      <td>No</td>\n",
              "      <td>No</td>\n",
              "      <td>No</td>\n",
              "      <td>No</td>\n",
              "      <td>No</td>\n",
              "      <td>Si</td>\n",
              "      <td>Si</td>\n",
              "    </tr>\n",
              "    <tr>\n",
              "      <th>4</th>\n",
              "      <td>0</td>\n",
              "      <td>43</td>\n",
              "      <td>Amistoso</td>\n",
              "      <td>Si</td>\n",
              "      <td>Cigarrillo</td>\n",
              "      <td>Si</td>\n",
              "      <td>De vez en cuando</td>\n",
              "      <td>No</td>\n",
              "      <td>Separados</td>\n",
              "      <td>Si</td>\n",
              "      <td>No</td>\n",
              "      <td>No</td>\n",
              "      <td>Si</td>\n",
              "      <td>No</td>\n",
              "      <td>Si</td>\n",
              "      <td>No</td>\n",
              "    </tr>\n",
              "  </tbody>\n",
              "</table>\n",
              "</div>"
            ],
            "text/plain": [
              "   GENERO  EDAD PERSONALIDAD  ... AUTOLESION FELIZ MUERTO\n",
              "0       0    28     Amistoso  ...         Si    Si     Si\n",
              "1       1    61     Amistoso  ...         No    Si     No\n",
              "2       0    24     Amistoso  ...         No    Si     No\n",
              "3       1    54       Timido  ...         No    Si     Si\n",
              "4       0    43     Amistoso  ...         No    Si     No\n",
              "\n",
              "[5 rows x 16 columns]"
            ]
          },
          "metadata": {
            "tags": []
          },
          "execution_count": 117
        }
      ]
    },
    {
      "cell_type": "markdown",
      "metadata": {
        "id": "RKgQ8-Nu6ZVt"
      },
      "source": [
        "**REEEMPLAZO DE DATOS DE LA VARIABLE DE PERSONALIDAD**\n",
        "\n",
        "1.   Amistoso = 1\n",
        "2.   Timido = 0\n",
        "\n"
      ]
    },
    {
      "cell_type": "code",
      "metadata": {
        "id": "zafI4vPqryM1"
      },
      "source": [
        "db[\"PERSONALIDAD\"].replace([\"Amistoso\",\"Timido\"],[1,0],inplace = True)"
      ],
      "execution_count": 118,
      "outputs": []
    },
    {
      "cell_type": "code",
      "metadata": {
        "id": "g-JJROIor3LB",
        "outputId": "03b7ce63-0ccb-4012-8b9a-65bf4989b59c",
        "colab": {
          "base_uri": "https://localhost:8080/",
          "height": 0
        }
      },
      "source": [
        "db.head()"
      ],
      "execution_count": 119,
      "outputs": [
        {
          "output_type": "execute_result",
          "data": {
            "text/html": [
              "<div>\n",
              "<style scoped>\n",
              "    .dataframe tbody tr th:only-of-type {\n",
              "        vertical-align: middle;\n",
              "    }\n",
              "\n",
              "    .dataframe tbody tr th {\n",
              "        vertical-align: top;\n",
              "    }\n",
              "\n",
              "    .dataframe thead th {\n",
              "        text-align: right;\n",
              "    }\n",
              "</style>\n",
              "<table border=\"1\" class=\"dataframe\">\n",
              "  <thead>\n",
              "    <tr style=\"text-align: right;\">\n",
              "      <th></th>\n",
              "      <th>GENERO</th>\n",
              "      <th>EDAD</th>\n",
              "      <th>PERSONALIDAD</th>\n",
              "      <th>FUMADOR</th>\n",
              "      <th>CONSUMES_FUMAR</th>\n",
              "      <th>ALCOHOL</th>\n",
              "      <th>FRECUENCIA_ALCOHOL</th>\n",
              "      <th>PROBLEMAS</th>\n",
              "      <th>ESTADOS_PADRES</th>\n",
              "      <th>RELACION_PAREJA</th>\n",
              "      <th>SOLEDAD</th>\n",
              "      <th>INSOMIO</th>\n",
              "      <th>DESORDEN_ALIMENTICIO</th>\n",
              "      <th>AUTOLESION</th>\n",
              "      <th>FELIZ</th>\n",
              "      <th>MUERTO</th>\n",
              "    </tr>\n",
              "  </thead>\n",
              "  <tbody>\n",
              "    <tr>\n",
              "      <th>0</th>\n",
              "      <td>0</td>\n",
              "      <td>28</td>\n",
              "      <td>1</td>\n",
              "      <td>No</td>\n",
              "      <td>Ninguno</td>\n",
              "      <td>No</td>\n",
              "      <td>De vez en cuando</td>\n",
              "      <td>Si</td>\n",
              "      <td>Separados</td>\n",
              "      <td>Si</td>\n",
              "      <td>No</td>\n",
              "      <td>No</td>\n",
              "      <td>Si</td>\n",
              "      <td>Si</td>\n",
              "      <td>Si</td>\n",
              "      <td>Si</td>\n",
              "    </tr>\n",
              "    <tr>\n",
              "      <th>1</th>\n",
              "      <td>1</td>\n",
              "      <td>61</td>\n",
              "      <td>1</td>\n",
              "      <td>No</td>\n",
              "      <td>Ninguno</td>\n",
              "      <td>No</td>\n",
              "      <td>Nunca</td>\n",
              "      <td>Si</td>\n",
              "      <td>Casados</td>\n",
              "      <td>No</td>\n",
              "      <td>Si</td>\n",
              "      <td>No</td>\n",
              "      <td>Si</td>\n",
              "      <td>No</td>\n",
              "      <td>Si</td>\n",
              "      <td>No</td>\n",
              "    </tr>\n",
              "    <tr>\n",
              "      <th>2</th>\n",
              "      <td>0</td>\n",
              "      <td>24</td>\n",
              "      <td>1</td>\n",
              "      <td>No</td>\n",
              "      <td>Ninguno</td>\n",
              "      <td>No</td>\n",
              "      <td>Nunca</td>\n",
              "      <td>No</td>\n",
              "      <td>Casados</td>\n",
              "      <td>No</td>\n",
              "      <td>No</td>\n",
              "      <td>No</td>\n",
              "      <td>No</td>\n",
              "      <td>No</td>\n",
              "      <td>Si</td>\n",
              "      <td>No</td>\n",
              "    </tr>\n",
              "    <tr>\n",
              "      <th>3</th>\n",
              "      <td>1</td>\n",
              "      <td>54</td>\n",
              "      <td>0</td>\n",
              "      <td>No</td>\n",
              "      <td>Ninguno</td>\n",
              "      <td>No</td>\n",
              "      <td>Nunca</td>\n",
              "      <td>No</td>\n",
              "      <td>Divorciados</td>\n",
              "      <td>No</td>\n",
              "      <td>No</td>\n",
              "      <td>No</td>\n",
              "      <td>No</td>\n",
              "      <td>No</td>\n",
              "      <td>Si</td>\n",
              "      <td>Si</td>\n",
              "    </tr>\n",
              "    <tr>\n",
              "      <th>4</th>\n",
              "      <td>0</td>\n",
              "      <td>43</td>\n",
              "      <td>1</td>\n",
              "      <td>Si</td>\n",
              "      <td>Cigarrillo</td>\n",
              "      <td>Si</td>\n",
              "      <td>De vez en cuando</td>\n",
              "      <td>No</td>\n",
              "      <td>Separados</td>\n",
              "      <td>Si</td>\n",
              "      <td>No</td>\n",
              "      <td>No</td>\n",
              "      <td>Si</td>\n",
              "      <td>No</td>\n",
              "      <td>Si</td>\n",
              "      <td>No</td>\n",
              "    </tr>\n",
              "  </tbody>\n",
              "</table>\n",
              "</div>"
            ],
            "text/plain": [
              "   GENERO  EDAD  PERSONALIDAD  ... AUTOLESION FELIZ MUERTO\n",
              "0       0    28             1  ...         Si    Si     Si\n",
              "1       1    61             1  ...         No    Si     No\n",
              "2       0    24             1  ...         No    Si     No\n",
              "3       1    54             0  ...         No    Si     Si\n",
              "4       0    43             1  ...         No    Si     No\n",
              "\n",
              "[5 rows x 16 columns]"
            ]
          },
          "metadata": {
            "tags": []
          },
          "execution_count": 119
        }
      ]
    },
    {
      "cell_type": "markdown",
      "metadata": {
        "id": "Vcx6hsw_7cBZ"
      },
      "source": [
        "**REEEMPLAZO DE DATOS DE LA VARIABLE DEL CONSUMO DE ALCOHOL**\n",
        "\n",
        "\n",
        "\n",
        "1.   Si = 1\n",
        "2.   No = 0\n",
        "\n"
      ]
    },
    {
      "cell_type": "code",
      "metadata": {
        "id": "9-Bty728r-ba"
      },
      "source": [
        "db[\"ALCOHOL\"].replace([\"Si\",\"No\"],[1,0],inplace = True)"
      ],
      "execution_count": 120,
      "outputs": []
    },
    {
      "cell_type": "code",
      "metadata": {
        "id": "e0L54egAs9Q3",
        "outputId": "923e478e-f3c5-47da-f2d7-a036568a1c7b",
        "colab": {
          "base_uri": "https://localhost:8080/",
          "height": 0
        }
      },
      "source": [
        "db.head()"
      ],
      "execution_count": 121,
      "outputs": [
        {
          "output_type": "execute_result",
          "data": {
            "text/html": [
              "<div>\n",
              "<style scoped>\n",
              "    .dataframe tbody tr th:only-of-type {\n",
              "        vertical-align: middle;\n",
              "    }\n",
              "\n",
              "    .dataframe tbody tr th {\n",
              "        vertical-align: top;\n",
              "    }\n",
              "\n",
              "    .dataframe thead th {\n",
              "        text-align: right;\n",
              "    }\n",
              "</style>\n",
              "<table border=\"1\" class=\"dataframe\">\n",
              "  <thead>\n",
              "    <tr style=\"text-align: right;\">\n",
              "      <th></th>\n",
              "      <th>GENERO</th>\n",
              "      <th>EDAD</th>\n",
              "      <th>PERSONALIDAD</th>\n",
              "      <th>FUMADOR</th>\n",
              "      <th>CONSUMES_FUMAR</th>\n",
              "      <th>ALCOHOL</th>\n",
              "      <th>FRECUENCIA_ALCOHOL</th>\n",
              "      <th>PROBLEMAS</th>\n",
              "      <th>ESTADOS_PADRES</th>\n",
              "      <th>RELACION_PAREJA</th>\n",
              "      <th>SOLEDAD</th>\n",
              "      <th>INSOMIO</th>\n",
              "      <th>DESORDEN_ALIMENTICIO</th>\n",
              "      <th>AUTOLESION</th>\n",
              "      <th>FELIZ</th>\n",
              "      <th>MUERTO</th>\n",
              "    </tr>\n",
              "  </thead>\n",
              "  <tbody>\n",
              "    <tr>\n",
              "      <th>0</th>\n",
              "      <td>0</td>\n",
              "      <td>28</td>\n",
              "      <td>1</td>\n",
              "      <td>No</td>\n",
              "      <td>Ninguno</td>\n",
              "      <td>0</td>\n",
              "      <td>De vez en cuando</td>\n",
              "      <td>Si</td>\n",
              "      <td>Separados</td>\n",
              "      <td>Si</td>\n",
              "      <td>No</td>\n",
              "      <td>No</td>\n",
              "      <td>Si</td>\n",
              "      <td>Si</td>\n",
              "      <td>Si</td>\n",
              "      <td>Si</td>\n",
              "    </tr>\n",
              "    <tr>\n",
              "      <th>1</th>\n",
              "      <td>1</td>\n",
              "      <td>61</td>\n",
              "      <td>1</td>\n",
              "      <td>No</td>\n",
              "      <td>Ninguno</td>\n",
              "      <td>0</td>\n",
              "      <td>Nunca</td>\n",
              "      <td>Si</td>\n",
              "      <td>Casados</td>\n",
              "      <td>No</td>\n",
              "      <td>Si</td>\n",
              "      <td>No</td>\n",
              "      <td>Si</td>\n",
              "      <td>No</td>\n",
              "      <td>Si</td>\n",
              "      <td>No</td>\n",
              "    </tr>\n",
              "    <tr>\n",
              "      <th>2</th>\n",
              "      <td>0</td>\n",
              "      <td>24</td>\n",
              "      <td>1</td>\n",
              "      <td>No</td>\n",
              "      <td>Ninguno</td>\n",
              "      <td>0</td>\n",
              "      <td>Nunca</td>\n",
              "      <td>No</td>\n",
              "      <td>Casados</td>\n",
              "      <td>No</td>\n",
              "      <td>No</td>\n",
              "      <td>No</td>\n",
              "      <td>No</td>\n",
              "      <td>No</td>\n",
              "      <td>Si</td>\n",
              "      <td>No</td>\n",
              "    </tr>\n",
              "    <tr>\n",
              "      <th>3</th>\n",
              "      <td>1</td>\n",
              "      <td>54</td>\n",
              "      <td>0</td>\n",
              "      <td>No</td>\n",
              "      <td>Ninguno</td>\n",
              "      <td>0</td>\n",
              "      <td>Nunca</td>\n",
              "      <td>No</td>\n",
              "      <td>Divorciados</td>\n",
              "      <td>No</td>\n",
              "      <td>No</td>\n",
              "      <td>No</td>\n",
              "      <td>No</td>\n",
              "      <td>No</td>\n",
              "      <td>Si</td>\n",
              "      <td>Si</td>\n",
              "    </tr>\n",
              "    <tr>\n",
              "      <th>4</th>\n",
              "      <td>0</td>\n",
              "      <td>43</td>\n",
              "      <td>1</td>\n",
              "      <td>Si</td>\n",
              "      <td>Cigarrillo</td>\n",
              "      <td>1</td>\n",
              "      <td>De vez en cuando</td>\n",
              "      <td>No</td>\n",
              "      <td>Separados</td>\n",
              "      <td>Si</td>\n",
              "      <td>No</td>\n",
              "      <td>No</td>\n",
              "      <td>Si</td>\n",
              "      <td>No</td>\n",
              "      <td>Si</td>\n",
              "      <td>No</td>\n",
              "    </tr>\n",
              "  </tbody>\n",
              "</table>\n",
              "</div>"
            ],
            "text/plain": [
              "   GENERO  EDAD  PERSONALIDAD  ... AUTOLESION FELIZ  MUERTO\n",
              "0       0    28             1  ...         Si    Si      Si\n",
              "1       1    61             1  ...         No    Si      No\n",
              "2       0    24             1  ...         No    Si      No\n",
              "3       1    54             0  ...         No    Si      Si\n",
              "4       0    43             1  ...         No    Si      No\n",
              "\n",
              "[5 rows x 16 columns]"
            ]
          },
          "metadata": {
            "tags": []
          },
          "execution_count": 121
        }
      ]
    },
    {
      "cell_type": "markdown",
      "metadata": {
        "id": "_pz1LjGw7qZK"
      },
      "source": [
        "**REEEMPLAZO DE DATOS DE LA VARIABLE FUMADOR**\n",
        "\n",
        "*   SI : 1\n",
        "*   NO : \n",
        "\n",
        "**REEEMPLAZO DE DATOS DE LA VARIABLE PROBLEMAS**\n",
        "\n",
        "*   SI : 1\n",
        "*   NO : 0\n",
        "\n"
      ]
    },
    {
      "cell_type": "code",
      "metadata": {
        "id": "J6cxcMvutOF1"
      },
      "source": [
        "db[\"FUMADOR\"].replace([\"Si\",\"No\"],[1,0],inplace = True)\n",
        "db[\"PROBLEMAS\"].replace([\"Si\",\"No\"],[1,0],inplace = True)\n",
        "\n"
      ],
      "execution_count": 122,
      "outputs": []
    },
    {
      "cell_type": "markdown",
      "metadata": {
        "id": "a3RqLkEG9iwg"
      },
      "source": [
        "**REEEMPLAZO DE DATOS DE LA VARIABLE RELACION PAREJA**\n",
        "\n",
        "*   SI : 1\n",
        "*   NO : \n",
        "\n",
        "**REEEMPLAZO DE DATOS DE LA VARIABLE SOLEDAD**\n",
        "\n",
        "*   SI : 1\n",
        "*   NO : 0\n"
      ]
    },
    {
      "cell_type": "code",
      "metadata": {
        "id": "oseH6Qg98ZyC"
      },
      "source": [
        "db[\"RELACION_PAREJA\"].replace([\"Si\",\"No\"],[1,0],inplace = True)\n",
        "db[\"SOLEDAD\"].replace([\"Si\",\"No\"],[1,0],inplace = True)\n"
      ],
      "execution_count": 123,
      "outputs": []
    },
    {
      "cell_type": "markdown",
      "metadata": {
        "id": "3eQd9La79uwb"
      },
      "source": [
        "**REEEMPLAZO DE DATOS DE LA VARIABLE INSOMIO**\n",
        "\n",
        "*   SI : 1\n",
        "*   NO : 0\n",
        "\n",
        "**REEEMPLAZO DE DATOS DE LA VARIABLE DESORDEN_ALIMENTICIO**\n",
        "\n",
        "*   SI : 1\n",
        "*   NO : 0\n"
      ]
    },
    {
      "cell_type": "code",
      "metadata": {
        "id": "bXGhGfYG8cxe"
      },
      "source": [
        "db[\"INSOMIO\"].replace([\"Si\",\"No\"],[1,0],inplace = True)\n",
        "db[\"DESORDEN_ALIMENTICIO\"].replace([\"Si\",\"No\"],[1,0],inplace = True)\n"
      ],
      "execution_count": 124,
      "outputs": []
    },
    {
      "cell_type": "markdown",
      "metadata": {
        "id": "WMIkkroH935f"
      },
      "source": [
        "**REEEMPLAZO DE DATOS DE LA VARIABLE AUTOLESION**\n",
        "\n",
        "*   SI : 1\n",
        "*   NO : 0\n",
        "\n",
        "**REEEMPLAZO DE DATOS DE LA VARIABLE FELIZ**\n",
        "\n",
        "*   SI : 1\n",
        "*   NO : 0\n",
        "\n",
        "**REEEMPLAZO DE DATOS DE LA VARIABLE MUERTO**\n",
        "\n",
        "*   SI : 1\n",
        "*   NO : 0\n"
      ]
    },
    {
      "cell_type": "code",
      "metadata": {
        "id": "U45u-X-Q8ebQ"
      },
      "source": [
        "db[\"AUTOLESION\"].replace([\"Si\",\"No\"],[1,0],inplace = True)\n",
        "db[\"FELIZ\"].replace([\"Si\",\"No\"],[1,0],inplace = True)\n",
        "db[\"MUERTO\"].replace([\"Si\",\"No\"],[1,0],inplace = True)"
      ],
      "execution_count": 125,
      "outputs": []
    },
    {
      "cell_type": "code",
      "metadata": {
        "id": "xsx3b2lRtRE4",
        "outputId": "8b84d289-dbb2-463c-f574-998eaa0acf09",
        "colab": {
          "base_uri": "https://localhost:8080/",
          "height": 0
        }
      },
      "source": [
        "db.head()"
      ],
      "execution_count": 126,
      "outputs": [
        {
          "output_type": "execute_result",
          "data": {
            "text/html": [
              "<div>\n",
              "<style scoped>\n",
              "    .dataframe tbody tr th:only-of-type {\n",
              "        vertical-align: middle;\n",
              "    }\n",
              "\n",
              "    .dataframe tbody tr th {\n",
              "        vertical-align: top;\n",
              "    }\n",
              "\n",
              "    .dataframe thead th {\n",
              "        text-align: right;\n",
              "    }\n",
              "</style>\n",
              "<table border=\"1\" class=\"dataframe\">\n",
              "  <thead>\n",
              "    <tr style=\"text-align: right;\">\n",
              "      <th></th>\n",
              "      <th>GENERO</th>\n",
              "      <th>EDAD</th>\n",
              "      <th>PERSONALIDAD</th>\n",
              "      <th>FUMADOR</th>\n",
              "      <th>CONSUMES_FUMAR</th>\n",
              "      <th>ALCOHOL</th>\n",
              "      <th>FRECUENCIA_ALCOHOL</th>\n",
              "      <th>PROBLEMAS</th>\n",
              "      <th>ESTADOS_PADRES</th>\n",
              "      <th>RELACION_PAREJA</th>\n",
              "      <th>SOLEDAD</th>\n",
              "      <th>INSOMIO</th>\n",
              "      <th>DESORDEN_ALIMENTICIO</th>\n",
              "      <th>AUTOLESION</th>\n",
              "      <th>FELIZ</th>\n",
              "      <th>MUERTO</th>\n",
              "    </tr>\n",
              "  </thead>\n",
              "  <tbody>\n",
              "    <tr>\n",
              "      <th>0</th>\n",
              "      <td>0</td>\n",
              "      <td>28</td>\n",
              "      <td>1</td>\n",
              "      <td>0</td>\n",
              "      <td>Ninguno</td>\n",
              "      <td>0</td>\n",
              "      <td>De vez en cuando</td>\n",
              "      <td>1</td>\n",
              "      <td>Separados</td>\n",
              "      <td>1</td>\n",
              "      <td>0</td>\n",
              "      <td>0</td>\n",
              "      <td>1</td>\n",
              "      <td>1</td>\n",
              "      <td>1</td>\n",
              "      <td>1</td>\n",
              "    </tr>\n",
              "    <tr>\n",
              "      <th>1</th>\n",
              "      <td>1</td>\n",
              "      <td>61</td>\n",
              "      <td>1</td>\n",
              "      <td>0</td>\n",
              "      <td>Ninguno</td>\n",
              "      <td>0</td>\n",
              "      <td>Nunca</td>\n",
              "      <td>1</td>\n",
              "      <td>Casados</td>\n",
              "      <td>0</td>\n",
              "      <td>1</td>\n",
              "      <td>0</td>\n",
              "      <td>1</td>\n",
              "      <td>0</td>\n",
              "      <td>1</td>\n",
              "      <td>0</td>\n",
              "    </tr>\n",
              "    <tr>\n",
              "      <th>2</th>\n",
              "      <td>0</td>\n",
              "      <td>24</td>\n",
              "      <td>1</td>\n",
              "      <td>0</td>\n",
              "      <td>Ninguno</td>\n",
              "      <td>0</td>\n",
              "      <td>Nunca</td>\n",
              "      <td>0</td>\n",
              "      <td>Casados</td>\n",
              "      <td>0</td>\n",
              "      <td>0</td>\n",
              "      <td>0</td>\n",
              "      <td>0</td>\n",
              "      <td>0</td>\n",
              "      <td>1</td>\n",
              "      <td>0</td>\n",
              "    </tr>\n",
              "    <tr>\n",
              "      <th>3</th>\n",
              "      <td>1</td>\n",
              "      <td>54</td>\n",
              "      <td>0</td>\n",
              "      <td>0</td>\n",
              "      <td>Ninguno</td>\n",
              "      <td>0</td>\n",
              "      <td>Nunca</td>\n",
              "      <td>0</td>\n",
              "      <td>Divorciados</td>\n",
              "      <td>0</td>\n",
              "      <td>0</td>\n",
              "      <td>0</td>\n",
              "      <td>0</td>\n",
              "      <td>0</td>\n",
              "      <td>1</td>\n",
              "      <td>1</td>\n",
              "    </tr>\n",
              "    <tr>\n",
              "      <th>4</th>\n",
              "      <td>0</td>\n",
              "      <td>43</td>\n",
              "      <td>1</td>\n",
              "      <td>1</td>\n",
              "      <td>Cigarrillo</td>\n",
              "      <td>1</td>\n",
              "      <td>De vez en cuando</td>\n",
              "      <td>0</td>\n",
              "      <td>Separados</td>\n",
              "      <td>1</td>\n",
              "      <td>0</td>\n",
              "      <td>0</td>\n",
              "      <td>1</td>\n",
              "      <td>0</td>\n",
              "      <td>1</td>\n",
              "      <td>0</td>\n",
              "    </tr>\n",
              "  </tbody>\n",
              "</table>\n",
              "</div>"
            ],
            "text/plain": [
              "   GENERO  EDAD  PERSONALIDAD  ...  AUTOLESION FELIZ  MUERTO\n",
              "0       0    28             1  ...           1     1       1\n",
              "1       1    61             1  ...           0     1       0\n",
              "2       0    24             1  ...           0     1       0\n",
              "3       1    54             0  ...           0     1       1\n",
              "4       0    43             1  ...           0     1       0\n",
              "\n",
              "[5 rows x 16 columns]"
            ]
          },
          "metadata": {
            "tags": []
          },
          "execution_count": 126
        }
      ]
    },
    {
      "cell_type": "markdown",
      "metadata": {
        "id": "eF3peE9_uzqp"
      },
      "source": [
        "**REEEMPLAZO DE DATOS DE LA VARIABLE TIPO DE PRODUCTO QUE FUMA**\n",
        "\n",
        "1.   Ninguno = 0\n",
        "2.   Cigarrillo = 1\n",
        "1.   Marihuana = 2\n",
        "2.   Vapes = 3\n",
        "1.   Shisha =4\n",
        "\n",
        "**REEEMPLAZO DE DATOS DE LA VARIABLE FRECUENCIA_ALCOHOL**\n",
        "\n",
        "1.   Nunca = 0\n",
        "2.   De vez en cuando = 1\n",
        "1.   Mensualmente = 2 \n",
        "2.   Semanalmente = 3\n",
        "1.   Diariamente = 4\n",
        "\n"
      ]
    },
    {
      "cell_type": "code",
      "metadata": {
        "id": "AAeMZZCLuD6B"
      },
      "source": [
        "db[\"CONSUMES_FUMAR\"].replace([\"Ninguno\",\n",
        "                                \"Cigarrillo\",\n",
        "                                \"Marihuana\",\n",
        "                                \"Vapes\",\n",
        "                                \"Shisha\"],[0,1,2,3,4],inplace = True)\n",
        "\n",
        "db[\"FRECUENCIA_ALCOHOL\"].replace([\"Nunca\",\n",
        "                                \"De vez en cuando\",\n",
        "                                \"Mensualmente\",\n",
        "                                \"Semanalmente\",\n",
        "                                \"Diariamente\"],[0,1,2,3,4],inplace = True)"
      ],
      "execution_count": 127,
      "outputs": []
    },
    {
      "cell_type": "code",
      "metadata": {
        "id": "xuiZ2cPGv4gv",
        "outputId": "1e632dda-17d3-4089-9eee-7c72ac03ec6d",
        "colab": {
          "base_uri": "https://localhost:8080/",
          "height": 0
        }
      },
      "source": [
        "db.head()"
      ],
      "execution_count": 128,
      "outputs": [
        {
          "output_type": "execute_result",
          "data": {
            "text/html": [
              "<div>\n",
              "<style scoped>\n",
              "    .dataframe tbody tr th:only-of-type {\n",
              "        vertical-align: middle;\n",
              "    }\n",
              "\n",
              "    .dataframe tbody tr th {\n",
              "        vertical-align: top;\n",
              "    }\n",
              "\n",
              "    .dataframe thead th {\n",
              "        text-align: right;\n",
              "    }\n",
              "</style>\n",
              "<table border=\"1\" class=\"dataframe\">\n",
              "  <thead>\n",
              "    <tr style=\"text-align: right;\">\n",
              "      <th></th>\n",
              "      <th>GENERO</th>\n",
              "      <th>EDAD</th>\n",
              "      <th>PERSONALIDAD</th>\n",
              "      <th>FUMADOR</th>\n",
              "      <th>CONSUMES_FUMAR</th>\n",
              "      <th>ALCOHOL</th>\n",
              "      <th>FRECUENCIA_ALCOHOL</th>\n",
              "      <th>PROBLEMAS</th>\n",
              "      <th>ESTADOS_PADRES</th>\n",
              "      <th>RELACION_PAREJA</th>\n",
              "      <th>SOLEDAD</th>\n",
              "      <th>INSOMIO</th>\n",
              "      <th>DESORDEN_ALIMENTICIO</th>\n",
              "      <th>AUTOLESION</th>\n",
              "      <th>FELIZ</th>\n",
              "      <th>MUERTO</th>\n",
              "    </tr>\n",
              "  </thead>\n",
              "  <tbody>\n",
              "    <tr>\n",
              "      <th>0</th>\n",
              "      <td>0</td>\n",
              "      <td>28</td>\n",
              "      <td>1</td>\n",
              "      <td>0</td>\n",
              "      <td>0</td>\n",
              "      <td>0</td>\n",
              "      <td>1</td>\n",
              "      <td>1</td>\n",
              "      <td>Separados</td>\n",
              "      <td>1</td>\n",
              "      <td>0</td>\n",
              "      <td>0</td>\n",
              "      <td>1</td>\n",
              "      <td>1</td>\n",
              "      <td>1</td>\n",
              "      <td>1</td>\n",
              "    </tr>\n",
              "    <tr>\n",
              "      <th>1</th>\n",
              "      <td>1</td>\n",
              "      <td>61</td>\n",
              "      <td>1</td>\n",
              "      <td>0</td>\n",
              "      <td>0</td>\n",
              "      <td>0</td>\n",
              "      <td>0</td>\n",
              "      <td>1</td>\n",
              "      <td>Casados</td>\n",
              "      <td>0</td>\n",
              "      <td>1</td>\n",
              "      <td>0</td>\n",
              "      <td>1</td>\n",
              "      <td>0</td>\n",
              "      <td>1</td>\n",
              "      <td>0</td>\n",
              "    </tr>\n",
              "    <tr>\n",
              "      <th>2</th>\n",
              "      <td>0</td>\n",
              "      <td>24</td>\n",
              "      <td>1</td>\n",
              "      <td>0</td>\n",
              "      <td>0</td>\n",
              "      <td>0</td>\n",
              "      <td>0</td>\n",
              "      <td>0</td>\n",
              "      <td>Casados</td>\n",
              "      <td>0</td>\n",
              "      <td>0</td>\n",
              "      <td>0</td>\n",
              "      <td>0</td>\n",
              "      <td>0</td>\n",
              "      <td>1</td>\n",
              "      <td>0</td>\n",
              "    </tr>\n",
              "    <tr>\n",
              "      <th>3</th>\n",
              "      <td>1</td>\n",
              "      <td>54</td>\n",
              "      <td>0</td>\n",
              "      <td>0</td>\n",
              "      <td>0</td>\n",
              "      <td>0</td>\n",
              "      <td>0</td>\n",
              "      <td>0</td>\n",
              "      <td>Divorciados</td>\n",
              "      <td>0</td>\n",
              "      <td>0</td>\n",
              "      <td>0</td>\n",
              "      <td>0</td>\n",
              "      <td>0</td>\n",
              "      <td>1</td>\n",
              "      <td>1</td>\n",
              "    </tr>\n",
              "    <tr>\n",
              "      <th>4</th>\n",
              "      <td>0</td>\n",
              "      <td>43</td>\n",
              "      <td>1</td>\n",
              "      <td>1</td>\n",
              "      <td>1</td>\n",
              "      <td>1</td>\n",
              "      <td>1</td>\n",
              "      <td>0</td>\n",
              "      <td>Separados</td>\n",
              "      <td>1</td>\n",
              "      <td>0</td>\n",
              "      <td>0</td>\n",
              "      <td>1</td>\n",
              "      <td>0</td>\n",
              "      <td>1</td>\n",
              "      <td>0</td>\n",
              "    </tr>\n",
              "  </tbody>\n",
              "</table>\n",
              "</div>"
            ],
            "text/plain": [
              "   GENERO  EDAD  PERSONALIDAD  ...  AUTOLESION  FELIZ  MUERTO\n",
              "0       0    28             1  ...           1      1       1\n",
              "1       1    61             1  ...           0      1       0\n",
              "2       0    24             1  ...           0      1       0\n",
              "3       1    54             0  ...           0      1       1\n",
              "4       0    43             1  ...           0      1       0\n",
              "\n",
              "[5 rows x 16 columns]"
            ]
          },
          "metadata": {
            "tags": []
          },
          "execution_count": 128
        }
      ]
    },
    {
      "cell_type": "markdown",
      "metadata": {
        "id": "GwkVPlvbxBPO"
      },
      "source": [
        "**REEEMPLAZO DE DATOS DE LA VARIABLE ESTADO_PADRES**\n",
        "\n",
        "1.   Casados = 0 \n",
        "2.   Separados = 1\n",
        "1.   Divorciados = 2\n",
        "2.   Viudos = 3\n",
        "1.   Otro = 4\n"
      ]
    },
    {
      "cell_type": "code",
      "metadata": {
        "id": "g6gQX-G3wRY5"
      },
      "source": [
        "db[\"ESTADOS_PADRES\"].replace([\"Casados\",\n",
        "                                \"Separados\",\n",
        "                                \"Divorciados\",\n",
        "                                \"Viudos\",\n",
        "                                \"Otro\"],[0,1,2,3,4],inplace = True)"
      ],
      "execution_count": 129,
      "outputs": []
    },
    {
      "cell_type": "code",
      "metadata": {
        "id": "z18NqKNoxi4O",
        "outputId": "a0505c2a-a580-4735-80d8-ffc1c98b0aaa",
        "colab": {
          "base_uri": "https://localhost:8080/",
          "height": 0
        }
      },
      "source": [
        "db.head(15)"
      ],
      "execution_count": 130,
      "outputs": [
        {
          "output_type": "execute_result",
          "data": {
            "text/html": [
              "<div>\n",
              "<style scoped>\n",
              "    .dataframe tbody tr th:only-of-type {\n",
              "        vertical-align: middle;\n",
              "    }\n",
              "\n",
              "    .dataframe tbody tr th {\n",
              "        vertical-align: top;\n",
              "    }\n",
              "\n",
              "    .dataframe thead th {\n",
              "        text-align: right;\n",
              "    }\n",
              "</style>\n",
              "<table border=\"1\" class=\"dataframe\">\n",
              "  <thead>\n",
              "    <tr style=\"text-align: right;\">\n",
              "      <th></th>\n",
              "      <th>GENERO</th>\n",
              "      <th>EDAD</th>\n",
              "      <th>PERSONALIDAD</th>\n",
              "      <th>FUMADOR</th>\n",
              "      <th>CONSUMES_FUMAR</th>\n",
              "      <th>ALCOHOL</th>\n",
              "      <th>FRECUENCIA_ALCOHOL</th>\n",
              "      <th>PROBLEMAS</th>\n",
              "      <th>ESTADOS_PADRES</th>\n",
              "      <th>RELACION_PAREJA</th>\n",
              "      <th>SOLEDAD</th>\n",
              "      <th>INSOMIO</th>\n",
              "      <th>DESORDEN_ALIMENTICIO</th>\n",
              "      <th>AUTOLESION</th>\n",
              "      <th>FELIZ</th>\n",
              "      <th>MUERTO</th>\n",
              "    </tr>\n",
              "  </thead>\n",
              "  <tbody>\n",
              "    <tr>\n",
              "      <th>0</th>\n",
              "      <td>0</td>\n",
              "      <td>28</td>\n",
              "      <td>1</td>\n",
              "      <td>0</td>\n",
              "      <td>0</td>\n",
              "      <td>0</td>\n",
              "      <td>1</td>\n",
              "      <td>1</td>\n",
              "      <td>1</td>\n",
              "      <td>1</td>\n",
              "      <td>0</td>\n",
              "      <td>0</td>\n",
              "      <td>1</td>\n",
              "      <td>1</td>\n",
              "      <td>1</td>\n",
              "      <td>1</td>\n",
              "    </tr>\n",
              "    <tr>\n",
              "      <th>1</th>\n",
              "      <td>1</td>\n",
              "      <td>61</td>\n",
              "      <td>1</td>\n",
              "      <td>0</td>\n",
              "      <td>0</td>\n",
              "      <td>0</td>\n",
              "      <td>0</td>\n",
              "      <td>1</td>\n",
              "      <td>0</td>\n",
              "      <td>0</td>\n",
              "      <td>1</td>\n",
              "      <td>0</td>\n",
              "      <td>1</td>\n",
              "      <td>0</td>\n",
              "      <td>1</td>\n",
              "      <td>0</td>\n",
              "    </tr>\n",
              "    <tr>\n",
              "      <th>2</th>\n",
              "      <td>0</td>\n",
              "      <td>24</td>\n",
              "      <td>1</td>\n",
              "      <td>0</td>\n",
              "      <td>0</td>\n",
              "      <td>0</td>\n",
              "      <td>0</td>\n",
              "      <td>0</td>\n",
              "      <td>0</td>\n",
              "      <td>0</td>\n",
              "      <td>0</td>\n",
              "      <td>0</td>\n",
              "      <td>0</td>\n",
              "      <td>0</td>\n",
              "      <td>1</td>\n",
              "      <td>0</td>\n",
              "    </tr>\n",
              "    <tr>\n",
              "      <th>3</th>\n",
              "      <td>1</td>\n",
              "      <td>54</td>\n",
              "      <td>0</td>\n",
              "      <td>0</td>\n",
              "      <td>0</td>\n",
              "      <td>0</td>\n",
              "      <td>0</td>\n",
              "      <td>0</td>\n",
              "      <td>2</td>\n",
              "      <td>0</td>\n",
              "      <td>0</td>\n",
              "      <td>0</td>\n",
              "      <td>0</td>\n",
              "      <td>0</td>\n",
              "      <td>1</td>\n",
              "      <td>1</td>\n",
              "    </tr>\n",
              "    <tr>\n",
              "      <th>4</th>\n",
              "      <td>0</td>\n",
              "      <td>43</td>\n",
              "      <td>1</td>\n",
              "      <td>1</td>\n",
              "      <td>1</td>\n",
              "      <td>1</td>\n",
              "      <td>1</td>\n",
              "      <td>0</td>\n",
              "      <td>1</td>\n",
              "      <td>1</td>\n",
              "      <td>0</td>\n",
              "      <td>0</td>\n",
              "      <td>1</td>\n",
              "      <td>0</td>\n",
              "      <td>1</td>\n",
              "      <td>0</td>\n",
              "    </tr>\n",
              "    <tr>\n",
              "      <th>5</th>\n",
              "      <td>1</td>\n",
              "      <td>25</td>\n",
              "      <td>1</td>\n",
              "      <td>0</td>\n",
              "      <td>0</td>\n",
              "      <td>0</td>\n",
              "      <td>0</td>\n",
              "      <td>1</td>\n",
              "      <td>2</td>\n",
              "      <td>1</td>\n",
              "      <td>0</td>\n",
              "      <td>0</td>\n",
              "      <td>0</td>\n",
              "      <td>0</td>\n",
              "      <td>1</td>\n",
              "      <td>1</td>\n",
              "    </tr>\n",
              "    <tr>\n",
              "      <th>6</th>\n",
              "      <td>1</td>\n",
              "      <td>37</td>\n",
              "      <td>0</td>\n",
              "      <td>0</td>\n",
              "      <td>0</td>\n",
              "      <td>1</td>\n",
              "      <td>1</td>\n",
              "      <td>1</td>\n",
              "      <td>2</td>\n",
              "      <td>1</td>\n",
              "      <td>1</td>\n",
              "      <td>0</td>\n",
              "      <td>0</td>\n",
              "      <td>0</td>\n",
              "      <td>0</td>\n",
              "      <td>0</td>\n",
              "    </tr>\n",
              "    <tr>\n",
              "      <th>7</th>\n",
              "      <td>1</td>\n",
              "      <td>39</td>\n",
              "      <td>0</td>\n",
              "      <td>0</td>\n",
              "      <td>0</td>\n",
              "      <td>0</td>\n",
              "      <td>1</td>\n",
              "      <td>1</td>\n",
              "      <td>0</td>\n",
              "      <td>1</td>\n",
              "      <td>1</td>\n",
              "      <td>1</td>\n",
              "      <td>0</td>\n",
              "      <td>0</td>\n",
              "      <td>0</td>\n",
              "      <td>1</td>\n",
              "    </tr>\n",
              "    <tr>\n",
              "      <th>8</th>\n",
              "      <td>0</td>\n",
              "      <td>30</td>\n",
              "      <td>0</td>\n",
              "      <td>0</td>\n",
              "      <td>0</td>\n",
              "      <td>1</td>\n",
              "      <td>1</td>\n",
              "      <td>0</td>\n",
              "      <td>0</td>\n",
              "      <td>1</td>\n",
              "      <td>0</td>\n",
              "      <td>0</td>\n",
              "      <td>0</td>\n",
              "      <td>0</td>\n",
              "      <td>1</td>\n",
              "      <td>0</td>\n",
              "    </tr>\n",
              "    <tr>\n",
              "      <th>9</th>\n",
              "      <td>0</td>\n",
              "      <td>26</td>\n",
              "      <td>0</td>\n",
              "      <td>0</td>\n",
              "      <td>0</td>\n",
              "      <td>1</td>\n",
              "      <td>2</td>\n",
              "      <td>0</td>\n",
              "      <td>0</td>\n",
              "      <td>0</td>\n",
              "      <td>1</td>\n",
              "      <td>0</td>\n",
              "      <td>0</td>\n",
              "      <td>0</td>\n",
              "      <td>1</td>\n",
              "      <td>0</td>\n",
              "    </tr>\n",
              "    <tr>\n",
              "      <th>10</th>\n",
              "      <td>1</td>\n",
              "      <td>33</td>\n",
              "      <td>1</td>\n",
              "      <td>0</td>\n",
              "      <td>0</td>\n",
              "      <td>0</td>\n",
              "      <td>0</td>\n",
              "      <td>0</td>\n",
              "      <td>1</td>\n",
              "      <td>1</td>\n",
              "      <td>0</td>\n",
              "      <td>0</td>\n",
              "      <td>0</td>\n",
              "      <td>1</td>\n",
              "      <td>1</td>\n",
              "      <td>1</td>\n",
              "    </tr>\n",
              "    <tr>\n",
              "      <th>11</th>\n",
              "      <td>0</td>\n",
              "      <td>29</td>\n",
              "      <td>1</td>\n",
              "      <td>0</td>\n",
              "      <td>0</td>\n",
              "      <td>1</td>\n",
              "      <td>1</td>\n",
              "      <td>0</td>\n",
              "      <td>0</td>\n",
              "      <td>0</td>\n",
              "      <td>0</td>\n",
              "      <td>1</td>\n",
              "      <td>1</td>\n",
              "      <td>0</td>\n",
              "      <td>1</td>\n",
              "      <td>0</td>\n",
              "    </tr>\n",
              "    <tr>\n",
              "      <th>12</th>\n",
              "      <td>1</td>\n",
              "      <td>35</td>\n",
              "      <td>1</td>\n",
              "      <td>0</td>\n",
              "      <td>0</td>\n",
              "      <td>1</td>\n",
              "      <td>1</td>\n",
              "      <td>0</td>\n",
              "      <td>0</td>\n",
              "      <td>1</td>\n",
              "      <td>0</td>\n",
              "      <td>0</td>\n",
              "      <td>0</td>\n",
              "      <td>0</td>\n",
              "      <td>1</td>\n",
              "      <td>0</td>\n",
              "    </tr>\n",
              "    <tr>\n",
              "      <th>13</th>\n",
              "      <td>0</td>\n",
              "      <td>35</td>\n",
              "      <td>0</td>\n",
              "      <td>0</td>\n",
              "      <td>0</td>\n",
              "      <td>0</td>\n",
              "      <td>1</td>\n",
              "      <td>1</td>\n",
              "      <td>2</td>\n",
              "      <td>1</td>\n",
              "      <td>0</td>\n",
              "      <td>0</td>\n",
              "      <td>0</td>\n",
              "      <td>1</td>\n",
              "      <td>1</td>\n",
              "      <td>1</td>\n",
              "    </tr>\n",
              "    <tr>\n",
              "      <th>14</th>\n",
              "      <td>1</td>\n",
              "      <td>29</td>\n",
              "      <td>0</td>\n",
              "      <td>0</td>\n",
              "      <td>0</td>\n",
              "      <td>0</td>\n",
              "      <td>0</td>\n",
              "      <td>0</td>\n",
              "      <td>0</td>\n",
              "      <td>1</td>\n",
              "      <td>0</td>\n",
              "      <td>1</td>\n",
              "      <td>1</td>\n",
              "      <td>1</td>\n",
              "      <td>1</td>\n",
              "      <td>1</td>\n",
              "    </tr>\n",
              "  </tbody>\n",
              "</table>\n",
              "</div>"
            ],
            "text/plain": [
              "    GENERO  EDAD  PERSONALIDAD  ...  AUTOLESION  FELIZ  MUERTO\n",
              "0        0    28             1  ...           1      1       1\n",
              "1        1    61             1  ...           0      1       0\n",
              "2        0    24             1  ...           0      1       0\n",
              "3        1    54             0  ...           0      1       1\n",
              "4        0    43             1  ...           0      1       0\n",
              "5        1    25             1  ...           0      1       1\n",
              "6        1    37             0  ...           0      0       0\n",
              "7        1    39             0  ...           0      0       1\n",
              "8        0    30             0  ...           0      1       0\n",
              "9        0    26             0  ...           0      1       0\n",
              "10       1    33             1  ...           1      1       1\n",
              "11       0    29             1  ...           0      1       0\n",
              "12       1    35             1  ...           0      1       0\n",
              "13       0    35             0  ...           1      1       1\n",
              "14       1    29             0  ...           1      1       1\n",
              "\n",
              "[15 rows x 16 columns]"
            ]
          },
          "metadata": {
            "tags": []
          },
          "execution_count": 130
        }
      ]
    },
    {
      "cell_type": "markdown",
      "metadata": {
        "id": "wKHoKMpwCSf-"
      },
      "source": [
        "**TARGET IDENTIFICADO**\n",
        "\n",
        "Se tomara en cuenta la variable AUTOLESION = ¿Alguna vez te autolesionaste?"
      ]
    },
    {
      "cell_type": "code",
      "metadata": {
        "id": "1Wg_GoHGa-ns",
        "outputId": "e468e9c8-35de-4586-b951-a0458b3fa4e0",
        "colab": {
          "base_uri": "https://localhost:8080/",
          "height": 0
        }
      },
      "source": [
        "db['AUTOLESION'].value_counts()"
      ],
      "execution_count": 131,
      "outputs": [
        {
          "output_type": "execute_result",
          "data": {
            "text/plain": [
              "0    178\n",
              "1     70\n",
              "Name: AUTOLESION, dtype: int64"
            ]
          },
          "metadata": {
            "tags": []
          },
          "execution_count": 131
        }
      ]
    },
    {
      "cell_type": "markdown",
      "metadata": {
        "id": "bfNmbSlsCluG"
      },
      "source": [
        "# TARGET esta desbalanceado es un problema"
      ]
    },
    {
      "cell_type": "markdown",
      "metadata": {
        "id": "mYjTWvhRCymf"
      },
      "source": [
        "ASIGNAMOS A LA VARIABLE \"X\" TODOS LAS VARIABLES PARA EL ENTRENAMIENTO"
      ]
    },
    {
      "cell_type": "code",
      "metadata": {
        "id": "v62-5zu9bWiR",
        "outputId": "5cf05744-bf21-477e-9a24-4cd27a032872",
        "colab": {
          "base_uri": "https://localhost:8080/",
          "height": 0
        }
      },
      "source": [
        "x= db.drop(['AUTOLESION','EDAD','GENERO'],axis=1)\n",
        "x.head()"
      ],
      "execution_count": 132,
      "outputs": [
        {
          "output_type": "execute_result",
          "data": {
            "text/html": [
              "<div>\n",
              "<style scoped>\n",
              "    .dataframe tbody tr th:only-of-type {\n",
              "        vertical-align: middle;\n",
              "    }\n",
              "\n",
              "    .dataframe tbody tr th {\n",
              "        vertical-align: top;\n",
              "    }\n",
              "\n",
              "    .dataframe thead th {\n",
              "        text-align: right;\n",
              "    }\n",
              "</style>\n",
              "<table border=\"1\" class=\"dataframe\">\n",
              "  <thead>\n",
              "    <tr style=\"text-align: right;\">\n",
              "      <th></th>\n",
              "      <th>PERSONALIDAD</th>\n",
              "      <th>FUMADOR</th>\n",
              "      <th>CONSUMES_FUMAR</th>\n",
              "      <th>ALCOHOL</th>\n",
              "      <th>FRECUENCIA_ALCOHOL</th>\n",
              "      <th>PROBLEMAS</th>\n",
              "      <th>ESTADOS_PADRES</th>\n",
              "      <th>RELACION_PAREJA</th>\n",
              "      <th>SOLEDAD</th>\n",
              "      <th>INSOMIO</th>\n",
              "      <th>DESORDEN_ALIMENTICIO</th>\n",
              "      <th>FELIZ</th>\n",
              "      <th>MUERTO</th>\n",
              "    </tr>\n",
              "  </thead>\n",
              "  <tbody>\n",
              "    <tr>\n",
              "      <th>0</th>\n",
              "      <td>1</td>\n",
              "      <td>0</td>\n",
              "      <td>0</td>\n",
              "      <td>0</td>\n",
              "      <td>1</td>\n",
              "      <td>1</td>\n",
              "      <td>1</td>\n",
              "      <td>1</td>\n",
              "      <td>0</td>\n",
              "      <td>0</td>\n",
              "      <td>1</td>\n",
              "      <td>1</td>\n",
              "      <td>1</td>\n",
              "    </tr>\n",
              "    <tr>\n",
              "      <th>1</th>\n",
              "      <td>1</td>\n",
              "      <td>0</td>\n",
              "      <td>0</td>\n",
              "      <td>0</td>\n",
              "      <td>0</td>\n",
              "      <td>1</td>\n",
              "      <td>0</td>\n",
              "      <td>0</td>\n",
              "      <td>1</td>\n",
              "      <td>0</td>\n",
              "      <td>1</td>\n",
              "      <td>1</td>\n",
              "      <td>0</td>\n",
              "    </tr>\n",
              "    <tr>\n",
              "      <th>2</th>\n",
              "      <td>1</td>\n",
              "      <td>0</td>\n",
              "      <td>0</td>\n",
              "      <td>0</td>\n",
              "      <td>0</td>\n",
              "      <td>0</td>\n",
              "      <td>0</td>\n",
              "      <td>0</td>\n",
              "      <td>0</td>\n",
              "      <td>0</td>\n",
              "      <td>0</td>\n",
              "      <td>1</td>\n",
              "      <td>0</td>\n",
              "    </tr>\n",
              "    <tr>\n",
              "      <th>3</th>\n",
              "      <td>0</td>\n",
              "      <td>0</td>\n",
              "      <td>0</td>\n",
              "      <td>0</td>\n",
              "      <td>0</td>\n",
              "      <td>0</td>\n",
              "      <td>2</td>\n",
              "      <td>0</td>\n",
              "      <td>0</td>\n",
              "      <td>0</td>\n",
              "      <td>0</td>\n",
              "      <td>1</td>\n",
              "      <td>1</td>\n",
              "    </tr>\n",
              "    <tr>\n",
              "      <th>4</th>\n",
              "      <td>1</td>\n",
              "      <td>1</td>\n",
              "      <td>1</td>\n",
              "      <td>1</td>\n",
              "      <td>1</td>\n",
              "      <td>0</td>\n",
              "      <td>1</td>\n",
              "      <td>1</td>\n",
              "      <td>0</td>\n",
              "      <td>0</td>\n",
              "      <td>1</td>\n",
              "      <td>1</td>\n",
              "      <td>0</td>\n",
              "    </tr>\n",
              "  </tbody>\n",
              "</table>\n",
              "</div>"
            ],
            "text/plain": [
              "   PERSONALIDAD  FUMADOR  CONSUMES_FUMAR  ...  DESORDEN_ALIMENTICIO  FELIZ  MUERTO\n",
              "0             1        0               0  ...                     1      1       1\n",
              "1             1        0               0  ...                     1      1       0\n",
              "2             1        0               0  ...                     0      1       0\n",
              "3             0        0               0  ...                     0      1       1\n",
              "4             1        1               1  ...                     1      1       0\n",
              "\n",
              "[5 rows x 13 columns]"
            ]
          },
          "metadata": {
            "tags": []
          },
          "execution_count": 132
        }
      ]
    },
    {
      "cell_type": "markdown",
      "metadata": {
        "id": "hcKr9WPuDHT9"
      },
      "source": [
        "**UN PROBLEMA QUE EXISTE EN EL DATASET ES QUE EL TARGET SE ENCUENTRA DESBALANCEADO**"
      ]
    },
    {
      "cell_type": "code",
      "metadata": {
        "id": "dEykVR_pl042",
        "outputId": "0144a0db-5ce6-4b60-86cb-3ab0daff6461",
        "colab": {
          "base_uri": "https://localhost:8080/",
          "height": 0
        }
      },
      "source": [
        "import matplotlib.pyplot as plt\n",
        "%matplotlib inline\n",
        "import seaborn as sns\n",
        "sns.countplot(db['AUTOLESION'])\n",
        "plt.title('AUTOLESION ')\n",
        "plt.xlabel('autolesion')\n",
        "plt.ylabel('Frecuencia')\n",
        "plt.show()"
      ],
      "execution_count": 133,
      "outputs": [
        {
          "output_type": "stream",
          "text": [
            "/usr/local/lib/python3.6/dist-packages/seaborn/_decorators.py:43: FutureWarning: Pass the following variable as a keyword arg: x. From version 0.12, the only valid positional argument will be `data`, and passing other arguments without an explicit keyword will result in an error or misinterpretation.\n",
            "  FutureWarning\n"
          ],
          "name": "stderr"
        },
        {
          "output_type": "display_data",
          "data": {
            "image/png": "[encoded data removed]",
            "text/plain": [
              "<Figure size 432x288 with 1 Axes>"
            ]
          },
          "metadata": {
            "tags": [],
            "needs_background": "light"
          }
        }
      ]
    },
    {
      "cell_type": "markdown",
      "metadata": {
        "id": "SsZotilZEw7F"
      },
      "source": [
        "**BOXPLOT EN FUNCION DEL VARIABLE DE EDAD**"
      ]
    },
    {
      "cell_type": "code",
      "metadata": {
        "id": "kunVK1s9sfNf",
        "outputId": "55a3c22e-c502-476e-ea65-66530234a9cf",
        "colab": {
          "base_uri": "https://localhost:8080/",
          "height": 0
        }
      },
      "source": [
        "plt.boxplot([db['EDAD']],\n",
        "            notch=True, patch_artist=True,\n",
        "            capprops=dict(color=\"green\"),\n",
        "            medianprops=dict(color=\"orange\"),\n",
        "            whiskerprops=dict(color=\"yellow\"))\n",
        "plt.xticks([1, 2, 3], ['EDAD'])\n",
        "plt.ylabel('EDAD (AÑOS)')\n",
        "plt.show()"
      ],
      "execution_count": 134,
      "outputs": [
        {
          "output_type": "display_data",
          "data": {
            "image/png": "[encoded data removed]",
            "text/plain": [
              "<Figure size 432x288 with 1 Axes>"
            ]
          },
          "metadata": {
            "tags": [],
            "needs_background": "light"
          }
        }
      ]
    },
    {
      "cell_type": "markdown",
      "metadata": {
        "id": "PpncPb2PE9pz"
      },
      "source": [
        "**DISTRIBUCION EN RELACION DE LA VARIABLE DE LA EDAD Y FRECUENCIA**"
      ]
    },
    {
      "cell_type": "code",
      "metadata": {
        "id": "DCwD2vEIwQy7",
        "outputId": "d2fe4412-bd11-4027-ec09-e6b094c6aefb",
        "colab": {
          "base_uri": "https://localhost:8080/",
          "height": 0
        }
      },
      "source": [
        "plt.hist(db['EDAD'], bins=10, edgecolor='black')\n",
        "plt.title(\"DISTRIBUCION DE LA EDAD\")\n",
        "plt.xlabel(\"EDAD (Años)\")\n",
        "plt.ylabel(\"Frecuencia\")\n",
        "plt.show()"
      ],
      "execution_count": 135,
      "outputs": [
        {
          "output_type": "display_data",
          "data": {
            "image/png": "[encoded data removed]",
            "text/plain": [
              "<Figure size 432x288 with 1 Axes>"
            ]
          },
          "metadata": {
            "tags": [],
            "needs_background": "light"
          }
        }
      ]
    },
    {
      "cell_type": "markdown",
      "metadata": {
        "id": "JAWcVVXbFJHJ"
      },
      "source": [
        "**DISTRIBUCION POR GENERO**"
      ]
    },
    {
      "cell_type": "code",
      "metadata": {
        "id": "YJPy42Afw9BD",
        "outputId": "8c70786e-6208-4032-a30d-9a3e3a4c117c",
        "colab": {
          "base_uri": "https://localhost:8080/",
          "height": 0
        }
      },
      "source": [
        "sns.countplot(db['GENERO'])\n",
        "plt.title('GENERO ')\n",
        "plt.xlabel('GENERO')\n",
        "plt.ylabel('GENERO')\n",
        "plt.show()"
      ],
      "execution_count": 136,
      "outputs": [
        {
          "output_type": "stream",
          "text": [
            "/usr/local/lib/python3.6/dist-packages/seaborn/_decorators.py:43: FutureWarning: Pass the following variable as a keyword arg: x. From version 0.12, the only valid positional argument will be `data`, and passing other arguments without an explicit keyword will result in an error or misinterpretation.\n",
            "  FutureWarning\n"
          ],
          "name": "stderr"
        },
        {
          "output_type": "display_data",
          "data": {
            "image/png": "[encoded data removed]",
            "text/plain": [
              "<Figure size 432x288 with 1 Axes>"
            ]
          },
          "metadata": {
            "tags": [],
            "needs_background": "light"
          }
        }
      ]
    },
    {
      "cell_type": "code",
      "metadata": {
        "id": "7D-d9-XOecs8",
        "outputId": "cf4a8242-0d8f-4570-d978-35e455a82926",
        "colab": {
          "base_uri": "https://localhost:8080/",
          "height": 0
        }
      },
      "source": [
        "y=db['AUTOLESION']\n",
        "y.head()"
      ],
      "execution_count": 137,
      "outputs": [
        {
          "output_type": "execute_result",
          "data": {
            "text/plain": [
              "0    1\n",
              "1    0\n",
              "2    0\n",
              "3    0\n",
              "4    0\n",
              "Name: AUTOLESION, dtype: int64"
            ]
          },
          "metadata": {
            "tags": []
          },
          "execution_count": 137
        }
      ]
    },
    {
      "cell_type": "markdown",
      "metadata": {
        "id": "zFk2NYAaHtJj"
      },
      "source": [
        "# **ALGORITMO SMOTE**\n",
        "\n",
        "![SMOTE.png](data:image/png;base64,iVBORw0KGgoAAAANSUhEUgAAAloAAAC5CAYAAADwFJHvAACF3klEQVR4nO2dd3gc1fWw3zszW9Sruy3LvWJwB9uAaTa9F4cWegtJCKRDSCBACC2/BAIEkhAILcBHrwbb2DRjmo1771WWrL5tZu73x+ys2kqWrV3V+z7PYrS7M3N39565554qpJQShUKhUCgUCkXCMdp6AAqFQqE4eCzLwt0vSykxDAMhxAGfR0qJEALbtgHQNO2Aj7UsC03TDur6CkVnRSiLlkKhUHRMXAVHoVC0X5q/ZVEoFApFu0IIwVNPPcXMmTM58sgjufrqqyktLQWIWaZcpJSxh23bsYfLtm3bkFLy1Vdf8cUXX2DbNqZpUnsvXvtY9/lIJBI79uWXX2bt2rWx69d/r0LRFVGKlkKhUHQwXAXp3Xff5d133+W2227j0UcfpVevXlx77bXYtt3A9SeEiD00TYs9pJRs3bqVO+64AyEEH3/8MZ999hmaptVxQ9q2XedYIQRSSubPn8/jjz+OEILNmzdTVVWFlLLONdz3KhRdERWjpVAoFB0MV5H6+OOPGTlyJEceeSQAhxxyCLfeeislJSUUFxczcOBAPB4PpmmydetWcnJykFKyYcMGNm3axPDhwxk1ahRLly5l5cqVrFy5El3XKSoq4tNPP2X37t1Mnz6dvLw8NE1j27ZtLFu2DE3TOPzww8nMzGTx4sUsW7aMnTt3MmvWLNLT0xFCUFRUxNdff43H42H8+PHk5OS08bemULQNyqKlUCgUHQxd1wGYNWsWH3/8MTfeeCMvvPAC27dv5+6770ZKyW9/+1u++uorpJR89tlnPPTQQyxdupRrrrmGN954gw8++IAf/ehHrFq1il27drFnzx6WLFlCTk4OH330EXPmzOGFF17gpptuIhKJsGXLFn7xi18we/ZsXn75Ze6++25KS0vZuXMn69evZ+vWrfzqV79i0aJFVFdXc8stt/DWW2/x0Ucf8cMf/pDi4uKY61Kh6Ep0IUVLNuOhUCgOHCVbrY3rzhs3bhwPPvgghmHw8ssvM3PmTB544AG6devG4YcfznvvvYcQgjfeeIOzzz4bwzCorKzk9ttv54knnuDwww9nwYIFXHjhhYwbN45Zs2ZRVFTEyJEj+f3vf8+LL77Irl27KCsr47HHHuP444/noYce4sknn2T16tV89913zJo1ixkzZjBp0iQqKirIysris88+o7KykkcffZR7772XU089NeZCVMH7yUDJX3umC7kOlXArFMlByVZr42YbbtiwgQkTJjBhwgTKyspYtmwZF198MaeddhrTpk3jqaeeYseOHXz33Xfcf//9zJ49m9GjRxMMBvF6vaSkpCCEoKSkhOrqasLhMF6vl3HjxsWC3PPy8mJxXMuXL+eTTz7B7/dTVVWFruts376diooKLMvCMAyCwSBbt25l+PDhhMNhgsEg11xzTVt/ZZ0cJYPtmc6vaEkJQsDGBVBZBLqHBhq+EBAJweBjITUv+rqauApFs1gzG8KVoOlxXhRgRWD4SeBJbfWhdVZM08Tj8XDDDTcwa9YsLrvsMrKyspg6dSqDBg1i165dHHXUUTz//PP86U9/YsaMGei6HquTpWkaXq8XcNyQmqaRkpKC1+ulsrIS27bxeDz4/X7S0tIASElJ4fDDD+fGG2/ENE2WLFnCsGHD+OCDD8jOzkbXdaSUeL1eMjMz2b17N16vF6/Xy4MPPsiUKVM44ogj4gbqK1rA7uVQtLoR+QOkDT1GQ/6Q1h2XIkYXULQsEAa8/1tY9xn4fc7Eq43ugfJquPlT6D/VeV00MmkVCoWDtEFo8Pp1sHcjeLzOxqY2QoNQCH67EXILazY+ihbhxmjdfPPN3HXXXezcuZPevXuzZs0aMjIymDRpEgBjx47lj3/8I2+99RYAgUCAffv2xeKkysvLKSsrIzU1laVLl7JgwQKEEAQCAcAphlpSUkJRURGXXnopDz/8MAMGDKCyspLHH3+cJ554gu7du/P+++9z9dVXE4lEqKqq4sgjj+Spp57ihRdeID09ndmzZ3PBBRcAKNdhovn2vzDvz/HlD8COwMn3wVG/UPLXRnR+RcvF4wevDt60+IqWN+gsCgqF4sDwpII3xZGxeIqWtNXNPcG4FqEZM2bg8/l4/fXXWbp0KYWFhTz88MOkpKQAMGbMGMaOHUvfvn0BGDVqFD6fL2bNOvXUU0lNTSUzM5PLL7+ctWvXcuaZZ1JWVgZAVlYWF154IVlZWYwcOZKKigo+/fRTAO644w6GDBlCjx49OOGEE9izZw833XQTBQUF9OjRg9/+9re8/fbbpKSkcPfdd9O3b19VYDUZ6N7G5Q/ANkHztP64FDE6f2V42wTNgCePg/XzwJ/ViEWrGH7yORQcEbWCKYuWQtEkrkXroZFQvKFxRStUAb9cDzn91Y46wTTmhqusrGTv3r088sgjjBgxgiuuuAJomTUp3rUau348hUopWUli9u9g/v1NK1oz74JpP1Py10Z0HYuWQqFQdDI0TcOyrFgxUdu2MQwDv9/PSy+9RHFxMaeddlqsYKhbpd11PVqWBTiuyEgkEitI6r5HSollWbE4LtM0Y9cWQsTeE4lEMAwjpky543L38e57FYquiFK0FAqFogOj63oDJUbTNG6++WYMo+YWH6+0Qu3jPJ6G7iUhRJ1z1P7/2u9xXZGNnVuh6MqooCSFQqHohMRTilqKaz1TKBTNpwtZtES9R7zXOgLNCanrKJ9F0TmoK1cyOkdFo/LWXlGytT+Ulaq90pScdZQ523nlr+soWlYYTBusUMNgeGwwZfxAwnZHx5xoik6MFXIemgApEVE3kgwGELoBlknHqE7dcWWrfmsbN0C9vvXJjb9yjwEaNHx231M/T0rTNJ566in69evH8ccfj2VZdVyR8a6pKsG3ArZVR/4avm4672n3dN550gUUreiPN2Aa+DPBm95Q0dJ0qN4HKbl1j2k3RAuoBvbBjsVghuJkjggnWzI1D3of5qT8KhRJJToHB58APXYiNS9CRrjqr+9z0bQBHHP0RMyKKgw7VFOstL2JlitblXtg5/cgTeJavKUJGb2g15h2mZFcX6FxlaT6GYG1M/9qv7/+sfEUJCklK1eujClm9a1bbkC+KkbayvQYASNPB8PXiKJlQf5g5//bnfzVYsNciIQbz4qUEgYdC0bHW9s6v6LlVsudeU/zj2lv9bRs2/kcu1fC/y6Byl2OIlVbqDQdQlUwcDpc/D9I616Tfq9QJAP3hnjWYwDYgA7kr7qd0x55hDkX38TkCWOxos9HD2r1YTaJK1tbFsJLl0Gk0ilwTD3ZClTBYefA+c9Elcb20T3CVYoikQjz5s3DNE169+7NYYcdBsDatWtZuXIlACNHjmTw4MHs2LEDXdf59ttvCYVCHHPMMWzYsIEVK1YwefJkBg8ezM6dO9E0jeXLl1NZWcmkSZPo2bMnXq8XwzAQQlBeXs4XX3xBKBSKnRtg2bJlbNy4Eb/fzxFHHEF6eroq7ZBMxl7iPJpFO/4NXrwEKnc3XvPLNuG32yC9B+1F/ppL51e0YnQC/68QoPuijziKlh6JWrLa+edQdDKceajjWDruvftOMEMcd/Q05sydw+TJh7f7hVYiELrPqaIdT9Eywu226KNpmrz88st89NFHDBw4kD/+8Y888sgjRCIRbrnlFo466iiCwSBPPvkkzz33HO+88w6zZ89myJAhrF+/npdffpnRo0ezYcMGXnzxRZ5//nlmz57Niy++yOTJk6muruall17i/vvvx+PxIISgurqau+++m71799K9e3deeOEF/vjHP5KSksKDDz7I0KFDWbJkCe+88w533XUXqamORbM9z4GOzf7Wtw7wvbtrW2NyJnQ6xOeIQxdStDrmD9SQxrqyq07tirairgvKNE3u/fOfsaVkxoyZvPrqqxx33HHtStmKxSdF/xY+b/SPjiVb7vc5f/58hg8fzi9/+Usuu+wywuEw4XCYxx57jDFjxgBw5ZVXsmXLFvLy8vB4PNxzzz1s27aNq6++mhtvvJGMjAwuvfRStm7dSm5uLjk5OfzhD38A4Nprr2XBggWkpaWRk5PDnDlzKC8v51//+hcAf/nLX3jiiSc4//zzKSoq4r777qNbt24sWrQITdOUOzHptA+5ahn7k7P2J3/NRc1+hUKRUHRdxzRN7rvvPq6//nrmz58P1ARdt4dmFLEYJE0nbNq8Pe8bSqsCoOuxrMmOgJQSwzD4xS9+weLFixk5ciR33nknGRkZFBYW8uqrr3L88cdz9dVXk5mZCUAkEmH48OFEIhF27drFsGHDCAQCVFVVkZKSEut1ePTRR1NZWUkoFGLIkCGUl5cTDAYxDIPi4mI+++wzfvSjH3HFFVewYMEC8vLymDBhAscccwynnHIKkyZNYu/evTFrVnv43RWKtqALWbQUCkVrULsK+L333tugmji0bjuW+tXQwWlRs3LlSp5//nlee+11ghUlLPqhIDtVgCU7jIHArQYfCAR4+OGHycnJ4YEHHuDWW2+lsLCQsrIyZs+eTXFxMddeey1erzem8Ho8HgzDwDRNNE2LveYWKV2+fDnp6ekAsabVqampCCHw+XwccsghPPzww2iaxtq1awEoLi5mxowZ3HLLLSxdupSf/vSn5OfnM2nSpHZl0VQoWhOlaCkUioTjLub1K4uXl5eTmZlZp7SAS3MsHgeyULstYGpf320nc9ddd/Hggw8yZswhnHnOeVxxeD4Fa/4PguUIrf1lFTaG2/7mhRdeIBwOM3PmTHbt2sWIESMAKC0tZe7cuaxZs4aNGzdSXFxMMBiktLQUcKxbxcXFsZIMJSUlhEIhvF4v3377Lf/73/8IBoNs3ryZa6+9lieeeILc3FxmzpzJBx98wKOPPkr//v15/PHHufjiixk2bBh33HEH11xzDfv27aN3797k5uY2NnxFe6M5VkelLB8wStHqcOyv6KoSAkX7IJ716s9//jOlpaX8/e9/j7kR45UbaAmuwuZasLZs2cKOHTs4/PDDY7FCJ510ElOnTuXkE2ege3yw7n1YZTu1iNCi7kNZr+hq+5Qtn8/Hr371K/7xj3/w9ddf07dvX37yk59QXl7Of/7zHxYvXky3bt148sknyczMJDc3l/79+wNQUFDAxRdfTHp6Orquc/HFF9OnTx9WrVrF0UcfzcaNGwmFQtx2220MHTqUE044gR49etCrVy9uvfVWnn/+efbu3csll1zCrFmzALjiiiv47rvviEQi/OhHP2Lw4MFIKVWcVkegTZWo/clZ+5S/5iCkcpy3f2zLyXza9Dk8f74q76DocNi2jaZpzJ8/n3POOYczzjiDf/7zn3UsX/sq91EdrGpE4RJIaZOTkUuqLzX2bGPuKNM0ef3113nxxRdZtGgRY8eO5Y033ogzMIuIZaOvfhftlctryjvomvMIRxzZClbBoe2vvEOyePrpp1m+fDn33Xdf7Lna33W8791VnJuq3aVox4SroGJ349NaStANyO6fnOvf00eVd1C0Ie5NKiUbBh7tFFfVjbqKltAgEoTehzopss6TrT1ShSIumqZh2zZHH300c+bM4bzzzuOkk07izTffxPAYCAT//fBfzFv8IR7dS/0MI01oVIequPm83zL90OOQ0say7DpxV+6e8Te/+Q3PPPMMwWCQwsJC/vCHP3DKKafUOZ/rVtQ14TRTzugBg47FClejp6bw+bdr+WjJFn553jH4/V4IVUOvw9rtxkVKGavUbtt2zF1a+zkgVgOr/nHu+123YXZ2Nnl5eYRCIXRdj8Xduedzf0+3SKnronWzTmsr0KptT3snqrRs+RxeutwpCNrA/iKc7iqZveHGRSRF0Rkw3SnK3Zjr3rZrFeLuWGubUrQ6Au7NvcdImPXcARzXsSajonPjLs6HHnooCxYs4JhjjuGSSy7hf//7HwCVgQpKyvfiMXzEU7SqgpUEggHC4XC0cKYjF7XjvUKhEKmpqfzwhz/k0ksvjcUq1afB4t//cLjkFUR0/fAO+47Mgs8Rl10Lnni3yfYlW7Vj4Wp/Nlc58ngcK4GUks2bN5Obm0tGRkaDGDqfz9mknXHGGZxxxhkNrlP73I2VbUhGM2tFK2AGoWInGP5GFK0QaEn8bX9wAGtbB6NVJMKyZex3k0R3OUIoPUChaAESsGvJFji6taaJdqYG1OD20evZsyezZ89m7ty5Mbeirul4DC8e3UMDRUvT0HWDjIwMvF4vlZWVzJs3j7fffpsjjjiCyy67DHAUhdtvv73OsfEC7xsdX/QtE8aNZcK4sS3+vG1FbTeeYRixLMtvvvmG1atX85Of/ISMjAzl1mshtpTY9Tu6aaB1xO9UaPGLYTsvAlK1djtIWkXR0rXak64DTkCFoh0iqC9bHQPXrdSvXz9++MMfYtfqPSqljAWi18aWNoZusGDeAt57djbvf/A+ixcvZtKkSZx55pmxY4UQWJbTQFfTtINuaiylxLbtDuX2qp9YIIRg586dLFiwgB07duDz+diyZQtXXnklAwYMUEpWAtCEaNTT1TFpqmho+yza2xFImqIlpbO7DkUs/vnJRuau3o1AELZs+mancOWRAxnfPydZl1coOi22lGhCsG1fgEfmrmX17grHEiNhSI90fnbCcHpk+mIy2B5x44Zs20bTm457klKi6RrhUpO7b/0Tuel5XHLpJTz55JOMHDkSv98fOyfEcQse5Pg6gpJV23JVW2lavnw5n3zyCfv27WP06NHMnDmT5cuXc8IJJzBkyBClZLUAV66qwxavfL2FN5bsQErn+TSfzvkTCjj9sN4dLFxbkUySatGSEh76cA33vrcKv0fDtByNWNc1Fqwt4sVrjmB0n6x2vSAoFO0JV8kqqgjxkxe+Y97qPRiawLIlQsDHa4rYuDfAU5dPICVubFH7wY3xqW3RiocQAmzQUiVPv/IUp047I6ZcQWKz2lw35sqVK/nuu+8499xz8Xrbn7uktsXN/ez79u1j5cqVfP7552iaxrhx45g4cSJCCGbPns3w4cMZMmRI7DMqDg5bSpDw0OzVPDJ3LaYdfQ5nHft8fTERy+ac8X1j8qro2iTlTuxOrveX7+L+D1aRm1brRhXtJ7anIsQf3lzGy9dPVUqWQnEA2FLy/JebeX/ZTnpnp2DZNeZ8iWTuyt3c/c5K7j7rkA61iXHdXfGUJiEEmkcjv0d+VMmS2LY8aNdgY1iWhaZpvPvuuzz55JOceeaZ7UrRqq1g6bqOlJJVq1bx/fffs3nzZjIzM5k5cyaHHHII4BSIffPNN5k2bRqFhYUASslqAaYtMTTB/NVF/PuzjXgMnTRdiylamoDyoMkDs1dz9LDu5Kd7O5ZlS2jR5Ks4MVpC6zg3k3ZGUhQtTYjYYuA1HPO7OxHd389naHy1aR+bi6spzEtt5EwKhcJF4shWaXWYd5ftJDvVg2nbDYLhDV3w1pId/PLE4WT6DTrKbd6yLUzLRMS50WtCwzRNQqFwzXNJVBg8Hk8sA689UNtFqOs6oVCIzz77jLVr1xIMBunbty+XX3453bp1ix1TVFTE+++/z9FHH01BQUEbjr7z4IZELtxQzO7yIL2yU4iYtWIMgRSvzq6yILOX7+LCyQVYlsTQO4IMSqeEg9AaL+9gmXGPVDRN0nwLpi3ZUx5E12i0SatH1ygqD1CYl9qhdt4KRZsQ3RpHLEll0IxvyZHOYqALwe6KIFkpGe1ettwcyey0bHrl9kbXjKilCkS0JIRTR6uaNH9K7Khk0h7qOMcLbt+2bRuffPIJW7duJS8vj0MOOYTDDjss1rjZNE0Mw6CkpITZs2czffp0+vXrp9yFCcDd6ABUBCL4DL3hPIm2yQxbNlXhDqaUGKmQUxitw9hIeYfMXjV/K5pN0hQtXQh6ZKaweGsZXqOhgqwJgWXbZLluRfW7KRTNwtAFqV4j2qxC1N3ICOc/QhP0zEyp9Vz7xVUmLj7+Cs496kIyMtIJhcKYphlrBu02hs5IzWyVMbkuutYmXnB7OBxm9erVfP755+zdu5cxY8ZwwQUX0K9fv5jy5GZaGoZBaWkp7733HkcddZRSshKIoCYQPtWnx+Ii473Ro2ukujGS7Vz+YgPsPwWund/4rkzKxouJKpokKYqWxEk7P2tsH17/bjspHs0J2I1qWx5No6QqzPjCHAZ3c7rDt/u5qFC0MUI4spWV4uWood34fH0xvbL8IKPWDwSagLJwhGNHdCfTb3SY7DJXicpIzWTzxs3k5+eTlZnNiTNP5JZbfs4JM45v1fEYhtGqWYfxgtt3797N8uXLWbJkCZFIhKlTpzJ27NiY9QqIVWZ3q7WXl5fz9ttvx5Qs1WMwsVhSYgjBxAG5+AyNiCnxaAIzurYZmqA8aFKQk8rkQblRK1jbjrnZGH6n8rsi4STHoiVBCpg5qic3nTCUJxdswLIt/B4dCRRVhhjSPYO7zzxEZWQoFAeAqzhdNqWQrzeV8Pn6vXh1DUPXiNg2oYjFiaN78vMZw50DOoB81VYy/nzfn/nTPX/io48+Yvz48RSXFPOne+/h2OOPcVrL6EZSFUdXuZoxYwY9e/aMVVRPFvGC25ctW8by5cvZvHkzOTk5zJw5k5EjRzY4zlWuXGVqz549zJ49myOPPDIWk9URlOyOhBH9Oo8Z1p1bZg7jwQ9WE9IEXsP5HSqDJvnpPm48dgiDu6V3vKzD5rjMO9LnaSckral07Z30M59v4olPNlAWiODRBIcVZPPrk0YwtEdGMi6tUHRqXNkqrgrzlw9X8+GK3VSFLFI9Oqcc2oufzxhOmk9v97FZUPc+cfPNN/Pkk0/y/PPPc9pppwHw3nvvccEFF/D5558zevRoLMvqEPWtmkPtzx4IBFi4cCHLli3DsiyGDBnC+PHj6dmzZ+y90LjitHXrVubPn8/RRx9Nv379WucDdFFqy9WzX2zmP59vZHd5EE3TGJifxk3HD+XoYd06VrahIqkkTdECZ0JKaoorlgciaJpgQH4aPkPreNq+QtFOcGVHSthYXEUwbOEzNAZ1T4++3v5dFq6isXfvXn7+85/z5ptvMmfOHMaOHRuLKwoGgwwZMoRzzz2Xv/zlL5imWce9lizcmLBEKnXxlKUdO3Ywd+5cNm3aRN++fTnkkEMYPnw4aWlpgBPc3lhPQff727JlCwsWLGDmzJl069ZNxWS1ApJoIV0h2FkWoLQqghCC7pk+ctO8WLbskF0bFMkhqYoW1J2QtbFtiaYmokJx0MTbqMjofzrC/iUSieDxeLjrrrt4+umneeeddxg6dGgsc85VJB588EEeeOABvvrqK/r27duhFInawe0uwWCQ1atX88UXX1BUVMSECRMYM2YMvXr1qhPc7roG4+F+B1u3bmXBggWceuqpZGVldajvpqPT2NqmlCxFfZKuaLnYtS4jUA2lFYpE4N7sXYRovw2lXWzbxjRNPB4PQgi2bt1KZmYmWVlZdVyDrtKwbds2Hn/8ca655hoKCgqSqky41//qq6/47LPPuP766w+qnla8Xonbt29n1apVLF68GF3XmThxIuPGjSMlJSX2ntrB7Y1R+3v5+OOPOeWUU8jJyekwiQ+dDbW2KfZHqylaCoVC0ZQy0B4UBdfKdv/99/P444+zdOnSOll++yOeBWvx4sUsXryYffv2kZmZyeGHH86oUaMaHNecz+6+z1WyTjzxRPLz89vFd6dQKOLTvpuhKRSKToPrEly1ahV/+ctfePDBB0lPT99voLdrHarfODmZ+Hw+MjMPvGaXa40Kh8PMmzePFStW4PP5KCws5OSTT6Z79+5AQ8tVcz+XawFUSpZC0XGIq2i5Qey1aSuXhNvAs/bFVQC9oqMST7baYj7XdzlCct0elmVhGAaffvop55xzDlOnTo255PanJAghkp5pKKXEljaWbaHZTjV6y7KwbOfhjkMTNZaqeG4+NzB948aNFBYWMn36dIYNGxaziu0v9mp/uNmFp512GtnZ2Som6wBp7XnfFHXWtui/XXptsy0aLPZ1kKB1TNtQg1G7Abbx1KrWThePBfuKRp5XKDoQjcmWjN5bWntGx5OhZMiWG6v04YcfcsYZZ/CTn/yEe++9F2iey8x9TyAQ4IwzzuDBBx9k9OjRQOLqRAkh0IWO7nMUOr/HjyY0MtIyGv1hXAWnqqqKlStX8u2331JUVMTYsWNj1iYXVyk7GIXRVaaWLFnCihUrOO2008jKylLFSA8Q2YQy09pWwQZrm6j3fFekE1edb6BoaUIQilhs2FuFaTuav9+jMzA/DV0TrVYbxElPF2wvDVBcGY6lqvfKTiEvzdshagQpFC5un7SqkMmm4irHsiUhI8WgMC8t9p7WmNKu7GzaW0VF0HR6CgoYkJ9OqldP6DhcJeEf//gHP/7xj7njjjv4zW9+Ex1H8xc3KSUej4etW7dy55138vLLLyekH6E7hn0VJazfsZZQOITX52X97jUEzGoWLJ5HSmoKlmWSm5nPoN5D0DWnsOjmzZtZtmwZGzduJBwOM2XKFCZOnIhhGHXODwffANv9/r7//nvWrVvHWWedhd/vV5asA0RSs16s2V1BKGJHW+UIhvbIbFXlxlWmiipC7CwLoAmBLaFbho9eWf6uq2ytnwtmuOkWQIOOBcPbuuNKALFgePfmWlwV5hcvL+a7LaWELRuBwGdonDG2D7ecMDR2I07mRHAXghcWbeHRj9exryrsDFYIBuan84fTRzG2IDtp11coEokrW5uKq/jly0tYs6cS03L66GX4PFw2tT+XTxuIRzuweJ2DGktUtv7y4Rr+99UWKkNm7JoT+udw6ykjGdw9PWE7fPc8t956K8OHD+eSSy7Zb0xWPFzF4uWXX+bKK6/kyy+/ZMSIES0uYOqed/7iOfzuqV9QHa7G4/VgVdpYVaDnSnRDpypQxQnjT+LuKx/Aq/tYsGABixYtolevXowfP75O5fZEf3fff/89a9as4eSTTyY1NVXFZB0gMmrKCkYs/vz+Kt5ZuoPqsAXS6Vk4riCHu848hG4ZvqR/t+75P1i+m0fmrGFdUSV6tLp/90w/Pz52MGeP64slJXpX+41vT4eKKmhs/2ADd+6EjJ603rY0MQgp3WkIpiW55pmveOmbreSkemO+a8uWVIRMfnfKSH4+c1isSn8y5oFbg+TDFbu55J8LsYEUj44tQSCpCJoc0jeL568+nL45qcqypWjXuLJVHoxw8ZMLmbemiJxUb6zWVdiyCUVs/n7xOH4wsSBpt4/aNX+e/mwTt7y8GI+uRVuHAEKyryrCCSN78PSVk0n3GYiDHExTi1WLFSMJ/fsXcMbpp/PII49gmhaGcXDnc4PshRAsXP4ZD75yN4FI0InDEtK54VsCTRMEggGmjZnOr2b9Dp/uZ/PWzaT4U+jRo0fsc7Uk9qoxvv/+e1avXs3JJ59MWlqaUrIOAteS8Of3V/Gnd1eS6TcQWrRxqJDsrQhzyZRCHp41Fo/h/H7J+IZdS9V3W/ZxxX++YktxFel+T+z5qpBJZoqH/1wxiaOGdOt69bgeGAqVe0BrpO2VbcLP10B6NzqaoqWBUzwU4D+fb+TdZbvonuHH0DQ0zVkMvIZGbqqHBz5YxdebShCibu2QRCElaJqgMmTyzOebiNiS7BQPQoCuOa/lpftYtr2Me95ZSe2x7//klhNs1+jDBFr4mdzzNPWQdsuuoehQuNabR+auY+GGYrpn+NAEMdlK8xp4DY1/fbKRvZVhJy42CQVXbNu5mS/bXsZfPlqD36OT6jMQ0bHoQpCf7uOrjSW8tWSHs/Fq7kDqyZIQAmmZVFWUx2RCStkyJcu2kFYETZr8/Gc38eLL/4+VK1egaxIrEorKVvPGa1kWpmnGYqY0TSMtIw0bG9OKYFomZsQkEozE/g6bYQyf4RRSRVLYv5AePXpgWVYsBi1RSpY7Z5YsWcKaNWs47bTTlJJ1kLjL8beb9/HI3LXkpnswdC0mg7oQ9M5K4Y1vt7NkW2nSlm7HICCwpeQvH61hS0k1Oem+6NrmGDRy0rxUBE3+78M17K0MR12KzZjT0t7P2ma1fN2RNtiRJta2SMuvYUXACjf9aOka3UYY4ChNOoJP1+7FtGyk1Ov8wJaUeHRBVdhiybYyJhTmJsV1KJFoCHaUBli6vZQ0n07YsuvcPy1bYugaq3ZXUBU2SfMazbNqCT1JCnBUlM0QzL0L1s0BT2r8SWebMOFy52FbnTr4T+HgmosXrN6DpgksW9aZzxHLJs2n882mEoqrQuSne5HIuMkoLRpH9N91eyrYsLeS7hl+IpZd53VDg7JghC/WF3PhpILoPaAZ44jOY/fdleVlzDztLEaOPown//4QEZwbzQErWa5gB0vhg9/Dtq+RqWlcIqvZXLiHyLM/QAztAVUBSM+DGXdAz0Md2RNaTLmr38Km9jjKysrYsWMHXy3+mkBFEOGNfl5R49qUUmIYBlvXbaO8rILc7FzCkTAew5PwbMj6MVmnnXYaPl/yXVqdnS83FmPZEo+sq7w4ll4bIeCztXuZWJiblOu7a9v6oio2FlXh1TUsq+69wLQkfo/G2j2VbCmpJj/di22zfxEUWvKMO3bEsTB9+Q9Y9E9IzYsaJWqhGVBVBEf/Eg77gfN6B80OTBZ1vo2wZWPZ0lFa6imOUjqadyjipDon02pnS+kE4u8n0zNiSthfXJx7s965BAKl0QlQXysWYIWgzwTwZ3JQZklpQ9Eq2PQF+NOjqapxrjHk+JoPoOgyhC3buWnGQ4JZTwFLONFzR2xJxLIbnd22fQBWYpetX4EZwLZB9xqcdtXdVG5YxG13Xw2bPsWwTET/w8HwH9zYLRP2LENs+Rx8aeRKm4fOyIDQOli3Ft2KQHoPCFY47kDTRAoNwzAaBKYLIVi4cCFffvklixcvZuHChVSUV1BeXcbIUweSW5CFbdX9/LZlk5aexov//B/fvbaCF196gQEDBsTqgiUKV8n68ssv2bZtGyeddJJSslqI+61VR0w0TTQqY64bP1m4e5ZgxGq0D6nE+Z0jpk3YPICx7NsIpVsdhauxi+cOgKy+BzlwYN9m2PgtZGY6lqfa6F4oLYOx2+oeo4hhQM1kHNQtDW80Hqo2Amd3J5H0dzOkbOn4uROKc76sFC89M/0UV4Xx61rd7CLh6DTZqR4yUoz9Bw1KC4QB7/0aNs4HX1ZDa5PugYoiuGEB9Jsc3REfxE5V84DhcbIi4ilaAmcsii7H4G7prNhZ3uB5IQSmLemVnUKKx51zSVhUo6fskeGnR6afSDQ2KRaYjqOLpXp1emX7mzeKqOWI166F4g1oHj/oGpd493L8rGwKvvglMmQiQhVw8wrIKTj4GjFaVK4MH1gWVlCiCQ/CiKZM6l6I1rTSPc7uKxwOM3fuXAYOHBjroejxeJg9ezbPPvssEydO5Jprr2Hi+Ilsr9zCc5//i1A4iBA6tTdCmq5RVVnBZT+5hHVztzFlyhSeffZZjjvuuIRl/7mlGhYsWEB1dTUnnniiCnxPAO6WeWSvbEIRC2+K0eD2L4RjTRqQn5a0cWias372y00lK8UgaEp8HurstzUhCIZNBuan0yvLlcFm/PbfPgML/gIef3wlxzbhhD/AlB+3QP4MMIQjg/WP173OawezZnYRNABdd24UV04bSK9MH9VhEy3qO9Y1Jxi0qDLE8SN6cOTQaG2YJAi/JpzddM9MPyeO7kV5dcSJSRXRcURLT/i9OlcdOQC9kXpfcbFCEAmA2cgjEk5A/FQ0Z7+ph7JkdSncxunXHzOYNK9B2LRj89mZ07C3MszZ4/rSJ8fpeZeM+Fc9Gu8xaUAuJ47qSUllJBYf4saIVARNemb5OXdCP+eY5ioQURkSZgAClVxxZDoF6UHssn3Oc2aAls/7ujKkCyc5BimdCHmc1jer12/i8cf+zoUXXsi4ceM488wzef/9953PE3Xz/fznP+frr7/mueee42c3/YxpR05j8ODB6OgITUMTWqwQqaZp6LqObUPPXj159f+9yjXXXMPpp5/OU089FVNWW1pqQgjBnDlzCIfDnHjiiSomK0G4395RQ/M5fFAeFQGzgfwFwjYFeWkcO6J7Usdh25CV4uHs8X3xGYKwaaO7YxFOWEHIsjntsF4U5KZi2ZJmiaBlNr6uuY/67r4DpjlrWwsRuhOG0NSjgxKzaEmgMD+NJy6dwG9fXcqSraWY0vEr67rg5NE9eeiCw8islSWRDJwbHFx/zCDKAhGe+WITVSHTCebVBD0y/dx5xmhOPqR3tMxEc0+s1TzivqZuaIrE48rW2IIcHr9kAre/vpQ1eypjMuQzNH54RH9+feIwjKhrIxlT0QkHEPg9OnefPQaPpvHqd9sJhE0k4DE0CvNSufecMQzvkeEkphyMbGmSSIWFLgSaYTQucwnEsmz0tHQWLVrE5XffxN6dmxk8eAhnnHEGF1xwAYMHD65T3NOt0i6lJBwOYxgGFZUVVATKCUQCaELH7/OjazqV1RVomkZ1sJri0hIkNnfccQc9evTg8ccf57jjjos1uoYDK1lRWzn76KOP0DSN448/PvaaUrISg5SSdJ/BE5dO4JaXFvPRit0xr42uCUb1zuKB8w4lL82X1Cx2XXPqZV0+ZQAg+NO7KymtDmNLJyYzK8XDb08eyU+OHQLI2CZt/4hachZH4REaHSJDL7gPqiubLu/QQd2SMT+Wm+00aUAez11zBPe/t5KNxVVoQjB5YD43HDOIVI8evQEn70dzT53mNfjjmaMZ1TuT95btpDpkkZPm5dqjBzG+f05szM2mKe07URq5QhEHgRN3eMLIHgzsls6Ds1exuzyIR9c5eUwvLpxUkFQlKzaOaEZ7XpqXhy8ax+i+WXy4YjcSycBu6Vx39CAGdUuPvbfZ1JMtj1breZIvW7quQVUlkyZN4o3Xz6VbVhrZuXlNDLdmPF6vFyEE+dndmDxiKsFwAMPjYfGi79mwahOnzjoZr9dDMBRgZOHo2HE33HADN9xwQ+xvTXPa9rgZiM3BVabmzJmDpmkcd9xxsdeUkpU43Gy/3lkp/PuHk3hk3loWbShB1zWGdE/juqMH0ycnpVUKhWpOHA5XTRvA4G5pPPXZRqrDNj5dcN6Evpwx9iDiqOpbmxq83EE8KUNOgMC+xsNrpNUhi5VCvWB490bcI8PHA+cfFveA1pR/CcyaVMCsSQUNnle3IUVHQhNOV4VB3dJ49KLxcd/TGrJV+xLXHj2Ia48eVOf1jiJbdcbpJgoKwZDCAlw3Yuzlel9sPCVm9IAx3H3lg7G/X895g1X9V/HrG34V//r1LE61Y7X2F7fluho1TWPOnDkIITjuuOMOqpCronm4ClSKV+cXM4c3eF2SXANCvOtNH9ad6cO6N3i+y/76P3jxAN7csb6lBncD19VhRrOTItFMxLZA4JRzcMdhWjJqZm2vyGY8FF0V12psWm0vW1BPtqJZj+1etqK7dqFT84XWki0pJTJaPLR+w+cmzy6lUz8r+jjtrFP59a2/wrJrnrNqJbi453Vdhm69qy+//BItWum7sbgtN/Zr7ty5ABx77LFKyWpF2sO8d63c7jgilt3O1zaIVX6N90jEbcyK7P/RQYm77RKAoQk8uoZH19q0Oq1eaxyGLg5+1yG0xgPs3CC8Fk9z0YyHoisjBBh6O5StaED8QVEviFUCthT1ZKulROVHE5joLNluUVxpga4hZY1sHYhyVefsQmDoBoZuoGs6mnBcgbpm1Hk+3nFSSvr160efPn046aSTeOONN+KOo7biNWfOHKSUHHvssXXOpUg+CZv3LUQTNePw6Fpy1rbYGpeADync/8R5JOI71D37f3RQuk6tgXAVBEygLE55By8ELJAHk5kRnWGGD46/HY64IZrmWl/Fd+tSRN2gKhVW0VkIV0Cw2snslRKRmomwwthV1U5AfLD5Vdvr4C4O/iw45QHs6n2I1FRWL1nBjPOu4vm//4njTj4eq7QMw+uHblGXUAvKLdR2CTZH8XHfk5aWxuOPP87AgQO58MIL+eMf/8h1111HSkpKTBkTQhCJRHjrrbfIzc1l+vTpDa6pUBwwZrCO/DXAtp2C2geD2w5n0tUwZIYTI9WgPobmnD9vSPSYrqNWNJcu8I1Eb2B9xjoTxJtOAyVI06GqzKmxVfuYA7qMBt1GQLfmvl/dWBUdnegc7nc4ZPVDal6ER3D/sws4dWIhIyaMQpZVICLVTo2fg0X3QM9DYub3v935H3oOHM34M6/DzkhDbxD3fvCyJYTg5Zdfpk+fPkyZMuWA6mRJKfnlL39JYWEhP/7xj6mqquJ3v/sdkUgEwzAIh8O89dZb9O/fnwkTJtS5pkJx0OQOhEHTHINBPGyzZoN/oLhzM6fQeRzIMYoYQra0AExHIRJwiojGK3sPzk7Ak9pCN0dzvko1CRWdjHA1YGNbNprXw6wrfsz8D97irbdeZfyYQ5HSRvOlt6jMg4zGr2zfvp0BAwZw5x//yK9//Wsi4TAer+tSOHjZchWqffv2ceihh3LLLbfw05/+lEgkgsfTfJeFe54VK1ZQUlLCtGnTsCwntuuNN96goKCACRMmqJgsReIwQ06rnMaQOB6XlrremgpmkygFqwm6gEUriielFS6iJpqiC+J16lK5s/+Zf/yN236Xw7bte5kwMR3btlvcvdFVSEzL4s/33cdFF12ElBKPN7Hp3hs3biQUCsVKLRxo1XdN07Asi5EjR8ae03Wdd955h4EDB3LYYYe1rLm2QlEfwwf4kn+dphQptfQ1SdexaO33Y8qkF1bs+HTp5GNFY9SXrVhGnoUWa3grWtyuJpmxTO65n3nmGe69914WLlxIZmbmQY/ZNM3YcW+99RZfffUVV155JQMGDGhE0WpKtpTcKZqiGVl/sUB2RVvQdSxa+71Bq0kYF2k5gftbF8LCJyA1p2E7B6FBpBp6jILJ10dN1Gpx6DLEya5zShg4yoRTyNPCMIyDtubUVniS4XZzz7VgwQIGDRpEZmYmpmke1FillBiGQSQS4c0332TIkCHMnTuXKVOm8L///Y+jjjrKidvSQOgeWP0ufP//ICXLkbc6AzMgUAqHnA3DT3ESdlS/VEUdEpT119Vwe7UWrYFvnoJQZTR0qJbWKjSIBKHHSJhwBXjTOJi1TUmsomncBtt7VsH8pyAnzcluqY2mQ3UIhh8LE692FC2lZ3VZateY0jSNrVu3csstt3D33XczbNiwg1K2NE0jHA6jaRqGkZzblpSS3bt3M2nSpNjfB1sqorKyktmzZ1NQUMCYMWP461//itfr5bTTTuPpp5/mzDPPRFph54CtX8GCf0N2SsNaQboPSqsgq4+jaNk2KK+jQtFy3Jiz8u3w1b+hak907aqlaGk6hEIw7Dg47AeOonUQa5vylSmah+YBn+ZMNG96w4dPb6U4OEVHwS1rkJXlZPMee+yxfPPNN9Emzc1r4O6+b+vWrZx//vls3LixzvOJ5t577+Xyyy8HOGiFrrKykrfffpthw4YxceJEpJRYlsX999/PbbfdxiWXXML999+PiNYcQ/dGZSuOXHnTnNc6aOsRhaLdI/TG1zVvOni90bXt4C0HStFSNBPpWLf291AoorhFO7Ozs3nhhRc4/fTTmTFjRqy3X3OUJfc9//73v/nwww9jSluyYrVGjRpF3759D/garjuzurqat956i3HjxjFq1Chs245VgjdNk1/84hc89thjzJ49m0BlBTLaH3H/stU1QmkVitYn+Wubch0qFIqkIqXE4/Hw2GOP0bNnT04//XTmzZvHpEmT4gabu0qLbdtousbOnTv561//yh/u+APdu3dPStae6ya0ou17DiQA3j22vLycd955h3HjxjF06NA64xRCxCx5F198Meeeey4alnOdDL9ysyvaESq4PtEoRUuhUCQVIWoyDn//+9+Tn59PJBKJvVY/Fsr9f01oCCF4/4P3ATj3nHPrvJ7oMe7YsYPevXsf8LHu+NeuXcuYMWMYNmwYUsoGyqBr4ZNS4vc7BVyXrVnDnKc/5geah+6adHJPEvKJFIqDRQXXJxrlOlQoFEmndsbgj370I6ZOnQrUVT7c10OREMFwEAuLfWWl3P6b27lg1gUMGDCA6mA1ESvSaMPmA8U9z8aNG7nwwgvZtm1bnecP5LONHz+eUaNGxT7X/njyH49x1FHHM/eTr7C8BrZtqb7zirbHCjst6yLV8R/hKuc9imajLFoKhaLVqO+eM02TQCBARkYGAKWV+3j49QcoqSjB6/FSWV6JVmBRmrOL3z51MxWV5eRndecnZ/+cnPTcFtfWsiyn7MS7777Lt99+G7M0NXXOxpQwOxrH4dYOq12i1R2na9n7wQ9+wPvvvMlD/3mVy/O+hHd/j7RTEOJg+q0qFC2lVird54/AslfBn+l0U6mNZkBVKUy8BCZf55T6aYvehvuNmRLtqlK9UrQUzSTqt48XGCiFE6yrguEVzaB21uHevXs5//zzOf/887nxxhsJW2GWrP+W3ft2oesGAhh9wlB2B7ez/fstmGaYnnl9CEcSs6N2x/HFF18wZswY8vPz93tMY0qYHqdRvBsMX79R9RlnnMGf7rqDwkFDkR9/CyEQqdIp31AbaUflTpm6FK3EnuWw+jNI9Tasmah7oCwEhZOdv9vqnp/Q4uL1g+FryZoUKhhe0Qq4i0ffiXDOQ+BLb7gYCOH028rpX9PYtP1sJhTtEDfrsHv37lxxxRVcf/312KbNpddcQkZaFpWBSgzDg5Q2lmnh8/hJ9emEIiHS/GkJidOSUuL1ejFNk9WrVzNz5sxmWcj2VZRQXl3W+Psk5GTmkupNi8Vp7dq1i7y8vFjfxFmzZgFgWSbaoOMQ5z7kpJLXv6ELDcKVUDjN+btFvVgVimbgSYUU3SmgG0/RChe3bSmfcDXs29S4LEjLkaXsAposeuXKb95gmHGn0w+5vgInBJhhyCmIFitt/HRNoRQtRdO4E6/bcOfR/AOTMhxF58FVti677DKysrK44vIr+WbZVzDUqSRv21qd2C3LtqLPJ2YX7boNFy5cyNdff+3UtooTnF+f/3zwJC/M/Q8+b0pDN6IA27L50Zk/46LjLqOisoK7/ngX8+bN49133yU/P7/OMbpuQL9JzqM5xLGaKRQJRdqOy9B91EZoznNtYcmyLUe52vI5/N8JkGmAFadLSbUNI6fBdZ9Ej2lEzXHXtqy+MP6yAxjIga9tStFSNBPZDPdF+/KLK9o/bhPms846i779+nLCcTPIGZXKITOHEaoMI/TkzSdXmfJ6vVx//fWMHTu2zvON4femkJWWjc/rb6BoSSmR0qZHt54s/GIhN9x4A6FgiHvuuYe8vLxGzt8M2RICtXlRKHCKZ6fpkJrbsJOC0EHsA1/WgZ0zyTFfCVe0bCkRiNiYpASJRFMLcAdHKVFtjV3L0iJoKGsdFV3XMU2TiRMmMnvu+9z2z18QCUeSqmS51wWYNGlSrO1Oc5DSxrItLNuKGxivaYK7f3cPyz9fxawLZ3HnHXeSnZ3dxBmVbHUEGqxtOIq1WttaG9mExY2oxc2Ke2SjJDTmqyEJVbSkpMGkE/WybxQKxcFRX7bcv6Xs+Ou0rutYlsWI0SPoO7Q3W3duwWN4kLZ0Aso1EQsqT2QdLdcNmajzCk0QqAxRWWzy3PPPc8IJxyOlJBKJxOKzFB2PuGsbyetQ0LZEFX8RZwMQe64zfu7kkTBFS+J8/9v2BVi4oZiKYAQhIN1nMK4gl4Hd0lSfYYXiAHENJpaUrN5VwZKtpUQsG8uW9MryM2lALnnpvrYdZILQdZ2qsipCAadpuW3bWJaFP9WHZdrYlh11zSUuA692fa9EIG2Jx2/w+4d+zQmTjgdqqsIrOibu2raj1FnbygMmCDB0wSF9shnTN6uTWbZkTRZ5gwxzNytPZcEeCAlRtNwd9bo9lVz8z4Us31GOV9eQSKSEXtkpPHfV4YwtyO4Uu2+ForVw3e5vfbeDH7/wLdVhJ/hTIAiZFjNG9eSpKyaT6TM6RUFnXdPxGl48hhdd08lI9bNp1RYy8lLJzs+mulpiGJ4WWxLcgPcFCxawd+9ezj777LjtgOpju70J90MoFEJKyaJFiygqKuLUU09tcc0vRetj2RJdE6zdXck1z3zFN1v2YWjOb2jaktw0L/ecPYYLJxVgdxZlSzOcJuaGD6x6KoLuAcNom9pZHZgWf1uu4hSKWNz++lLWF1XSK8uPaTsary4ERRUh7np7Oc9cNZk0r6EsWwpFM3Bv3JuLq7nv/ZVYtiQvzYcVtb5owssna4v483srueesQ9p4tC3DVUCy0rO55bxbCZsh0tMz+OXPf8HXLyzjtnt+w/k/OJ9AIEBqShrZ6TkHbYWqXTz09ttvJz8/v0lFy72OW2Q1PTO9zphrv+7+a9vONXbu3MlFF13EK6+8wkknndQsZU7RPnDmCQTCFg/PWcOSbaX0zPRj2RKJ01alOmLx0OzVHD4gjwHd0jqwMl1rzIdfD8NPdUr1NMiqFWAGIW+Q87fWRu7wDubabLlaGv08c1bu4cOVe8j0ewiZNTs+C0m6z+Dz9cUs2lDCMcO7t/iSCkVXwN0df7h8F6t2VZCX7iNs1ZWtFK/Oy19t5aLJBYzqndXhLcZew8voAWMAuOP2O1n00Te8/977TJt6JGkZqXGPsSynOfOBLnBlZWWsWrWK2267DYjvPqyvGD31r6d46Km/0n1qOoFQAIGTtahpGsFgMFbewY2tPfPMM/n1r3/NJZdcwjvvvMPkyZOVstVBsCXommDlrnJmL99Npt9D2LJr3PmA19DYURrglW+28csTh2FKMDqw/AEHVsqnLW420oawdOpexcs6DEuwQq0/riZosaLlfs2Lt+3D0EVst10bW0o0DZbvLHMULWXSahwpm5ExIVThwi6CLSUrd5fjNTQsO44FRwpM2+b7baWOooXssMknUkosyyIUDnHrb2/lySef5P0P3ufIaUcCYFommhAs+OQTrr3mWu655x5OOeWUWNuc/VoTpBWVL0cb3bB+HdWVFYw7bAzYJhrRmJRaGUhura/58+fz05t+yo5tOxg6YTD9exRihk00TWPlN2sIhUOMnToGM+LIbkZKZmxMv/vd79i9ezfnnnsu8+fPZ+DAgUrZ6gC40rarLMjW0mp6ZaUQseq6jTUhqA5ZrNld7hwjO8HiFovNEjSMxYo+J7QDz9STEqRJ099PM9Y2Typ0L4T07Dh1tHQIlkFWvwMbW5JJmKPVZ+xv4Redw3+dbIQAofzfCgdBw2ynBu8RAq/R8Rdtt4DoF198wbvvvst7773HkdOOjFmsdE1HCMGQwUMYP348l19+OQUFBfzhD3/gpJNOIi0trekLCL3OPf692XPpO3AooycehdRA0xqGNXz//ffcdNNNzJs3jwsuuID/PvNfDj300DqnffzRx1m9ejV/+flfGl4y+ts98sgjbNq0ieuuu4633noLr9fbgd1MXYv9yqDoZGvbwShRzTqvANECV6OrgBUcDr/d2Mxj2sdamrAYrSOHdONP760kxaM3sGpp0UayYwtyW3q5zk/5Dtj8WeMVoG0LsvpA/ymtOy6XWMbJfnY7ihYjcRbiMX2zCYQtMlI82GbNdy4AG4lX15kyyOnRp3XQ3bRt27HMvNGjR7NgwQJ69uzpZHPVcgtKKenTpw/PP/88ixYt4vHHH+e8885j6tSp/Oc//2HQoEExBcY9Nsb2b6F4HULzgICvZ7/E2O6SzC1vEakK4DEM6DsOsguR0kYIjc2bN5Ofn89bb73FqaeeCjgKodBqvufrbriOiBmJNZUGovWW6sZwPffcc8yfPx/TNPH5fA1dlU1mcynZam3cX7hPTgr981IpC5gYmsB2Y/JwLM6pXo1RfTLrHKOoTXS9KN8BGz522vfEi6+0TUjNhwHTalq5NXa+5sRnHozFbX/ZlAcZ/yVkAvKa3aKkt766lEc/Xk9OqgcbQIKmQUlVmFkTC3jskvHonUnzTyjRybjybXj2XPCmxqlWqzmBiCNPhwtf7BwFlBSNYkvQBBRXhbnwiS/4cmMJOakerKjESlsSNC3uOWcMV08b2CE98k1ZdZoKTnetXwBffvkl8+fPZ9asWRQUFDQ4p4y6C8XbN8GX/3D6oGGzbGeITL9BvzwPmBZCQPm02zCO+hmpXi0qXjXnsSwrFhBffzwuykLVeXALklq25J53V/HXj9aQ4TdirwkJVWGTQ/tl89L1U8hL9apbcjxs07EsrXoX/nUKZHYDq15TeKFDqAL6Hw6XvgEpOZ1qfUuIXU0IRye488zR9Mjy89eP1iKkRNMEYdPi5hOG8ssTR6B3uGWgLajdSby+DmwTFf82GFY0dmXZq05DT8PXcBxCh1AljL0QMvt0KkFpCzThfIV5aV5evHYKt/zvO95fvguvoWFLSPcbPHz2OM4c2yeWht6RcBUp0zS5+eabueiii2LB4kCjMUxCCAzDiCk+kydPZvLkyXVenzt3LgsXLuTnP/85Xq8XolZ1vVZ9oNH9fGDZyEgEYWjsKbeYdvmfueP+An4w63xs24opTrZtxxS7eONpDvUVxOrqalJTUx1FLViGWPYqRCqj1uw41mIrDOMvh5RsVKBr8hEAQmBogl/MHEaW3+DvH68jFLERwqltd9IhvXjgvEPJS3UsMOp2tx+kaGRtk40834qseAP2bXGsQ/HWWCmh4AjoO+GAT50wB6bQBB4ENx0/lOnDuvP9tlI0IRjdJ4vD+mUn6jJdg3hpq84LbZe6aluga7Dw77BmLvgzGwbt6x4oL4X+k6OKlt24C1TRLIRwRD4n1cO/Lp/Ep2v3snFvJZommDoonwH5Tkp5R1ayZs2axddff83NN98cs0Y1R3nRdT2mvNRWyoQQlJaW8ve//52//e1vPPjQQ5x95pmkZKTUVJ9EYIdqKXQ2ZPvg+Xt/wmHnnoW0rZgrU0rZqJLlfpYtW7aQnZ1NdnZ2o1Y6V0F0z3nSSScx/eijuOPOPxKp2IPx0R8QFbujbpM4m5hgOYw41VG0lJ7VKggc3SDVq3PTCUM59dDefLGhGNOyGdw9g6mD82MbIqVkNQMR/U97LMuw6J+wZnZ8+QMnw3HmnY6idYA/eOIUrVr/f1i/7AbKVYe4LzTL79sKn8LNjIo3nrauyit0p4CMpjcchhZ9rf3/0h0KQe1YyHyOHJIfe83RGzrA911nLjvWbjMSZtYPfsA333zDx/PmUVhYeMAB4vGqrkspOfvss5k8eTL33vsnrr7ySv7voYf49ZEpnJPlcZQ8JDHdNCpTXkNjwugCMDx13PaNjccdazAY5LzzzmPWrFnccsstdaxWTY37F7/4BT/4wQUMG3kIF551NCYahqZFg37jKFpa+6sP1BVwo1EFMLh7OoO7p9d5vWMoWXL/y4aI/SeJw4iuX3EtWm29tkVlL578QYOM5AMhKZGVUjpBgraUse+z3c9DqFsErbGHQtEGuFOvjmzRQeQKYvIjhUAKjUDY4oILL+XLr79j7vxPKRwwIFbks+WXcoqR9unTh4cffoRPPvmEYSNG8fbny8FrNFnoVIab34zWHavf7yctLY3t27cD7LdyvNtG6NRTT+W+++7nqquuZs7rr2KkpyW0vZAiccR0cuKsbR1CCJuztnWID9IhSUruoxB0rFo+7pakdDOEquJrrQKnZkfeQKeOR8da5hSdhA4nW66cFK93ighKEF4vqxYtonjFx3zy8n8ozI5g7fgevcdwoKlso+bj1r+yLIvxEybw7H+fJvDStbDkP2ieeIkmDgezaGqaRr9+/di5c2fs76Ysc25GZDgc5vrrb2DHzl2ce+XNfHBxCpN6+5CW7FC/cFdC0EEsyPWp2gNVe2nctiIhvZuT9adIOO2jyERbY5tOfNGbN8H6OeDPbiT+qASueQ/6TwXbTk7RUCGcDA3NiGNeFc64VNyToqPgbmL+dzHsXYswnOKio0IhPjxf4Jl/A/YHYfRIBfzkO2cjkyBfjKZpaJrmBMFrgpS0NMAtFVG/VlBUITxA14CrUA0aNIhPP/0UAMNo2moGzmLt8XiwTJM/3nknoepK1qx7hEm9UxGqYa8i0Sz6F3zyEHh88UNSLBOO/S1M/SlJMyI0tbYJPfpa51zblKJVm1AlBCqiiX1xFK1ARcNKtInGDEN1AMxAfHe1hZMGq1B0JIJlENgXq6Hj1TSQAntfBZrugWAF0raSYsnRdR1p28jqMrRQEEvzoMsIRIIN32zGea4JXEVrwIAB/OMf/6CoqIhu3bo1K9asdnzZfXfcAo+9AaU7Gw/GVSgOFjPoyJ/pb0TRihzw3D9grAhUmWCUxGmdo0HIdu4TndB9rhSt2mjRgFPNA7LezlbzOK8l22yc3RfGnuWUT4hn0bIjUDApuWNoCrdqsIiTAht7vgOa1hXJRTOiMuSpFRALmuGL7ma1mEstGbNHCAH9j8AK7uX3zyxk+sj+HH/UociQWfd6eYMP6vwTJ07kvPPOi2U/Hqh7SQZDCCmaIVsKxUEgtHryVw9J8uaXKwuZvWH8aZCa6XiR6o8vUg3dh4ORmPCBA0Y0IX8Qfe3g7k5K0WqArPWI93yyiP6AfSbCRS/t562i7r+tSSQAYRu0qvhWv7Dd8HmFAogvWzXPWZaFLoRTlT3B6pZpWRiTruJrawR3zzmWqTf/B046CWlG6lR5j7nlm7nouIrViBEj+Nvf/lZzmgOUTYGEcJXz0CPEzToMW51yt69oLRpb22jkuQThylSf8XDZ/6PpjbiocR+29voWCTYuf+BY4eoXWm0mStFqb7TXXodunaJDzoMeo8Ebp42CW+sns2/0b7UDV+wfy7bQU1M599xzueffbzJiyICENl2WUqLrOqZpcvef/sy0I8Yx44QTQEqEbiTkhi6EwDTNuOUmmj4w+q8/CyZd47hO4sWpCOEsBP7suscpFB2FlvY6TDajz4LuI2rWuvrYNvSNepMO8J7RDld0xX53ra1R76TBNaM3/yk3HsAxajVQ7B8BoGl4PAbHnzCDt1/7H2PHjkuYsuX2PNy9axdbt2zhrrvvRjcMLNN0lKLa8taCObu/2lnxiV4vLR9OuOPAj1MoOhLtcW1zmXxt0k6tTA61iflo27iOlqp3ouhsNDGfNd2A6mpeevU1Tjn1VKYfPZ158+bFyiS0FFdZ69O3L98tXswpp5wCgG4YCZFvd4zfffcdy5Yta/F4FYrE007qaLWHMbQByqJVG8sEy3Z8sfHijKxGqrUrFIqmsSLOI25qt42MWEjL4olH/kK3zBROPPFEvvvuO0aOHJkQy5arDLnnSmQtJNu20XWd++67j2AwyGuvvRa7XoesuaTofEgrKn96/DWssTVPkRAOWNGSsf/gKMkJHU4bjcW9GWb3g26DwZfZsKChZoBvr5OeXvsYhSJB1Ln/tbVsJXosuQOdf3U/8TLqRKgCiYZlmtx9zz1MO/JI8vLyYm9pibJVu9TCAcVPNRNX0Ro2bBgffvghpmk2q5aWon1RZz2hbW/xCR9LWh50Gwa6j7iB3nYEUnJbeBFFYwjZzLuBBKTt9CirjWW3TUPbeNdt8VhC5WBGGp/V0nKCUfV2HNCn6HBICRKJVm/e2bLhc0kfC9GYpkSPJVAa3TE3dg4JKTkgGq+qfjDKlnuu1157jZycHKZPn37A/RT3RyQSwePx8Pjjj/Pwww/z6aefkpOTk/DrKJJHUtaTgySerFnRtfegRxOpdjLGm5I/T2qNIUGRUJpt0RKA0AQRyyYQtkBAmtdA10SrN9WUEvToWKrDTpHDNL8zlhYtCL5M8CV0qApFkzhNoUEgqA5bmJZjSc1M8aCJ1pctgePucsciBGT4nbG0SLZSsg/o7ZZlIYRwgth376asrIyhQ4diWdYBuf7cps833XQTF154IdOnT49ZoBKFO5ZevXoRDoepqKggJycnYedXJBdb1ihU5QGnkKbPo+Mzmm6llAykJCZrlUETCfijY2kRntRo6zhFW7BfRcs1YVpS8vaSHXy4YhdlARMhIDfVy6mH9eKEET1brfOfuzC9t3Qn7yzdSXFlGE2Dbhl+LpxUwKQBuS1YnPZj3HMvrlAkAMeSBcGIxavfbWP28l2YtiNJA/PSuHRKIUN6pLfaeCzbaVT9ytdbmb1iNyHTqWs1ID+N8yb2Y3TvrBacvTmGc0e23BIJluXEjCxatIizzjqLefPmceSRRzr1tpqhKJnRrMLnn3+e6upqrr76aiDx7kN3Ie7bty9btmyhqKiIgoICZdHqAEgcxebTdXt587vtbC8LICVk+g3OGteXmaN6YkunVnVrjEUI+GpTCS98uYU9FSFsJGlegzMP68NJh/QEKZx8rYO+QlOouZosmnQdOkqWc7P431db+dFz32JJG6/uaNdB0ybDZ/D0FZM5bkT3pO++3fO/+u12bnz+W6rDZkzTD0YsCnLT+O9VkzmsX3abmX0ViuZQ2134yNx1/Pa17/HpGprmdLoLhC0mFuby4nVH0D3dl/SNjCtbTy5Yz69fXQqAEZWfqpDJof2yeebKyQzqlt5qLk0pJbZtI6Xk9ttv59FHH+WNN97g6KOPjv/+2guJdKxihmFw4oknUh2oZsH8BUkbpxCCyspK/va3v3HxxRcrRasD4K4Rn67dyzXPfMW20gB+j6OEh02brBQPj18ynpNG90r6b+nK37LtZfzgyYVsLa7G59EQAsKmxKMLnvzhRE4/tHc7nldKkWuMphWt6I+/ubiak/66gIpgBJ+hY0cP0YWgKmxSkJvKBz87mqyU5MUuuWPZURbgzEc+Y/u+ACleDTs6el0TVIcshvRI56nLJ1GYlxY37kWhaA+4itMbi7dzw3Pf4tW1mOsbnF12eTDC9KHdeO6aI/AkcdPgKk7vLt3JT1/8jrBpY2g1rY0NXVBcEeaiI/rz53PGOItRK7k0pZSxOli//OUv+ec//8lLL73E8ccf36wFZ+n3Szn66KP573+f5ZRTT27Hi5SiNbGlRCDYWxni2me/5rO1e8lK8UQtyk7do6Bp0yvLz2MXj2d8YW7cGOVE4N4L9pSHOOexT1lXVEWa18CWMhYmEzIt0n0e/nvlJCYU5raaB0mRGJp0Hbr3ow9X7GJ3eZDsFA8RqyYbz0LiM3Q2F1fz8eoizjisd9KsWraU6ELw3tKd7CoLYuiCiFWjI1q2JNWns2hTCV9uLGFAfpqqxKBotwgcK+zzX24hbNr4Da2BbPk9Ol9uLOHLDcVMG5yfNEuSjN61n/liI2XVEdL8emzBAbBtSYbf4J3vd3DTcUMZ2C0taj1K/q3eVYps2+a+++5DSsnVV1/Ne++9x/Dhw5G2RAqbpRuWUBmoii2EkUiEbt278djTfycsQni765RUFpObntfU5VqMaTo93A6ueKmitZDSKQC+dHspX6wvJs1nEDbt2ObCAryGxoa9lby+eDsTCnMxpURL4pyfs2o3q3ZVkuEz6twLbEvi0TT2Vob431dbmVCY236ULHfBr9gJmxeCx98wYx/htK7J6gd9x9PqgaftgGbdDbbuq8ajC6w4mostJbou2FJSlfDB1ca98o59QUzbcV/WH41tO4vTrtJqQNWwUbRPXBUlYkp2lwfxG3pc2UKCrgu2llS3yrh2loUQgJSC2m4AieNG3FMeIhixYs+1lnTVluP777+f4447jtzcaCq6gEAwwMOvPciabSvxeLxOWQUZTd4JmIz/wUjuffn33HLebzh50hnY0kZLUnsopWB1DNzZXRaIsK8qTHpOKla9FUUAEUuypzzUKmPaWlJdx2NUG1tKPIZg+75gq4yl2UgLhAGbP4cnzoXs9Ib9ADUDKqth/Nlw8f9zGkp3scz9Zt0Vumf4sG0nM0rG8cNK6bynNchN9+KJo2SB426pDlnkZ/hj41K6lqK94jEEeWleVtsV6HrjC3+3VpKtvFRvo5sTS0qyUz14W5r9dJC445JScuKJJ9Z5Pi0lDY/hwef14zE8NfWrJHizHcVLQ0MTia+h5eKWnliyZAkbN27kjDPOUBu9DkCq1yDDZ8Td6EgJHl0jK7V1lILumT5M28ZopISJlJCf4W2VsRwwQgevcMpD1O/VqRngDURreHVNmrxrunPvmOE90HURzdCoqZavCceKlObVOWZ4DyB5io3rMjllTG9SPDphy0YTIjYWXQiqIxYD89OYOCA3On7lO1S0PxyrkWN9PWVMb6rDVp257MpW2LLpk53ClMH5AEmLN3TPe+74voBE2k4ckzsWQxOUB0ymD+tO72ynzk5bKRFCiFiAPEBFeQUfL5gfa9dT5xH9LNKSIMDr98bO4b4nUdi24y6ZO3cuN910E+FweD9HKNoSd86P7pPFYf1yqAyaGHrNnNc0QciyyEn1ctqY3s4xSU6uOm5ED7JTDKdmVq17gStq0pacMdYZS7tc2aRs+tE+R90qNKlouT/w8J4ZXDalkPJAmJBpE4pEH6ZNwLS4bvqgpFu0NOH8VoV5qZw3sS8A1WEzNpbqiImUkptOGMrgbunYKutQ0a5x5uY54/ty2qG92VcdJlJLtqrDFmlendtOG0mqR0/qLcqV83Mn9uPE0T2pjlgEI6Yj66ZNdcQiw29wyeGFpHp1bFu2aYxI7aKl27dv58orr2DX7l3ouh5XedJ0QTgYZsEHn1JRXoFARBXJxH0K91xDhgwhEAgoRaudowkwbWcjc86EvhiaoCpUaz0Jmdg2zJrYj2lD8mMxwsnA2XhBv5xUfnHicExbEozUXWfLQyY/nDqA6UO7x45RdByaVRnezdT57+ebefyTdViWk0qd4tG5ZcYwTju0d+ulfONMste/2859H6zCshxnZopX42fHD+PMsX3apKJ2u0fKOEGK9RACkhS7omiI69o2bcmf31vJa99tdzYH0ilYeu85hzK+f3arzGdXrkxb8uAHq3lx0Rb8Xp2waVHYLZ27zhjNiF6Z2EnKvDoYXKvUfQ/8mffWv05qni9mvaqNpgnK91Sx8o2N2KZk3PhxXPiDCznuuOPo3bs3Xm+NO6Z2odQDGAi2ZaLpGjt27GDq1Gk88cSTnHDCcc69M9bQV8lWe8OVrU/WFvHHt1ayrzqErglMG35y3GAuPaKw1cbilpv4YPlu/vz+SiqDJrqAkGlz1ZEDueGYwUDrxkfuF9t0XIPLX4d/nwVZ+fFjtKpKYOws+MELTl/FRMdo2fvp0yhw3JttRLNb8LiETJu9FSGEgB6Z/tjC0Ba/vCUl2/YF8GqCbpn+WN0fhaIjUlwVIhC20DVBryzHRddWcYYVQZPS6jBeQ6NHpr/1B3CA3PjwlazasqJujFYUKSWGYXDW+FlUbg4y7+N5LF68mFAoxKuvvsqUKVMatPdxswd1XW+W5UvW+nf4sGH86pe/5Morr2xfi6Jiv+woDWBJSbcMP/42iEd05T1i2RRVhLBsSU6ql3R/O02yaC+KVjvngH49W0p8hkafnJp+SG21EEjpxGX1z02t85wyZNXDvdNX7YF9mxt/n21BRg/IGdBaI1PUwpaSvDQfpDl/u7pCW8xnWzrlHDKiN3c7atFur6JVHayKWaJc6oxWODFU/Qf054SzT+Kmn93Etm3b+Pbbbxk40Gl2LYTANE3mz5/PoEGDKCwsjB2+39pb5dsRZdswLYmR6qNPbhofz/mAK08diwxFnN8wsw9k9U3wJ1ckClfe3BhEaJteo0LUBOG39VgOHFHr0ZznE0QkADuXNAzCh2jzVgu8adDzkDYzCh2QoqUJUberuGg7xUaImga4jmleKVnxsQEN1n4EH94efa7eFyUEhKth/A9h5t2tPUAFxPoauneCtpzL7lgkjmy19xu8pmmYlkk4EgbhBA3Xzo6WtkTTNcLhMKZpYtkWffv2pW/fGsVHCEEkEuHGG2+ksrKSYcOGcfzxx3PWWWcxbNiwOsqW67J0ApU1WPYqLHgAXfOCR+Puw0qpqFoHzy9BRGywQjDtJjjy5tb+ahTNJBZw7s570Xbz3l3b6EAyiLTBlM5cr2/Rkpbzmh1J/DWFBmXb4b9ngy8jfg2vSDV0HwFXfUhsPWxlDtgeKWL/aXsEqlZWswlXORMSaKhoac7rgdLWHpWiFqIdCZcQ9axC7RhNaBwy4DByM/PRhYZu6LEsQHAUI01o9MzphWEY6NJ53W0u7d5D/H4/s2fP5pNPPuHFF1/koYce4i9/+Qtnnnkm//jHPzBNE8Mw6gTSm6aJqC5FL9uO0H2AzZTuOug6FG9xFLFIEELlbfHVKA6Q9jLv3VtBexhL00THl9ETRh8LKbmOYlXnLRoEy6D3uOjfCf5MdgTKdoK/omGslmtESE1uoeL90U4dv4qEI3Qw3MzQOIqWHQFdTQdFx8Pr8fGTs34OAh568CF69+nDrFkXNPp+V1GqH/AuhKBfv35ceOGFXHjhhVRUVPDRRx+RmZkJ1GQ77tixg4qKCgYOGIDH64WcbNC9UfmKlo2wJMLw1/iChJItRSfEddf1nwJXz2nmMYmWBQGG4chfPEWrHRRIVdKPk+1RPyNAF23rvkk8tbMO43wwadcEKigUCUDi1NmrPasExGqGJQo3kL2oqIj7H7if6667zrn+QfQ1dAPphRBkZGRw1llnxV5zFa1XX32VH//4xxw5bRozTjqFI7yrOFYTIG0EtUpfSJuoL5OuXENI0XbYUmLXm3qaSF5NvjZD2jWPOoh2sbYpRQuSXG9LdTRXdE0EyZStmkBR27bQNI133nmb0tJSrrrqKlzL0oEqWvXf77og3YKoQgjOO+88cnNz+fTTT3nsscf4MKWU4y42wFLKlKJ9oQlB8pY3tbY1ly6raLkZimHT5rGP1zNv9W5s25k6Oakerjl6UIIa+arJpuhauDJTUhXmrx+tYcm2UmwJtg0FuSn8+PihjOiZcVCKUA3RwHRANzyEQiH++eSTnHPuefTq3cd5RwJWmNruRXesPXr0iLkX776njKrZ98D3DzvuQ2W5UrQx7tpmS8kr32znf19tJmxG6016dC6Y2Jdzx/dLQAKeWtuaS7tVtBpkNyb4/O79/d73VvK3OWud1h7RBUJKyZJtpfz7skmM759z8EUabdPxGTd1qGa0TiE1IWqlv8aJ0dJ0VVCxi1Dbip5oD4LTpksQNm1uf30Zz325GY+hRduKCBZugCXby3jhqsMpyEs9yI2MdGrxSOkEtBsGn32xiM8+X8idf7gdzXayCw2vPylzWkoZDYzXycnOIqdfD1galaH6ipYrd53NVaM4aJK9ttlSoiF4/sst/PKVJZiWxJaOoqULwYI1Rfg8OqeN6X3wypa0HBkUGg3mvPsBNSMJ8ViNoOnxyzvE5K9t17Z2qWiZ0V5P7g3YijqZE+2GWLWrgqc+20SKV6/TyFMTsL00wB/fWs4L1xxBilc/iAkp4ZunYe2H4PE37iOecDkMnJ78ImBWBEKV0T/iZR2GwGydLvWKtsO0ZZ34Q9Oy0bTEp4+/+u02nvtyMzlp3jpTX9Ng2fZSnl+0mV+eOPwALVpRKQyUwZw7oWoPmjDAo7Pz/W/50ZRMjtjxH3j1BXThgSNugD7jatLAE4QQAo/HAzLac7G6ChGuAsvESR+v/WYNIiFH/hRdHsuW0V6myVnbbOlUl1+1q4J73luJpkG6x6gjg2HT5nevL2Nsv2z65qQ2frK4F4gWKF37ESz8B6TmOM/VRtOhugxGnwHjLq05JllICaEIiKqGYxECwmGn1lYb0u4ULSmJVXgvj7YgSPMZsdcSsR7Y0lGmnlu4mZBp4dU17Foz0ZaQ6fcyf00R327Zx9TB+Qde6EwCWxfCt/8Dr7dhkJ578x9wpKNoJbuSWkZPKDgi/mua5qTA5g5I3vUV7YKYbAUieA0Nv8fZBSZq9rnneHzBelJ9BpZTmCiGbUGW38OzCzfzo+lDyEg5gFuQO8hItVOJumQjQveCtLioj4+LBhiw+lWwIgh/Bow8LapoNWzLkxCEcNLvs/pC/8NBi+M6FALMMGT1S8IAFB0JKWsUqsqQoxCkJ3ht06IT/f2lO9m5L0BOmjemzLkYuqCoIshLX23l5hnDsGzQm7sPcdfJPavgq9cgK7Vh3SzDA2UByO7tKFr7a/3WUjwp0H8C+NKc+ITaCOEoWflDkjuG/dDuFC0h4JmFm3jt2+1I6WjoWX4PVxw5gGOGdU9QhVznjl1UGWrU0CSlxKNrbC2pjg7sIC5j+MHvA296HEUrKlnJTjt1d/KDj4e+Ext/n5RO9VxFp8OdahL4+7x1fLh8V6xmV49MP9ccPZDxBS1wkde/Hk4rk9gf9RDR+C3rYDOBhHBkyp/hxEVJG8u0sSMSjzc9Wgk6vRXcFtHv6pBzYciMJlZK6RRTVHRJ3P2BEDBn5W7+89kmyoMRNE3g0TTOGd+HCyYW1HnvQROtJrJlXzV+jx53fRM4xoStJa6V5yCuanjBrzsy2KDljgf8YWf9Sybu2pbdFy59rXGrtZQ162wbuRDbjaLl/tTPLdzMb15ZSnXYxNAd/2/EkizZXsY/LhnPEQPzYs03W0qm30DToheuNyF1TRCxZE27oYORAGk7W3jbalzRaq20U2+aUqS6KO76/7c5a/njWyti7gWAsGmxdLsTjzi8Z0ZClC0B9Mr0s76oCk3QIL1cCEG6z2jZhklG5Uo4sqUL0AU1MictWi0w3ZehFClFo7hJH5+vL+aG575hb0XYyQQUAtu2mbd6D15D56yxfRJiWhYCemWlELFsUn0Gdr1sWLfqvbu2HZQYSlmztjWoXaXFX/OShWa0+/ZW7SL62WmjAwvWFHH7m8tAQG6al3SfQYbfQ366jz3lQX7+0hI2l1Sha6KOq+9AcavtnjS6F5bt1BnRNRFtqQEeQ6O0Osy4/tmM6p2VoE/Z1si6tUbiPlTGVGfD/Ulf/3Ybf35vJak+nexUT1S2DLpn+lm5o5xH5q4lZDrxWomYBedPKKAqZIKokS1NCLy6xr6qMMeP7EGqr13cflqOVLKliI+bHLK9NMCPnvuGyqBJdpqHjBQP6X6D7FQvXkPj1teWsqssUNN+5yBx18UZI3uS4tUJRiwMvWZtM3RBMGKR7jU47dDeQEeoPt8M9it/raT0NUK7uNOZ0Zn17MLNlFU7sSOm7WRKWLYkYtlk+Ay+3VzClxtKWnw9V4M/Znh3rpo2CCkllUETKZ3gxNKqMIO6pXPXWYeQGw3m7fhJQ8LZaTT56PAfUlEPt1zovz/b5MRiCKKbixrZykr18PaSHewsa9zd1+zrRY+95Ij+XHh4f4Jhm0DEQkqIWDbFVSEmFOZw8wnD0DWtc+gfQsmWomneX7aL7fsCeD0apuXInm1LTFvi0QQlVSE+XLG7xddxlaZD+2Vx7zmH4jM0ygOmU7pIwr6qMHnpXn5/+iiG9XSssJ1iau5X/lTWYfTuLCiuDGNKGVe/tqUkxWuwuzwINCwseDCXlEjuOms0I3pl8NTnmyiudLLuJhTm8KsTRzC4e3oLa/0oFO2D4uowNWpXDW7yyZ6qIBF3x9MC/4XjDZdkpnj466yxHNI7i6e/2ERlyCTF0DlmeHduOmEovbL8SrYUnR53du8pD2LootGNhS4Eu6JrW4uuJ2LLKRdNLqBPtp8HPljN1n3OJuqwghx+MWMY04bk164woUgy7ULRcm+2vbP9+DQt7oZa0wShiBVLR23pTdoNBpYSLjq8P8eN7EF5IIJA0C83Bb9Hb3ksWH2XQv3X4gWHKRRJoE+mn/V7KhvMOCHAkpLeWan4PO6ur4UxWtGadIYmuG76IE4e04tA2MKjawzolhYNxm1hUkujbgFR6zklW4q2xb3L981NjdWSa5AEIpyiIAW5B1hqoRFcsbJsyfRh3Tmkb3bMiNA9w092qicBcc7RbOK4a1u08nenMFcnhnahaLm/94zRPXl98XYipo3P0GJBtLrmpMMO6JbGqN6ZCbuuAKRwbvo9M/30zKzJkqgdMHzQaLqTFaV7Gg+GV0VCFUkkFo84pjcfrymKxSPGkl41we7yEOeO70G3dJ97UItxCv8CyAYLSEIyh3VPzaO+oiU053klW4q2JqppTR2cT4bfoDpskeLVY1UINAFB0ybVq3PEoPyEXlrXBJYtyUvzkpfmjT2fkLVNaKDr0Wy++plkHue1eAVEuyhCyvahdrqa/62vLuU/n28iGLHwGo51y7RsMvwGD553GGeP75ugEg91qR1cL0hE01sJW7+CvWvjT0aXvhMgd1DiCqkoFHGQEq5/9hveWLId07QxorXjpIQeWX6euGQCRwzKS1iJh9rUkS3RktDb6F0iEoB1cyBcSfzK1NGq1AVHQFYfJVuKdsHLX2/lly9/T3kogjdauCpsOmvbLTOHceMxg5PiSnfDZCABa5tb/3HvGtj8BXhT4wSaC4gEoeco6DO+5pguTLtRtKBG2Xp24WZe/norVSELoTm9B689ejDHDe+u7pkKxQHiyoxpSx6dt5Z3vt+FxAmIH9Yzkx8fO4ThPTOUbCkUSaB2LNSHy3fz2Px1VIZMp69uiodLjiiMZQAqGeyctCtFC2pir/ZVhykLRNCEiJV6SIYlK6k0K05EZSQpkk/tG/iusiAh04rV0tGESFhtulZjv7IVzWdXob6KdoK7flWGTCdmSkB+mo+06NrWMmtvKyMlTmRZU3HGam1zaXeKFhD3pt/hFoI2oLaJGFrqpknceNwZVrvHl6L1ceJTG25WOtwGpg1ol7Ila0akZKtjoNa2g6OB/CUkvKcF4yEqf81c29qlogXJiJnq3MQTVjvaZy7RMTfNobHFWy3qbY+SrQPDtGWsR6SLbUtoI+WmMRlSC3bHIKExU12AxuZ1W813N8mnfjxdU1bJdqtoKZqP6xYKWzZF5SF03Skv3DPLX+f11saSktW7KghFLEDQI9NH7+yUZLfPVigShjtXy4MRKoMmQgh0Ad0z20a23PGETJu1uyuIWBKQFOank5PqURsZRafClS9bwq6yAJomsG1Jr+wUx2nZ2vJX63prdldSHTaRUpKb5qV/XuMt7pSi1Un4eHUR//l8I7vKnMJ4AEO6Z3DltAGM7pPVatq/uxBsLanmj++s4NtN+6gKm2hC0D3Tz0WT+3PVtAHR/ZwqWKlon9QOYH7043XMX11EeTCCLgS6JhjZO5PrjhpM//zUVlduVu4s5+53V7JiexmBiI0QMCg/nd+eMpwjBuWrQrCKDk/tzfhn6/fyzwUbKaoIxkLCumX4uOaoQRwxKK/1xhTVsioCEe59fxVzV+2hIhhBSqdl4A+P6M9lUwdgaE6GZW0RVIpWB8bVrtfsruDsRz9jS3E1qT4jFodTUhXmjLG9+cclE8hK8UQ7yCfvBuwKR9i0ueRfX/L2kh3kpnkdc6qAQMTCtiX/uGQC5ySpTIdCkUhe+WYbVz39FYYmYpW9NU2wtzLEtUcO4r7zDsXv0aOylbxxuLK1rzrC+Y9/xhcbislJ9SEATYPS6ggD8tJ49urDGdU7U8mWokPjbhY2l1Rzyv/NZ3NJoE5CXEUwwoD8dN776VH0zU1JumUr6i3ElpK7313Bfe+tJjvVg6aJ2Jpn2pL/m3UYF03u3+D4rl3cosPjBOPd9tpS9pQH6Z7pJ8Wjk+YzSPHqFOSlMm9VEe98v9MpIJnk0djRCrPPL9rCp2v30iPLj6FraNHkkyy/B4+u8cjctWzbV40mWtYcXKFIBu6MLKkO85cPV5Ph85Cd4iHFYziy5dHpn5fG//tuG5+uK4oWXE7uPHb3w//8ZD3fbyujR6YfXXOULIBu6T52lAX4/RvLKKuO1CoYq1B0PER0vXrs43XsrgjTM8uPP7q2+T06vbJT2FUe5NH561rNfSgErNhRzpMLNtI904dH19Ciyc0pXh2/R+O215exYkc5UPeOkFRFy5ZO00zTij5sqYQ/QbiBd4u3lrJiRzkeQ8O07VizYLdpqWVLvtxQTMS0k65suUrTnJW7CZpOI2G3KKaUTgxZms/guy2lbCmuBlSXhoPFqi1XSrYSiqvULN5cyq7yIEJIIrUacbuyFTZtvlhf7FibWsl69NGKPU7bJLtGrlzZSvUZLFhTxN5ouxVF8pCSBmub2jQmlpBp89HyXfg9GmGzZm2zpXS6x3g0Plyxm4hVv2Bq4nGle8GaIkzLxo6Ow5U/K5owEwibzF9T1OD4pLXgkdLJyIkXFqSKsrUct1XinopgtBG3aFggGzB0p1l3wLTwGFpL+gU3m4hlRxVB4m70I5aNZaub0sHSVAsNlWiQOHaXB6JFrxt+o7Fm3OUhTFviaaXsp7BpN6pQC8C07Ya99BQJxVGswYiziKm1LXFYtqSoMhL3NdeVV1QRbFUFNxixYlbkBmOSYGgawYjV4LWkKVpCwLZ91Xy2di9B09E4M/wGx43oQVZK58qOqf0zt9YncnfQfXJS8Opa3B7VQkDEkvTI8pHi0WPPJXtM/fPS8Bl6gwVBCIFp2/TKSiEzxZP08XRWNCFYsrWUxVtLoxk5krw0HyeM7IHfo3eqYOg2kS1c2Up1bqpxNsxaVLb6ZKegRy3FrTG+wvxUVu0qb/C8I1uSPjmppHpVj7lk4SpSlSGTD5fvojRaVNtnaBw1tDu9s/37P0kHor4K05p3FUOD3tk+tpYEEFpd74d7e+udndoq5Ytc+R7UIx3Tknj1ht4YIZyN0ODuGQ2OT7ii5Q5o5c5yrnz6K3aUBrAsGQuInliYy5/PHcOgbulJ6avWmsT6QjfyfDLRhBMTNbJXJof0yeL95bvweTx1ChhKCbZtc/TQ7nh0LemZh3r0Q58/vi+vfL2VqrBV56YvBOwuD3PhpAKG98qMPtdxf/+24unPN/HAB6soDUZAOoqBpgmOHd6Ne885lO4Zvg6/kWlL2XLPf8SgPHplpbB6dwXpXqOObJm2RNfg2BHdHVlMsnLrKn8/mFTA+8t2EbEkPkOr83pReZCrjxpIz6zkBwd3RVyZKqoIcf2z3/DtlhIiFiAlHkMjN83L3y8az+QBuUr+EoDX0Dnt0D7c/8EqclK9IOpevyoU4YxDe8f6RrYGUwfl0z8vlS0lAVK8euz7kUBVyGRk70ymDnYyIWt/TUkZYci0ufl/i1m5swKJk6WjCaeb+DtLd/LEgg1OjEEyLt5K1NT3kJQFIpQHIpQFIoQtO6bkJBuhCTQh+N1pIxneM4OyQITKUISqkEll0KQ8EGHWpAJOGNEDSH5xRRH1Xo4vzOW66YPJ8BmUVUcoqQpTWh2hKmgxaUAuNxwzGJ+hYdtSubmaiTudthRXc/c7K9hdEUJHxNzzAnjhyy08/+WWDh8r4rqdw5ZdR7bc51vj00nAo2v8fOYwslI8lIciVIbMmGxVRyyunjaQcf1zgRpFKFm4onvCqJ5cPq0Qry7qyFZ12OTSIwr50fTBDYqrKhKDm7zzp/dWMXfVbiwbdOGsb1LC+j2V/OmdlZQGwq2SfJQsaisz5bXkLxCxYmtesrGlszZcPLmAMX2yqQ5blAedee7+O6ZvNhdOLoiNOZm4Nbu6Zfi49ZSR9Mz0UR002VcVZl91mMpghKE9MnjwgrHkpnkbWrsSWd7BraD88Jw13PPeSvyGQe3Ti+hE9RoaL1x9OBMKcztkNWN3Iq4vquSh2WtYsbMsVhG2X24at8wYyiF9slpF+3evUVQR5jevfs/WfVWOhUPAaYf24frpg5z30XpmX/da320t5e9z1xGIWEgpObRfNj87YWjM1dmBN3ytjisnP395Cc8u3ESKp0a2JI41MWJLctM8vH7jNAbkpXXI79gd86JNJU52akkg5hI/rCCbm44fSkFuaquOZdmOMu59dxV7K0MInA3jhZP7R2/yEpl0Nash89fs4alPN2LazqJ05JB8rps+uE2KOHYF3HvalxtLOOORT/F7tAYav64JSqsjPHXFJE4/tHeHjJd0587OsiCPz1/PgjV7EDhFQrtl+bnsiEJOGdOrVeaYaxWsDlvc++5KvtiwF4+uEbYkUwfl8euTRpDi1VvVeuh64TYXV/Pw3LXsKgsC0CvLx4+Pc+5N8Tx1CVW0IpaNR9e4+pmvePnrbeSmeRsEPXt0jV1lAV65fionju7Z4RSt2nU8znr0M75YX0JemgfLdlKtK0Mmw3tk8uqPptArq3WqoNe+RkXIxLJs0v0ejOhOqy1uuk1dtyPegNoaV05Of/gTPt9QQka0pkxtdM2pnTb/F8dwaL/sDue+cG9QG/ZWcc6jn7FxbxWZfgPLduZSeTDCtMHdePPGabGivMmmzu4+GEHaksxULwKnWnVb3LqUItX6uN/5ox+v4553VsZds4SAYMTmZycM5VcnDm+DUbYMN0s8ELG4+X9LePGrzWT6PbW6EVikeAxeum4Khw9sffdoMGJRHbZI8xr4PG1Xmaqp9aux15IyWq2Rfj/OaxCxJaZtxwbWkXDjMJ77cgvfbNpHn5wUNCHwGE7F6Lw0L2v2VHDHmyuc97fGmKhJMc3wGWSnejE0gWXLNrshuybmiGXHHmZU6VZrxIHjykkoYjdqJ9eiwZitkO2ccJyFTFAVMvnzeyvZtLeK7hl+NM2RLUMX5Kf7+GZzCc8u3Ay0jgvDnceWLcn0e8hK9UJU1tpqfxhPtlQWb+vgKhaN/fRCQMg0W29ACcTNZn7lm228/t02umf48egaHt2Rv0y/l7Blc8dbyymqCCEQtEa9c4kjb36PTm6aF59Hc8rZJP3K8XHXW9OqkUHTcko9NKr3JHIA7iScVJiL36s7MTi1rmxogkDEojAvjb45qbFBdyQEEDRtZq/YTYpHd9KtqalnE7EkaV6Deat3szNqVmyNCSGiMXC1a+u0taVQEyIqqM5DxY4cPO43N74wN1YkrzaGphEI2wzvlUF+hjd6TMf5viUy6rII8O7SHeSkeQlFa7G5Dzfg/PXF25xjWulOq0Xb7rjjgPYnW209nk5P9OudMigfWzqJqLWtOUI4f4ciNhMKnWDojqT6uutFRdBkzoo9sRjqOrWipI1X11i3u4KFG0qcem6tEYtM7bVNxkqrtOWMF8IpnRRb2/Smm4MnVtGKCvtFhxdy9JBuVIYczd5raHgNDdOSVAQinDehH4f2zXKOaWWTS0uKqLpvM02b0qpwtJ5Gw4Ndk2pJVbjuga2AEDUPRefBlZMfTi2kX24a5YEIuiZishW2HLP6ZVMG1MQwtfIcqF9E9WCsLCFLUhG04g5d4FhpywNtYzFQstV1cX/yQ/pkceWRAwiZFmY089Mbzf6sCJocNbQb0wbnt8kYW1Yg3HljMGJRFTbxGlpDi7GssZqXBcIJHXtzcGSvaYWmvZJQRSsas4rfo/HYxeO5YupAghGbLcXVbNsXwOvRuGXmcH53ykinxL5sXdeWW0TV7Vtm6M7/H2gmk6ELslO9jZoKNU0ghKBnVrSmSgecGIr2hSsnw3pk8K8fTuTwgXmUBSJsKa5mx74AmX4PfzxrFDceOxigSTN2MnDdDjG50musQAdCqkejW4YXO874Jc5ONitag02haE3cOK07zxjNr08agdcj2LYvwI7SAGHT5qyxfXjs4vFOXJNs3YzqJte2ZsmgI6tpPoPcNC8h046V66n1FmwJqT6DHpmdq15Yskl4HS3Xf5mT5uW+88YwZXAe2/YF0DUY3SebI4c42r4bk9GaCAFbS6r5elMJkai2n5PmYfrQ7ngNbb+FHp3P5viKzxjbh/eW7qB3TgrSqvEX65pgb0WIiyYVkJfmVYHfioQicbLvnr5yMu8v2xnrazdhQC4T+uc472nFYGl3fmvCaQe1eleFU1cKGJifxsTC3FgV5yZN69GNV+/sFM4c25fH5q2jR2YKlm3HriGl0/bmgokFsWMUitbCUVqcNeJnxw9lfEEOy7aXoWmC3ll+Zozq2WYFg4WAPRUhPl+/N9o9wAlhOXJIN7JS978xcWvDpXp1TjykJ28u3k7EsqM14pz3aEJQFoowoTCXwwflYcmOlcjWliQ067A27lnrzzc3zqJVtX3ccgP7uOHZb9ldHsS0naRsXYPjR/bgrjMPoXuGb79C4n5ZVSGT219fxotfbQVcy5wgbFpcMKEffzpnDOl+j1KyFAmnsWyftswyfHLBBv42Zy3lQRNwxmHogh8fO4SfHDcE2L8C6MppUWWIX73yPe8u3VEnscayJdccPYjfnjwCv0dVP1e0HY3JWmtnhLqZut9sLuHHL3zHnooQYdNJmPF5dPrlpPDkpZMY1D2tWWubbTsB3k9/vom731lJ2LJilq2wZTNlUDfuP/9QhnZPV9mvB0DSFC2IZgtYEtfeowmngnVb/DaVIZOT/7qA5dvLSfc7hjxHNxLsLgvwp7MP5afHD2myj1x9bFvy1OebePqzjZQGIvgMjR9OHcC1Rw3Co7deWw5F18PNhHNxA7ZbE3d+r9pVwQl/+RjTdGJW3OcjttP89dmrDmfGqB4HpAhGLJuH56zlmYWbME3oluHlumMGcf74fqqbgKJd4DY4Bsc7o7dy/JCMClpFIMLl/1nEnBV7yE7z1soEFJRWhzlvQl8eu3g8nmZUUK+9Zr23dCf3f7DaqR8nYMbIHtx66iiyUzxqbTtAkqpotQfc+kN3v7Och+esI9VnYNdeoDRBxHIKPb52w1QGdktv1oKwv4mmtH1FZ8ed49c88zVvLtlBqkevE0Cra06xwdF9Mnn5+qnNvkE31/KlUHRlXDl4+/udXPbvL8lK8WLZtWq7CCeBJGhavHL9FKYOym+e/O3nPZ2pl2pr0XZVv1oJ977/9aZ9mG6qKjUPy3Yq1W/aW8W+quZnUrjTrL6WGttLqHmo6CKs2FkGgB21XbsPM1r7Zsm2UioCEefNzdjWNVXoFpSSpVBAjRys2F7m9LKVdh35c0ui6EKwYrsjo82SPxp/q6T1Y6s7AwkPhm93iHr/xsFJWZWYrlZ2AFvm+m/r6FPQDVx2P0hH/zyK5BOIxC/HAM78SVSwQEefi0q2FMkgELGanEzSfc8BEr/ESselLeWv01u03C9zUmFuLKiv9hesR4uoDu6RTn66jwZv6EK4c1AId4GMPt+pncuKljK2Xw5WHHe7rgmqwiaH9ssmwy3J0AVlq7YlTsmWIlG4U2dsQQ4h03YSR2rJl1vzzbJtxkabn3dF+QNi5TbaSv46vaLlFlG9+qhBjO6TRWXIRIhooUddw7RtKgImF04uYFC3dKBrmkbduktVIZOSaEfy0mrH3dMFvw5Fc4jOi6uOGkiW30NVyMSIFlH16Boh08ZjaPz0uKFkp3icjOO2HXGb4H7mimAkJltlASVbihYSVRKOHJrP4QNyqQxGC4TrztompXM/nz60O5MKHUWrK043t9JBMGLF5G9fVTj6fOsoW50+GB5qLDWbS6r5wxvLeXPJdqrCJrrQ6JPj58qpA7h5xnAnU7ALBvq5zXFf/norzy7czL7qMAInQ/T4Ed25fvpgslM9rV6WQ9FxmLtyN394azlLt5cTjJhoQnBov2x+d8pITjqkF9A1g9jdxJp/frKB177dTkUwAtGN3umH9ubyqQNI8+odtuK1om1x59eWkgC3vfY9s1fsinVWyE41OP2wvtx5xijy031dOkHr03V7eXL+etYVVTntcnAsgdccPZARPTOT3iC+SyhaUJPJFDRtXly0mT3lITRNMHlAXr0iqm080FbGzcr8YPkuLn9qERHLxm/o2AASygMRrjxyAP83a2yb1mlStF9cBWpLSTXvfL+TimAEj65x8pheDOuR0WXnjVvj6L8LN/PTF77DG+2JBo4rozxkcuvJI/n1ScNjcqhQHCiufFWFTN5asoNtpQE0BIX5qZx+aG8Mff/FuDsj7mdet6eScx79jG2lAVI8OhLQhaCoMsiJo3rxr8smkh0t6pqs+1SXUbSgcUWqyy4E0UIsW0uquOypRazYUU6m30MkmiKsITClUxvp35dN4sgh+U414C74XSmapjEZ6qoKhOMmFazYWcal//ySXRVB/B49VvtM15wGxPnpPp65ajJj+mQp2VIcNE0ZCbqiAaF2XOSFTy5kzsrdpPmMmrpnOA2h91WFuPe8MVw5dSC2TbR/ceLp9DFatXH9sRHLJmzZRCwby+6aShbgTCwBX28uYfHWUjL8HsKWXatbu8TQBMWVYWav2BU9psvo5YoDQBMCW8o6snUgxX87G5btxH/MXbmHjcXV+A0d05Ix2TItid+jsbm4ii/W7QWUbCkOHndtM6OyF7Hs2HzrisubG/z+/dZSlu8ow9CdJtmu/DkFn20sCV+uL6E6bKFpyYvX6vzlHeohBM2qkNsVkFGnTzBiEwhbiPSG7xHCab0QDDvpwV3H/qk4UDQh0PQueFePgysm1WGLkGkhhLfWsy6CoGkTPIjUe4WiPkKAodY2oKZq/t6qMFLGj3+0AY/uuFzDlk0qyWvrpX6VLowb2p7uM8hK8RBvQ21LSPHo5KZ5nWPUOqpQ7BdXTLJSDNJ9BvEiNGwpyfDpZKV6W3dwCkUnx12n+mSn4NFBxlncNCEImzZ5GT5Sktw7VSlaXRhNEyDhiEH5jO6bxb6qUCwjQ+AWcnXiSGaO7gmAniwntkLRiXDlZMbonvTNSaUiaKJrNbKla85OekB+eiwZR8mWQpEYNOFUEBjSI52RvbMIW3ZM9tx6WjIa2jBlUB4+Q8OOuvuTMp7knFZxsEgpGzgYXL9yotGE0zale4aP3548kr45qVQGHTNqyLQJmjZh02bWpH6MK8iJBjwnfhwKRWtgN2JVSgaacM49MD+dX588nJxUg6qQRSgqU25MyA+nFjKoW7qToahkS9GJibeOJWttA0AINCH4w+mjObRvDpUhk7DprG0RS1IeiHD62D6cPLpX7P3JoktlHbZ3agcuutlJtav9JqsOkVtDZPWuCm57bSnriioByEvz8ttTRnLU0G6x3bhC0RGpnRVpWs7OtTUC9V3ZWrSphD+8uZwd+wIIoF9uKrefNpJx/XNUfTpFp6f22mVL6cgFNQXFk7W2uefdUx7i928u46uNJUgg1atxyRGF/HBKIT4juW5DUIpWu2NnaZA3v9/B2l3lWDb4vRpHDMzn+JE9SPHq0EWzSBSKg8XdwGzaW8Ur32xjc3EVhq6R6Tc47dA+jOufg8RRxJRoKRTJoSJo8t7SnXy7pYSgaaNrgiMG5nPKIb3webSkbTj2l3nZGoWUlaIVpbYLQdC6VZrdK++rCvPDfy9i7iqn5gfSyQwMmZJfnzScX504PNq/KkkTspHn1eKjOFgk1AkEb23rjXuT3Vka4LzHP2fJtjJSvQYSiWnZ5KR6+celEzl+RPek1tNTsqVoK6R0M8zbYG2LajFh0+ZXryzh359txG84nRAkkrBpc8uMYdx2ykhclScZ42tr+VMxWlG0qD+3fmPO1kDaTs2PBz5YzRfri+mVlUKa1yDNZ5CZ4iE31cOj89Yxd9Uep15RkurtiEYeCsXB4iRV1JKt1rx4VMkqrY5w0/++Y83uSnpk+kj16qR5DXLTfARNi5+//B3Lt5fHaoElAyVbirZCCNpsbXObOL/23XZe+mor3TJ8pPsNUr06GT6DnFQvT8xfzzNfbEpqG6q2lr8uV0erNm78REXQZN6q3eyrjqBpgiHd0zl8YF4rjcFp07G5uJo5K3fj0QWmbccCBG3LqfVRFojwxuIdHD20Gx5D67KF6BQdA7ci/I7SAAvWFhE2bTy6xtiCHIb3zGidMUQrrX+wfCefrt1LilcnYtUoUrYlSfUarNvjuBRH9B7ZZYsXKzoX7toWiFgsWF3EnsoQpmXTNyeV6cO649EFNq1naXnmsw0IAZZVk+zljFFgScmj89dx7vi+jienE9I5P1UzkNGJ+N3Wfdzw32/ZVlrttL8QAsu2ufjw/txz1hgnDZTkab+uaXXrvmoCEStugK4twefR2VlWTWXIJNfwNmoKVSjaGrci/JxVu7n5xcWUVIdjsgWSG48Zws0zhibdjejKyIa9VY32ebNsSbrPYFtpFWHLxm9oXbL5taLz4LrAd5YF+fHz3/DlxhJ0oSGFJGLaHDmkG/+4dALZKZ5Wmeu2lGwqqY66Cxu+5jE0tpcECFk2aUkeS1vRZV2HQkBFMMKv/99S1u+tdNwGuI0o4alPN/HIvLWYlp3UcujuJM/wGxh6464Ly5akeQ28Rpf9yRQdAImzS12xo5zbXl3KrooQutBismVZ8H8fruH9ZbsQELeQZ6JJ8+pNlk6IWI5sKWuWoqMTjXKiImjy+zeW8vHqInRNYOO0n/HoGh+t3M2dby53uoG0wpgEkO7zNDnoVK/Rqft8dslV21VmXvtuO4u37CPV66R3uj+zJgR+r8Y976xk7Z5KRxNP0nqgaY5yNaJnJn2yU6Kp5zUTzi1uGIpYjC/MJd1nJLWwmkLREtxpec87K1i3p5JUj4ZExp43dKdR+WMfryNk2o1amhKBqzjNGNWTDJ+BJWWdhcWNH7Gls8v3Rjc6SrQUHZaooeCt73fw/JdbyEr1OmEm1Mhmus/g2YWbeWfpDiB5teRchBAcP6IHZpxacYYuqAyZzBzVkzRv53WwdUlFy+WrTfswotXRayOjvuOIZbNmd4XzZFJ9HAKvoXH5tAFomiAYtrBsiWU7/uziyhCjemdxxmG9nbcncSgKRUuRwPfby/B59QZtnWwp8Rka328ri/XPTBaacGR5eM9MLp82gOqQhWnLaENZZ4dfXBnmtDG9OXF0z+hmSqlZio6LaxRYtq2UDL8nbuKUALweja837QOS27/WPfelR/QnzasTiFh15K8iaNIn28+1Rw/E0JNn0GhrurSiJWUTHmrpLBjJ1vYBp2s4cNbYvrxy/RQGd0/H59FI8znuxDMO68NrN06lMC8NSesUWlQoWoLVhNy0lssQiMVY/uyEYfz94nHkpHrwe3RHtjTBNUcN4vFLJpDmM6LZWa0yLIUiqdiyaRlzi4YmG+Fudnpl8t5NRzF9aHc0TZDp94CAKYPyeeX6qYzuk+VYkzup/HVeW10TuCG4Uwfn8+q329A0LVaJHaIuBQFeQ2NsvxzAjd1KYon+6L/TBufz0S3T2bC3kohpk+H3MCA/rcH7FIr2igCOGJjH29/vxOfViNg17jhdcxq5ThyQiz/JjVxrj0fXBD+YWMDMkT3ZUlKFoWlkpXrol5MK7L+ooULREZA483hiYQ5PLNhAhi4Im3U1KiEEuhBMGZQb/Tu5Y3LPP7RHBi9eewTriyqpDEZI8RoM7p4R29x05hjJLqlouXf9kw/pxZ/fW8WWkmry0r1Ysdgnwe6yAD+bMYzeOSmxAMPWQAI+Q2NEz8wGz3feaajobFx79CBmL99FIGKT5tWxbKeMiWnbFFeFuGhyf3ye1s/wy03zkpvmrfOcuzgpFB2e6I7h2BE9mDwgly/WF9Mt01fT0k0T7CkPcsLIHswY5fT4S6YBIc7QGNQtve7zdP61rctXhv96cwl3v72CD5bvJtWrY9oSQxNcNW0gvzhxGDlpPgTJtWbFI/ariM4/CRWdBxn9jxDw3tKd3Pr6MlbtLCfNZxAIm/TJSeWm44dy2ZRCp+0GrXejj41RyZaiE+MqNOv2VPK715fy/vJdIB0lqzpscf6Evtx5xmj657VNMQUZ+0/X2eB0aUXLnZCl1WHmrymiuDKMoQsKctM4amh+tFK0ittQKA4Ud5e6cW8VC9cXEzQtvNGCpSN7Z9Z5j0KhSCxuLa3KkMm8VXsoqQpj2ZJuGT6OG9GDVK+u3OWtSJdWtKCmgnU8lJKlUBw8jcmWHY13VKKlUCSPpnp3JrOvp6IhXV7RghpXgpuhJNVCoFAkBKculYhlH0nUDV6haC3qu8lry6Oi9VCKlkKhUCgUCkWS6NJ1tBQKhUKhUCiSiVK0FAqFQqFQKJLE/we7fsYh1xzhvgAAAABJRU5ErkJggg==)"
      ]
    },
    {
      "cell_type": "markdown",
      "metadata": {
        "id": "pTBZRI-EIFhJ"
      },
      "source": [
        "**BALANCEA LA INFORMACION EN FUNCION DEL TARGET**"
      ]
    },
    {
      "cell_type": "code",
      "metadata": {
        "id": "1Q0V5tsiensi",
        "outputId": "6c358701-9ef6-42ee-d725-ba26d133276d",
        "colab": {
          "base_uri": "https://localhost:8080/",
          "height": 71
        }
      },
      "source": [
        "\n",
        "#balancaeado de informacion\n",
        "from imblearn.over_sampling import SMOTE, ADASYN\n",
        "X_resampled, y_resampled = SMOTE().fit_resample(x, y)\n",
        "\n"
      ],
      "execution_count": 138,
      "outputs": [
        {
          "output_type": "stream",
          "text": [
            "/usr/local/lib/python3.6/dist-packages/sklearn/utils/deprecation.py:87: FutureWarning: Function safe_indexing is deprecated; safe_indexing is deprecated in version 0.22 and will be removed in version 0.24.\n",
            "  warnings.warn(msg, category=FutureWarning)\n"
          ],
          "name": "stderr"
        }
      ]
    },
    {
      "cell_type": "markdown",
      "metadata": {
        "id": "94b8TBRmIQlG"
      },
      "source": [
        "**TARGET IGUALADO EN FUNCION DE LA VARIABLE  'AUTOLESION'**"
      ]
    },
    {
      "cell_type": "code",
      "metadata": {
        "id": "KuClIqErfHEx",
        "outputId": "8366d518-33fc-420e-99bc-75ebeda87002",
        "colab": {
          "base_uri": "https://localhost:8080/",
          "height": 366
        }
      },
      "source": [
        "#IGUALDAD DE TARGET\n",
        "unique,count=np.unique(y_resampled,return_counts=True)\n",
        "countClase={k:v for (k,v) in zip(unique,count)}\n",
        "print(countClase)\n",
        "sns.countplot(y_resampled)\n",
        "plt.title('AUTOLESION ')\n",
        "plt.xlabel('autolesion')\n",
        "plt.ylabel('Frecuencia')\n",
        "plt.show()"
      ],
      "execution_count": 139,
      "outputs": [
        {
          "output_type": "stream",
          "text": [
            "/usr/local/lib/python3.6/dist-packages/seaborn/_decorators.py:43: FutureWarning: Pass the following variable as a keyword arg: x. From version 0.12, the only valid positional argument will be `data`, and passing other arguments without an explicit keyword will result in an error or misinterpretation.\n",
            "  FutureWarning\n"
          ],
          "name": "stderr"
        },
        {
          "output_type": "stream",
          "text": [
            "{0: 178, 1: 178}\n"
          ],
          "name": "stdout"
        },
        {
          "output_type": "display_data",
          "data": {
            "image/png": "[encoded data removed]",
            "text/plain": [
              "<Figure size 432x288 with 1 Axes>"
            ]
          },
          "metadata": {
            "tags": [],
            "needs_background": "light"
          }
        }
      ]
    },
    {
      "cell_type": "markdown",
      "metadata": {
        "id": "ULKLmtP9I0-a"
      },
      "source": [
        "**DIVIDIMOS LA INFORMACION EN 70 % ENTRENAMIENTO 30 % TESTING**\n",
        "\n",
        "![TEST.jpg](data:image/jpeg;base64,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)"
      ]
    },
    {
      "cell_type": "code",
      "metadata": {
        "id": "Znxu4n4SSF0s"
      },
      "source": [
        "from sklearn.model_selection import train_test_split # Import train_test_split function\n",
        "X_train, X_test, y_train, y_test = train_test_split(X_resampled, y_resampled, test_size=0.30) # 70% training and 30% test"
      ],
      "execution_count": 140,
      "outputs": []
    },
    {
      "cell_type": "markdown",
      "metadata": {
        "id": "1bSUwlYkJu1L"
      },
      "source": [
        "# **ANALISIS DEL MODELO A TOMAR EN CUENTA**\n",
        "\n",
        "1.   Random Forest\n",
        "2.   Arboles de Decisiones\n",
        "1.   Naive Bayes\n",
        "2.   SVM (Support Vector Machine)\n",
        "\n",
        "\n",
        "\n"
      ]
    },
    {
      "cell_type": "code",
      "metadata": {
        "id": "5_YHj5iJffVI",
        "outputId": "1193515b-6bc4-43f2-fd00-f27d9dc5d6b6",
        "colab": {
          "base_uri": "https://localhost:8080/",
          "height": 289
        }
      },
      "source": [
        "from sklearn import metrics\n",
        "\n",
        "from sklearn.ensemble import RandomForestClassifier\n",
        "from sklearn.tree import DecisionTreeClassifier\n",
        "from sklearn.metrics import confusion_matrix\n",
        "from sklearn.metrics import confusion_matrix\n",
        "from sklearn.metrics import classification_report\n",
        "from sklearn.metrics import precision_recall_curve\n",
        "from sklearn import svm\n",
        "from sklearn.naive_bayes import GaussianNB\n",
        "from sklearn.tree import export_graphviz\n",
        "\n",
        "\n",
        "def NaiveBayes(X_train, X_test, y_train, y_test) :  #No tiene buen ajuste Accuracy < 0.80\n",
        "      clf1 = GaussianNB()\n",
        "      clf1 = clf1.fit(X_train,y_train)\n",
        "      y_pred=clf1.predict(X_test)\n",
        "      print(\"Accuracy Naive Bayes :\",metrics.accuracy_score(y_test, y_pred))\n",
        "      print(\"recall Naive Bayes :\",metrics.recall_score(y_test,y_pred))\n",
        "      print(confusion_matrix(y_test, y_pred))\n",
        "      return y_pred\n",
        "\n",
        "def ArbolDecisiones(X_train, X_test, y_train, y_test) :  #No tiene buen ajuste, Accuracy < 0.80\n",
        "      clf1 = DecisionTreeClassifier(criterion = \"gini\", splitter = \"random\", \n",
        "                                    max_depth = 7, min_samples_split = 5, \n",
        "                                    min_samples_leaf = 2, max_features = 2 ) \n",
        "      #Gini y Entropy, no se puede elegir uno ya que suele variar (ejem. cuando uno es 60 - 50, el otro es 70 - 80)\n",
        "      clf1 = clf1.fit(X_train,y_train)\n",
        "      y_pred=clf1.predict(X_test)\n",
        "      print(\"Accuracy Arbol Decision :\",metrics.accuracy_score(y_test, y_pred))\n",
        "      print(\"recall Arbol Decision:\",metrics.recall_score(y_test, y_pred))\n",
        "      print(confusion_matrix(y_test, y_pred))\n",
        "      return y_pred\n",
        "\n",
        "def RandomForest(X_train, X_test, y_train, y_test) : #El que mejor se ajusta, podemos utilizar esto\n",
        "      clf=RandomForestClassifier(n_estimators = 150, max_depth = 11, \n",
        "                                 random_state = 10, criterion = 'gini')\n",
        "      clf.fit(X_train,y_train)\n",
        "      y_pred=clf.predict(X_test)\n",
        "      print(\"Accuracy Random Forest :\",metrics.accuracy_score(y_test, y_pred))\n",
        "      print(\"recall Random Forest :\",metrics.recall_score(y_test,y_pred))\n",
        "      print(confusion_matrix(y_test, y_pred))\n",
        "      return y_pred\n",
        "\n",
        "def SVM(X_train, X_test, y_train, y_test) :\n",
        "    clf = svm.SVC(kernel = 'linear') #Linear Kernel (Sigmoid no, poly 81 - 88, rbf 83 - 86, linear 80 - 82)\n",
        "    clf.fit(X_train, y_train)\n",
        "    y_pred = clf.predict(X_test)\n",
        "    print(\"Accuracy SVM :\",metrics.accuracy_score(y_test, y_pred))\n",
        "    print(\"recall SVM :\",metrics.recall_score(y_test,y_pred))\n",
        "    print(confusion_matrix(y_test, y_pred))\n",
        "    return y_pred\n",
        "\n",
        "ypredNaiveBayes= NaiveBayes(X_train, X_test, y_train, y_test)\n",
        "\n",
        "ypredArbol = ArbolDecisiones(X_train, X_test, y_train, y_test)\n",
        "\n",
        "ypredRandom = RandomForest(X_train, X_test, y_train, y_test)\n",
        "\n",
        "ypredSVM = SVM(X_train, X_test, y_train, y_test)\n"
      ],
      "execution_count": 141,
      "outputs": [
        {
          "output_type": "stream",
          "text": [
            "Accuracy Naive Bayes : 0.7009345794392523\n",
            "recall Naive Bayes : 0.7777777777777778\n",
            "[[40 22]\n",
            " [10 35]]\n",
            "Accuracy Arbol Decision : 0.7850467289719626\n",
            "recall Arbol Decision: 0.8444444444444444\n",
            "[[46 16]\n",
            " [ 7 38]]\n",
            "Accuracy Random Forest : 0.7476635514018691\n",
            "recall Random Forest : 0.9111111111111111\n",
            "[[39 23]\n",
            " [ 4 41]]\n",
            "Accuracy SVM : 0.7009345794392523\n",
            "recall SVM : 0.9333333333333333\n",
            "[[33 29]\n",
            " [ 3 42]]\n"
          ],
          "name": "stdout"
        }
      ]
    },
    {
      "cell_type": "markdown",
      "metadata": {
        "id": "vuASVmOw-fbi"
      },
      "source": [
        "**MATRIZ DE CONFUSION PARA EL ARBOL DE DECISION**"
      ]
    },
    {
      "cell_type": "code",
      "metadata": {
        "id": "zQkYLsVyi8Kq",
        "outputId": "1f5c93cc-7e06-4197-ef4a-debeb0237821",
        "colab": {
          "base_uri": "https://localhost:8080/",
          "height": 173
        }
      },
      "source": [
        "from sklearn.metrics import confusion_matrix\n",
        "from sklearn.metrics import classification_report\n",
        "from sklearn.metrics import precision_recall_curve\n",
        "\n",
        "confusion_matrix(y_test,ypredArbol)\n",
        "pd.crosstab(y_test, ypredArbol, rownames = ['Actual'], colnames =['Predicted'], margins = True)\n"
      ],
      "execution_count": 142,
      "outputs": [
        {
          "output_type": "execute_result",
          "data": {
            "text/html": [
              "<div>\n",
              "<style scoped>\n",
              "    .dataframe tbody tr th:only-of-type {\n",
              "        vertical-align: middle;\n",
              "    }\n",
              "\n",
              "    .dataframe tbody tr th {\n",
              "        vertical-align: top;\n",
              "    }\n",
              "\n",
              "    .dataframe thead th {\n",
              "        text-align: right;\n",
              "    }\n",
              "</style>\n",
              "<table border=\"1\" class=\"dataframe\">\n",
              "  <thead>\n",
              "    <tr style=\"text-align: right;\">\n",
              "      <th>Predicted</th>\n",
              "      <th>0</th>\n",
              "      <th>1</th>\n",
              "      <th>All</th>\n",
              "    </tr>\n",
              "    <tr>\n",
              "      <th>Actual</th>\n",
              "      <th></th>\n",
              "      <th></th>\n",
              "      <th></th>\n",
              "    </tr>\n",
              "  </thead>\n",
              "  <tbody>\n",
              "    <tr>\n",
              "      <th>0</th>\n",
              "      <td>46</td>\n",
              "      <td>16</td>\n",
              "      <td>62</td>\n",
              "    </tr>\n",
              "    <tr>\n",
              "      <th>1</th>\n",
              "      <td>7</td>\n",
              "      <td>38</td>\n",
              "      <td>45</td>\n",
              "    </tr>\n",
              "    <tr>\n",
              "      <th>All</th>\n",
              "      <td>53</td>\n",
              "      <td>54</td>\n",
              "      <td>107</td>\n",
              "    </tr>\n",
              "  </tbody>\n",
              "</table>\n",
              "</div>"
            ],
            "text/plain": [
              "Predicted   0   1  All\n",
              "Actual                \n",
              "0          46  16   62\n",
              "1           7  38   45\n",
              "All        53  54  107"
            ]
          },
          "metadata": {
            "tags": []
          },
          "execution_count": 142
        }
      ]
    },
    {
      "cell_type": "markdown",
      "metadata": {
        "id": "OI5g-XqD-xw4"
      },
      "source": [
        "**MATRIZ DE CONFUSION RANDOM FOREST**"
      ]
    },
    {
      "cell_type": "code",
      "metadata": {
        "id": "Vi9iDPskENvW",
        "outputId": "f422bdd5-a3b3-4d69-ede5-faf2a1ea33bb",
        "colab": {
          "base_uri": "https://localhost:8080/",
          "height": 173
        }
      },
      "source": [
        "confusion_matrix(y_test,ypredRandom)\n",
        "pd.crosstab(y_test, ypredRandom, rownames = ['Actual'], colnames =['Predicted'], margins = True)\n",
        "\n"
      ],
      "execution_count": 143,
      "outputs": [
        {
          "output_type": "execute_result",
          "data": {
            "text/html": [
              "<div>\n",
              "<style scoped>\n",
              "    .dataframe tbody tr th:only-of-type {\n",
              "        vertical-align: middle;\n",
              "    }\n",
              "\n",
              "    .dataframe tbody tr th {\n",
              "        vertical-align: top;\n",
              "    }\n",
              "\n",
              "    .dataframe thead th {\n",
              "        text-align: right;\n",
              "    }\n",
              "</style>\n",
              "<table border=\"1\" class=\"dataframe\">\n",
              "  <thead>\n",
              "    <tr style=\"text-align: right;\">\n",
              "      <th>Predicted</th>\n",
              "      <th>0</th>\n",
              "      <th>1</th>\n",
              "      <th>All</th>\n",
              "    </tr>\n",
              "    <tr>\n",
              "      <th>Actual</th>\n",
              "      <th></th>\n",
              "      <th></th>\n",
              "      <th></th>\n",
              "    </tr>\n",
              "  </thead>\n",
              "  <tbody>\n",
              "    <tr>\n",
              "      <th>0</th>\n",
              "      <td>39</td>\n",
              "      <td>23</td>\n",
              "      <td>62</td>\n",
              "    </tr>\n",
              "    <tr>\n",
              "      <th>1</th>\n",
              "      <td>4</td>\n",
              "      <td>41</td>\n",
              "      <td>45</td>\n",
              "    </tr>\n",
              "    <tr>\n",
              "      <th>All</th>\n",
              "      <td>43</td>\n",
              "      <td>64</td>\n",
              "      <td>107</td>\n",
              "    </tr>\n",
              "  </tbody>\n",
              "</table>\n",
              "</div>"
            ],
            "text/plain": [
              "Predicted   0   1  All\n",
              "Actual                \n",
              "0          39  23   62\n",
              "1           4  41   45\n",
              "All        43  64  107"
            ]
          },
          "metadata": {
            "tags": []
          },
          "execution_count": 143
        }
      ]
    },
    {
      "cell_type": "markdown",
      "metadata": {
        "id": "_lx0ar7cBYQx"
      },
      "source": [
        "**MATRIZ CONFUSION SVM**"
      ]
    },
    {
      "cell_type": "code",
      "metadata": {
        "id": "bv3aXzagEPRM",
        "outputId": "cb8a8880-7696-4d76-d73c-a035258dfb6d",
        "colab": {
          "base_uri": "https://localhost:8080/",
          "height": 173
        }
      },
      "source": [
        "confusion_matrix(y_test,ypredSVM)\n",
        "pd.crosstab(y_test, ypredSVM, rownames = ['Actual'], colnames =['Predicted'], margins = True)"
      ],
      "execution_count": 144,
      "outputs": [
        {
          "output_type": "execute_result",
          "data": {
            "text/html": [
              "<div>\n",
              "<style scoped>\n",
              "    .dataframe tbody tr th:only-of-type {\n",
              "        vertical-align: middle;\n",
              "    }\n",
              "\n",
              "    .dataframe tbody tr th {\n",
              "        vertical-align: top;\n",
              "    }\n",
              "\n",
              "    .dataframe thead th {\n",
              "        text-align: right;\n",
              "    }\n",
              "</style>\n",
              "<table border=\"1\" class=\"dataframe\">\n",
              "  <thead>\n",
              "    <tr style=\"text-align: right;\">\n",
              "      <th>Predicted</th>\n",
              "      <th>0</th>\n",
              "      <th>1</th>\n",
              "      <th>All</th>\n",
              "    </tr>\n",
              "    <tr>\n",
              "      <th>Actual</th>\n",
              "      <th></th>\n",
              "      <th></th>\n",
              "      <th></th>\n",
              "    </tr>\n",
              "  </thead>\n",
              "  <tbody>\n",
              "    <tr>\n",
              "      <th>0</th>\n",
              "      <td>33</td>\n",
              "      <td>29</td>\n",
              "      <td>62</td>\n",
              "    </tr>\n",
              "    <tr>\n",
              "      <th>1</th>\n",
              "      <td>3</td>\n",
              "      <td>42</td>\n",
              "      <td>45</td>\n",
              "    </tr>\n",
              "    <tr>\n",
              "      <th>All</th>\n",
              "      <td>36</td>\n",
              "      <td>71</td>\n",
              "      <td>107</td>\n",
              "    </tr>\n",
              "  </tbody>\n",
              "</table>\n",
              "</div>"
            ],
            "text/plain": [
              "Predicted   0   1  All\n",
              "Actual                \n",
              "0          33  29   62\n",
              "1           3  42   45\n",
              "All        36  71  107"
            ]
          },
          "metadata": {
            "tags": []
          },
          "execution_count": 144
        }
      ]
    },
    {
      "cell_type": "markdown",
      "metadata": {
        "id": "bJwxSJ2fBfHj"
      },
      "source": [
        "**METRICAS DEL ARBOL DE DECISION**"
      ]
    },
    {
      "cell_type": "code",
      "metadata": {
        "id": "Hj4t35IGjKLx",
        "outputId": "f0158212-a340-4e50-cf9d-8765b89eef3c",
        "colab": {
          "base_uri": "https://localhost:8080/",
          "height": 170
        }
      },
      "source": [
        "print(classification_report(y_test, ypredArbol))"
      ],
      "execution_count": 145,
      "outputs": [
        {
          "output_type": "stream",
          "text": [
            "              precision    recall  f1-score   support\n",
            "\n",
            "           0       0.87      0.74      0.80        62\n",
            "           1       0.70      0.84      0.77        45\n",
            "\n",
            "    accuracy                           0.79       107\n",
            "   macro avg       0.79      0.79      0.78       107\n",
            "weighted avg       0.80      0.79      0.79       107\n",
            "\n"
          ],
          "name": "stdout"
        }
      ]
    },
    {
      "cell_type": "markdown",
      "metadata": {
        "id": "blUqwduzBeTT"
      },
      "source": [
        "**METRICAS DE SCORE RANDOM FOREST**"
      ]
    },
    {
      "cell_type": "code",
      "metadata": {
        "id": "I-4UDntfE-Kc",
        "outputId": "9952923f-e3e3-458e-d7d0-dc2172b41572",
        "colab": {
          "base_uri": "https://localhost:8080/",
          "height": 170
        }
      },
      "source": [
        "print(classification_report(y_test, ypredRandom))"
      ],
      "execution_count": 146,
      "outputs": [
        {
          "output_type": "stream",
          "text": [
            "              precision    recall  f1-score   support\n",
            "\n",
            "           0       0.91      0.63      0.74        62\n",
            "           1       0.64      0.91      0.75        45\n",
            "\n",
            "    accuracy                           0.75       107\n",
            "   macro avg       0.77      0.77      0.75       107\n",
            "weighted avg       0.79      0.75      0.75       107\n",
            "\n"
          ],
          "name": "stdout"
        }
      ]
    },
    {
      "cell_type": "markdown",
      "metadata": {
        "id": "ucVqFFRGB6ix"
      },
      "source": [
        "**METRICAS SCORE SVM**"
      ]
    },
    {
      "cell_type": "code",
      "metadata": {
        "id": "WtCcF3vTE-sZ",
        "outputId": "18bbecbf-6b09-420e-d369-e5cd36fd3097",
        "colab": {
          "base_uri": "https://localhost:8080/",
          "height": 170
        }
      },
      "source": [
        "print(classification_report(y_test, ypredSVM))"
      ],
      "execution_count": 147,
      "outputs": [
        {
          "output_type": "stream",
          "text": [
            "              precision    recall  f1-score   support\n",
            "\n",
            "           0       0.92      0.53      0.67        62\n",
            "           1       0.59      0.93      0.72        45\n",
            "\n",
            "    accuracy                           0.70       107\n",
            "   macro avg       0.75      0.73      0.70       107\n",
            "weighted avg       0.78      0.70      0.69       107\n",
            "\n"
          ],
          "name": "stdout"
        }
      ]
    },
    {
      "cell_type": "markdown",
      "metadata": {
        "id": "qUhKKIr7CEif"
      },
      "source": [
        "**ANALISIS MATRIZ DE CONFUSION RANDOM FOREST**"
      ]
    },
    {
      "cell_type": "code",
      "metadata": {
        "id": "UJjhO7ZDhySS",
        "outputId": "32aa7a48-93f8-4ace-c28a-634a4bc28460",
        "colab": {
          "base_uri": "https://localhost:8080/",
          "height": 282
        }
      },
      "source": [
        "sns.heatmap(confusion_matrix(y_test,ypredRandom), annot=True, cmap='YlGnBu')"
      ],
      "execution_count": 148,
      "outputs": [
        {
          "output_type": "execute_result",
          "data": {
            "text/plain": [
              "<matplotlib.axes._subplots.AxesSubplot at 0x7f6fe04d2550>"
            ]
          },
          "metadata": {
            "tags": []
          },
          "execution_count": 148
        },
        {
          "output_type": "display_data",
          "data": {
            "image/png": "[encoded data removed]",
            "text/plain": [
              "<Figure size 432x288 with 2 Axes>"
            ]
          },
          "metadata": {
            "tags": [],
            "needs_background": "light"
          }
        }
      ]
    },
    {
      "cell_type": "code",
      "metadata": {
        "id": "BAy1nW5nO0DI",
        "outputId": "37451d46-f953-4095-ea69-1e917eeede05",
        "colab": {
          "base_uri": "https://localhost:8080/",
          "height": 272
        }
      },
      "source": [
        "!pip install plot-metric"
      ],
      "execution_count": 149,
      "outputs": [
        {
          "output_type": "stream",
          "text": [
            "Requirement already satisfied: plot-metric in /usr/local/lib/python3.6/dist-packages (0.0.6)\n",
            "Requirement already satisfied: scikit-learn>=0.21.2 in /usr/local/lib/python3.6/dist-packages (from plot-metric) (0.22.2.post1)\n",
            "Requirement already satisfied: scipy>=1.1.0 in /usr/local/lib/python3.6/dist-packages (from plot-metric) (1.4.1)\n",
            "Requirement already satisfied: matplotlib>=3.0.2 in /usr/local/lib/python3.6/dist-packages (from plot-metric) (3.2.2)\n",
            "Requirement already satisfied: numpy>=1.15.4 in /usr/local/lib/python3.6/dist-packages (from plot-metric) (1.18.5)\n",
            "Requirement already satisfied: pandas>=0.23.4 in /usr/local/lib/python3.6/dist-packages (from plot-metric) (1.1.2)\n",
            "Requirement already satisfied: seaborn>=0.9.0 in /usr/local/lib/python3.6/dist-packages (from plot-metric) (0.11.0)\n",
            "Requirement already satisfied: colorlover>=0.3.0 in /usr/local/lib/python3.6/dist-packages (from plot-metric) (0.3.0)\n",
            "Requirement already satisfied: joblib>=0.11 in /usr/local/lib/python3.6/dist-packages (from scikit-learn>=0.21.2->plot-metric) (0.16.0)\n",
            "Requirement already satisfied: cycler>=0.10 in /usr/local/lib/python3.6/dist-packages (from matplotlib>=3.0.2->plot-metric) (0.10.0)\n",
            "Requirement already satisfied: python-dateutil>=2.1 in /usr/local/lib/python3.6/dist-packages (from matplotlib>=3.0.2->plot-metric) (2.8.1)\n",
            "Requirement already satisfied: pyparsing!=2.0.4,!=2.1.2,!=2.1.6,>=2.0.1 in /usr/local/lib/python3.6/dist-packages (from matplotlib>=3.0.2->plot-metric) (2.4.7)\n",
            "Requirement already satisfied: kiwisolver>=1.0.1 in /usr/local/lib/python3.6/dist-packages (from matplotlib>=3.0.2->plot-metric) (1.2.0)\n",
            "Requirement already satisfied: pytz>=2017.2 in /usr/local/lib/python3.6/dist-packages (from pandas>=0.23.4->plot-metric) (2018.9)\n",
            "Requirement already satisfied: six in /usr/local/lib/python3.6/dist-packages (from cycler>=0.10->matplotlib>=3.0.2->plot-metric) (1.15.0)\n"
          ],
          "name": "stdout"
        }
      ]
    },
    {
      "cell_type": "markdown",
      "metadata": {
        "id": "i1WIJrNtCULF"
      },
      "source": [
        "**METRICAS DE LA CURVA ROC RANDOM FORREST**"
      ]
    },
    {
      "cell_type": "code",
      "metadata": {
        "id": "M7hSN37JOoZc",
        "outputId": "b938c6ac-879a-4d6d-e6bd-b2b505494ff0",
        "colab": {
          "base_uri": "https://localhost:8080/",
          "height": 513
        }
      },
      "source": [
        "#random forest\n",
        "clf=RandomForestClassifier(n_estimators = 150, max_depth = 11,random_state = 10, criterion = 'gini')\n",
        "clf.fit(X_train,y_train)\n",
        "from plot_metric.functions import BinaryClassification\n",
        "# Visualisation with plot_metric\n",
        "bc = BinaryClassification(y_test, ypredRandom, labels=[\"SI\", \"NO\"])\n",
        "\n",
        "# Figures\n",
        "plt.figure(figsize=(8,8))\n",
        "bc.plot_roc_curve()\n",
        "plt.show()"
      ],
      "execution_count": 150,
      "outputs": [
        {
          "output_type": "display_data",
          "data": {
            "image/png": "[encoded data removed]",
            "text/plain": [
              "<Figure size 576x576 with 1 Axes>"
            ]
          },
          "metadata": {
            "tags": []
          }
        }
      ]
    },
    {
      "cell_type": "markdown",
      "metadata": {
        "id": "pbzW4yYyHPTS"
      },
      "source": [
        "**ENTRADAS DE DATOS PARA EL MODELO**"
      ]
    },
    {
      "cell_type": "code",
      "metadata": {
        "id": "fpjPWIs006Pp",
        "outputId": "f091e238-e17d-45aa-95bc-c7f38805d9b4",
        "colab": {
          "base_uri": "https://localhost:8080/",
          "height": 782
        }
      },
      "source": [
        "num_array = list()\n",
        "for i in range(16):\n",
        "    if i==1:\n",
        "      print('¿Cuál es tu género? \\n MUJER : 1  Hombre : 0')\n",
        "      n = input()\n",
        "    if i==2:\n",
        "      print(\"¿Cuál es tu edad? \")\n",
        "      n = input()\n",
        "    if i==3:\n",
        "      print(\"¿Cómo te consideras? \\n Amistoso = 1 Timido = 0\")\n",
        "      n = input()\n",
        "      num_array.append(int(n))\n",
        "    if i==4:\n",
        "      print(\"¿Fumas actualmente? \\n Si = 1 No = 0\")\n",
        "      n = input()\n",
        "      num_array.append(int(n))\n",
        "    if i==5:\n",
        "      print(\"¿Que consumes al fumar? \\n Ninguno = 0 - Cigarrillo = 1 - Marihuana = 2 - Vapes = 3 - Shisha =4\")\n",
        "      n = input()\n",
        "      num_array.append(int(n))\n",
        "    if i==6:\n",
        "      print(\"¿Tomas bebidas alcohólicas? \\n Si = 1 No = 0 \")\n",
        "      n = input()\n",
        "      num_array.append(int(n))\n",
        "    if i==7:\n",
        "      print(\"¿Cuan a menudo tomas bebidas alcohólicas? \\n Nunca = 0 - De vez en cuando = 1 - Mensualmente = 2 - Semanalmente = 3 - Diariamente = 4\")\n",
        "      n = input()\n",
        "      num_array.append(int(n))\n",
        "    if i==8:\n",
        "      print(\"¿Sientes que tienes problemas familiares o del algún tipo? \\n Si = 1 No = 0 \")\n",
        "      n = input()\n",
        "      num_array.append(int(n))\n",
        "    if i==9:\n",
        "      print(\"Tus padres son: \\n Casados = 0 - Separados = 1 - Divorciados = 2 - Viudos = 3 - Otro = 4\")\n",
        "      n = input()\n",
        "      num_array.append(int(n))\n",
        "    if i==10:\n",
        "      print(\"¿Tienes una relación amorosa ? \\n Si = 1 No = 0 \")\n",
        "      n = input()\n",
        "      num_array.append(int(n))\n",
        "    if i==11:\n",
        "      print(\"¿Te sientes solo ? \\n Si = 1 No = 0 \")\n",
        "      n = input()\n",
        "      num_array.append(int(n))\n",
        "    if i==12:\n",
        "      print(\"¿Sufres de insomnio? \\n Si = 1 No = 0 \")\n",
        "      n = input()\n",
        "      num_array.append(int(n))\n",
        "    if i==13:\n",
        "      print(\"¿Consideras que tienes un desorden alimenticio? \\n Si = 1 No = 0 \")\n",
        "      n = input()\n",
        "      num_array.append(int(n))\n",
        "    if i==14:\n",
        "      print(\"¿Eres feliz? \\n Si = 1 No = 0 \")\n",
        "      n = input()\n",
        "      num_array.append(int(n))\n",
        "    if i==15:\n",
        "      print(\"¿Alguna vez deseaste estar muerto? \\n Si = 1 No = 0 \")\n",
        "      n = input()\n",
        "      num_array.append(int(n))\n",
        "\n",
        "print(num_array)"
      ],
      "execution_count": 151,
      "outputs": [
        {
          "output_type": "stream",
          "text": [
            "¿Cuál es tu género? \n",
            " MUJER : 1  Hombre : 0\n",
            "0\n",
            "¿Cuál es tu edad? \n",
            "1\n",
            "¿Cómo te consideras? \n",
            " Amistoso = 1 Timido = 0\n",
            "0\n",
            "¿Fumas actualmente? \n",
            " Si = 1 No = 0\n",
            "1\n",
            "¿Que consumes al fumar? \n",
            " Ninguno = 0 - Cigarrillo = 1 - Marihuana = 2 - Vapes = 3 - Shisha =4\n",
            "0\n",
            "¿Tomas bebidas alcohólicas? \n",
            " Si = 1 No = 0 \n",
            "1\n",
            "¿Cuan a menudo tomas bebidas alcohólicas? \n",
            " Nunca = 0 - De vez en cuando = 1 - Mensualmente = 2 - Semanalmente = 3 - Diariamente = 4\n",
            "2\n",
            "¿Sientes que tienes problemas familiares o del algún tipo? \n",
            " Si = 1 No = 0 \n",
            "1\n",
            "Tus padres son: \n",
            " Casados = 0 - Separados = 1 - Divorciados = 2 - Viudos = 3 - Otro = 4\n",
            "1\n",
            "¿Tienes una relación amorosa ? \n",
            " Si = 1 No = 0 \n",
            "0\n",
            "¿Te sientes solo ? \n",
            " Si = 1 No = 0 \n",
            "1\n",
            "¿Sufres de insomnio? \n",
            " Si = 1 No = 0 \n",
            "1\n",
            "¿Consideras que tienes un desorden alimenticio? \n",
            " Si = 1 No = 0 \n",
            "1\n",
            "¿Eres feliz? \n",
            " Si = 1 No = 0 \n",
            "0\n",
            "¿Alguna vez deseaste estar muerto? \n",
            " Si = 1 No = 0 \n",
            "0\n",
            "[0, 1, 0, 1, 2, 1, 1, 0, 1, 1, 1, 0, 0]\n"
          ],
          "name": "stdout"
        }
      ]
    },
    {
      "cell_type": "markdown",
      "metadata": {
        "id": "nJdjM2ebHKnQ"
      },
      "source": [
        "**SALIDA DE LA PREDICCION**"
      ]
    },
    {
      "cell_type": "code",
      "metadata": {
        "id": "aGls_svp-9d5",
        "outputId": "5ced9d92-8389-4c52-83d6-efaca0681cfe",
        "colab": {
          "base_uri": "https://localhost:8080/",
          "height": 34
        }
      },
      "source": [
        "clf=RandomForestClassifier(n_estimators = 150, max_depth = 11,random_state = 10, criterion = 'gini')\n",
        "clf.fit(X_train,y_train)\n",
        "\n",
        "y_pred1=clf.predict([num_array])\n",
        "\n",
        "if  y_pred1==1:\n",
        "  print(\"SUICIDIO\")\n",
        "else:\n",
        "  print(\"NO SUICIDIO\")\n",
        "       "
      ],
      "execution_count": 152,
      "outputs": [
        {
          "output_type": "stream",
          "text": [
            "NO SUICIDIO\n"
          ],
          "name": "stdout"
        }
      ]
    },
    {
      "cell_type": "code",
      "metadata": {
        "id": "0YX4BFe3At1f",
        "outputId": "ca0d6df3-6c7a-4f21-a5d8-3faf9e3f18bb",
        "colab": {
          "base_uri": "https://localhost:8080/",
          "height": 34
        }
      },
      "source": [
        "print(clf.predict_proba([num_array])[:,1])"
      ],
      "execution_count": 153,
      "outputs": [
        {
          "output_type": "stream",
          "text": [
            "[0.25644444]\n"
          ],
          "name": "stdout"
        }
      ]
    }
  ]
}